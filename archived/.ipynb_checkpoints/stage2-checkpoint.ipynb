{
 "cells": [
  {
   "cell_type": "code",
   "execution_count": 114,
   "metadata": {},
   "outputs": [],
   "source": [
    "%matplotlib inline\n",
    "\n",
    "import numpy as np\n",
    "import matplotlib.pyplot as plt\n",
    "\n",
    "from sotodlib import core\n",
    "import sotodlib.io.load as io_load\n",
    "\n",
    "from moby2.analysis import socompat\n",
    "socompat.register_loaders()\n",
    "\n",
    "import tools\n",
    "\n",
    "#from IPython.core.interactiveshell import InteractiveShell\n",
    "#InteractiveShell.ast_node_interactivity = \"all\""
   ]
  },
  {
   "cell_type": "code",
   "execution_count": 3,
   "metadata": {},
   "outputs": [],
   "source": [
    "from sotodlib.core import FlagManager\n",
    "\n",
    "import sotodlib.flags as flags\n",
    "import sotodlib.sim_flags as sim_flags\n",
    "\n",
    "import sotodlib.tod_ops.filters as filters\n",
    "\n",
    "from sotodlib.tod_ops import fourier_filter, rfft, detrend_data"
   ]
  },
  {
   "cell_type": "code",
   "execution_count": 4,
   "metadata": {},
   "outputs": [
    {
     "data": {
      "text/plain": [
       "<module 'tools' from '/global/cscratch1/sd/hongbo/my_fct/tools.py'>"
      ]
     },
     "execution_count": 4,
     "metadata": {},
     "output_type": "execute_result"
    }
   ],
   "source": [
    "import tools\n",
    "import importlib\n",
    "importlib.reload(tools)\n",
    "from tools import in_range"
   ]
  },
  {
   "cell_type": "code",
   "execution_count": 2,
   "metadata": {},
   "outputs": [],
   "source": [
    "nersc_todsims = '/global/project/projectdirs/sobs/todsims/pipe-s0001/v4/context.yaml'"
   ]
  },
  {
   "cell_type": "code",
   "execution_count": 192,
   "metadata": {},
   "outputs": [
    {
     "data": {
      "text/plain": [
       "Context([('tags',\n",
       "          {'sim_base_dir': '/global/project/projectdirs/sobs/todsims/pipe-s0001/v4',\n",
       "           'meta_dir': '/global/project/projectdirs/sobs/todsims/pipe-s0001/v4'}),\n",
       "         ('obsfiledb',\n",
       "          '/global/project/projectdirs/sobs/todsims/pipe-s0001/v4/obsfiledb.sqlite'),\n",
       "         ('detdb',\n",
       "          '/global/project/projectdirs/sobs/todsims/pipe-s0001/v4/detdb_lat.gz'),\n",
       "         ('obsdb',\n",
       "          '/global/project/projectdirs/sobs/todsims/pipe-s0001/v4/obsdb.gz'),\n",
       "         ('obs_colon_tags', ['band', 'wafer', 'fcode']),\n",
       "         ('obs_loader_type', 'pipe-s0001'),\n",
       "         ('metadata',\n",
       "          [{'db': '/global/project/projectdirs/sobs/todsims/pipe-s0001/v4/focalplane.gz',\n",
       "            'name': 'focal_plane'}])])"
      ]
     },
     "execution_count": 192,
     "metadata": {},
     "output_type": "execute_result"
    },
    {
     "data": {
      "text/plain": [
       "{'sim_base_dir': '/global/project/projectdirs/sobs/todsims/pipe-s0001/v4',\n",
       " 'meta_dir': '/global/project/projectdirs/sobs/todsims/pipe-s0001/v4'}"
      ]
     },
     "execution_count": 192,
     "metadata": {},
     "output_type": "execute_result"
    },
    {
     "data": {
      "text/plain": [
       "['band', 'wafer', 'fcode']"
      ]
     },
     "execution_count": 192,
     "metadata": {},
     "output_type": "execute_result"
    }
   ],
   "source": [
    "context = core.Context(nersc_todsims)\n",
    "context\n",
    "context['tags']\n",
    "context['obs_colon_tags']"
   ]
  },
  {
   "cell_type": "code",
   "execution_count": 329,
   "metadata": {},
   "outputs": [
    {
     "data": {
      "text/plain": [
       "OrderedDict([('obs_id',\n",
       "              'CES-Atacama-LAT-Tier1DEC-035..-045_RA+040..+050-11-1_MFS'),\n",
       "             ('timestamp', 1626449573.009091),\n",
       "             ('drift', 'setting'),\n",
       "             ('az_min', -130.4098412216854),\n",
       "             ('az_max', -116.87015877757722),\n",
       "             ('az_med', -123.61455075511341),\n",
       "             ('el_min', 37.990003453719524),\n",
       "             ('el_max', 40.989996545165155),\n",
       "             ('el_med', 39.489999999999995),\n",
       "             ('is_const_el', 0),\n",
       "             ('is_const_az', 0),\n",
       "             ('is_stare', 0)])"
      ]
     },
     "execution_count": 329,
     "metadata": {},
     "output_type": "execute_result"
    },
    {
     "data": {
      "text/plain": [
       "'CES-Atacama-LAT-Tier1DEC-035..-045_RA+040..+050-11-1_MFS'"
      ]
     },
     "execution_count": 329,
     "metadata": {},
     "output_type": "execute_result"
    }
   ],
   "source": [
    "obs_list = context.obsdb.get()\n",
    "num = 200\n",
    "my_obs = obs_list[num]\n",
    "my_obs\n",
    "my_obs['obs_id']"
   ]
  },
  {
   "cell_type": "code",
   "execution_count": 330,
   "metadata": {},
   "outputs": [
    {
     "data": {
      "text/plain": [
       "'CES-Atacama-LAT-Tier1DEC-035..-045_RA+040..+050-11-1_MFS'"
      ]
     },
     "execution_count": 330,
     "metadata": {},
     "output_type": "execute_result"
    }
   ],
   "source": [
    "my_obs['obs_id']"
   ]
  },
  {
   "cell_type": "code",
   "execution_count": 331,
   "metadata": {},
   "outputs": [
    {
     "data": {
      "text/plain": [
       "['MFS1_wafer_26',\n",
       " 'MFS1_wafer_27',\n",
       " 'MFS1_wafer_28',\n",
       " 'MFS1_wafer_29',\n",
       " 'MFS1_wafer_30',\n",
       " 'MFS1_wafer_31',\n",
       " 'MFS2_wafer_26',\n",
       " 'MFS2_wafer_27',\n",
       " 'MFS2_wafer_28',\n",
       " 'MFS2_wafer_29',\n",
       " 'MFS2_wafer_30',\n",
       " 'MFS2_wafer_31']"
      ]
     },
     "execution_count": 331,
     "metadata": {},
     "output_type": "execute_result"
    },
    {
     "data": {
      "text/plain": [
       "list"
      ]
     },
     "execution_count": 331,
     "metadata": {},
     "output_type": "execute_result"
    },
    {
     "data": {
      "text/plain": [
       "['26_000_MFS1_A', '26_000_MFS1_B']"
      ]
     },
     "execution_count": 331,
     "metadata": {},
     "output_type": "execute_result"
    }
   ],
   "source": [
    "# get detsets from an observation\n",
    "det_sets = context.obsfiledb.get_detsets(my_obs['obs_id'])\n",
    "det_sets\n",
    "det_set = det_sets[0]\n",
    "\n",
    "# get single detector from one detector set\n",
    "dets = context.obsfiledb.get_dets(det_set)\n",
    "#det\n",
    "type(dets)\n",
    "dets[0:2]"
   ]
  },
  {
   "cell_type": "code",
   "execution_count": 372,
   "metadata": {},
   "outputs": [],
   "source": [
    "tod = context.get_obs(my_obs, dets=dets[0:5])"
   ]
  },
  {
   "cell_type": "code",
   "execution_count": 373,
   "metadata": {},
   "outputs": [
    {
     "name": "stdout",
     "output_type": "stream",
     "text": [
      "Trimming in time...\n"
     ]
    },
    {
     "data": {
      "text/plain": [
       "AxisManager(signal[dets,samps], timestamps[samps], boresight*[samps], qboresight_azel[samps,4], qboresight_radec[samps,4], site*[samps], flags*[dets,samps], focal_plane*[dets], dets:LabelAxis(5), samps:OffsetAxis(183478))"
      ]
     },
     "execution_count": 373,
     "metadata": {},
     "output_type": "execute_result"
    },
    {
     "name": "stdout",
     "output_type": "stream",
     "text": [
      "The TOD now has 183478 samples\n"
     ]
    }
   ],
   "source": [
    "tsamp = np.median(np.diff(tod.timestamps))\n",
    "n_cut = int(10//tsamp)\n",
    "print('Trimming in time...')\n",
    "\n",
    "tod.restrict('samps', (n_cut, tod.samps.count-n_cut))\n",
    "print('The TOD now has {} samples'.format(tod.samps.count))"
   ]
  },
  {
   "cell_type": "code",
   "execution_count": 374,
   "metadata": {},
   "outputs": [],
   "source": [
    "# now my tod has two \n",
    "#fig = plt.figure(figsize=(6,3.5))\n",
    "#for i in range(tod.dets.count):\n",
    "    #plt.plot(tod.timestamps, tod.signal[i])"
   ]
  },
  {
   "cell_type": "code",
   "execution_count": 375,
   "metadata": {},
   "outputs": [
    {
     "data": {
      "text/plain": [
       "AxisManager(signal[dets,samps], timestamps[samps], boresight*[samps], qboresight_azel[samps,4], qboresight_radec[samps,4], site*[samps], flags*[dets,samps], focal_plane*[dets], badness[dets,samps], bad_signal[dets,samps], dets:LabelAxis(5), samps:OffsetAxis(183478))"
      ]
     },
     "execution_count": 375,
     "metadata": {},
     "output_type": "execute_result"
    }
   ],
   "source": [
    "if 'badness' in tod:\n",
    "        tod.move('badness', None)\n",
    "sim_flags.add_random_glitches(tod, params={'n_glitch':2, 'sig_n_glitch' : 0,'h_glitch':2}, signal='badness', overwrite='True')\n",
    "\n",
    "if 'bad_signal' in tod:\n",
    "        tod.move('bad_signal', None)\n",
    "# wrap the glitches to the tod\n",
    "tod.wrap('bad_signal', tod.signal+tod.badness, [(0, tod.dets), (1, tod.samps)])"
   ]
  },
  {
   "cell_type": "code",
   "execution_count": 376,
   "metadata": {},
   "outputs": [],
   "source": [
    "# now my tod has more than 1 det\n",
    "#fig = plt.figure(figsize=(6,3.5))\n",
    "#for i in range(tod.dets.count):\n",
    "    #plt.plot(tod.timestamps, tod.bad_signal[i])"
   ]
  },
  {
   "cell_type": "code",
   "execution_count": 377,
   "metadata": {},
   "outputs": [
    {
     "data": {
      "text/plain": [
       "array([[124723, 124724],\n",
       "       [147160, 147161]], dtype=int32)"
      ]
     },
     "execution_count": 377,
     "metadata": {},
     "output_type": "execute_result"
    },
    {
     "data": {
      "text/plain": [
       "array([[124490, 124958],\n",
       "       [146928, 147400],\n",
       "       [150878, 151285],\n",
       "       [183276, 183478]], dtype=int32)"
      ]
     },
     "execution_count": 377,
     "metadata": {},
     "output_type": "execute_result"
    },
    {
     "data": {
      "text/plain": [
       "array([[47945, 47946]], dtype=int32)"
      ]
     },
     "execution_count": 377,
     "metadata": {},
     "output_type": "execute_result"
    },
    {
     "data": {
      "text/plain": [
       "array([[ 47718,  48163],\n",
       "       [150883, 151285]], dtype=int32)"
      ]
     },
     "execution_count": 377,
     "metadata": {},
     "output_type": "execute_result"
    },
    {
     "data": {
      "text/plain": [
       "array([[154108, 154109]], dtype=int32)"
      ]
     },
     "execution_count": 377,
     "metadata": {},
     "output_type": "execute_result"
    },
    {
     "data": {
      "text/plain": [
       "array([[150879, 151285],\n",
       "       [153876, 154341]], dtype=int32)"
      ]
     },
     "execution_count": 377,
     "metadata": {},
     "output_type": "execute_result"
    },
    {
     "data": {
      "text/plain": [
       "array([[  1879,   1880],\n",
       "       [ 19289,  19290],\n",
       "       [128749, 128750]], dtype=int32)"
      ]
     },
     "execution_count": 377,
     "metadata": {},
     "output_type": "execute_result"
    },
    {
     "data": {
      "text/plain": [
       "array([[  1644,   2115],\n",
       "       [ 19057,  19507],\n",
       "       [128532, 128980],\n",
       "       [150879, 151287]], dtype=int32)"
      ]
     },
     "execution_count": 377,
     "metadata": {},
     "output_type": "execute_result"
    },
    {
     "data": {
      "text/plain": [
       "array([[ 48130,  48131],\n",
       "       [ 69600,  69601],\n",
       "       [105549, 105550]], dtype=int32)"
      ]
     },
     "execution_count": 377,
     "metadata": {},
     "output_type": "execute_result"
    },
    {
     "data": {
      "text/plain": [
       "array([[ 47897,  48362],\n",
       "       [ 69367,  69837],\n",
       "       [105317, 105778],\n",
       "       [150880, 151284]], dtype=int32)"
      ]
     },
     "execution_count": 377,
     "metadata": {},
     "output_type": "execute_result"
    },
    {
     "data": {
      "text/plain": [
       "<Figure size 432x252 with 0 Axes>"
      ]
     },
     "metadata": {},
     "output_type": "display_data"
    }
   ],
   "source": [
    "# now my tod has more than 1 det\n",
    "fig = plt.figure(figsize=(6,3.5))\n",
    "for i in range(tod.dets.count):\n",
    "    tod.flags.true_glitches[i].ranges()\n",
    "    flags.get_glitch_flags(tod, signal=signal_name, overwrite=True).ranges[i].ranges()"
   ]
  },
  {
   "cell_type": "code",
   "execution_count": 378,
   "metadata": {},
   "outputs": [
    {
     "name": "stderr",
     "output_type": "stream",
     "text": [
      "/global/common/software/cmb/cori/cmbenv-gcc_20200614/cmbenv_python/lib/python3.7/site-packages/ipykernel/__main__.py:4: FutureWarning: arrays to stack must be passed as a \"sequence\" type such as list or tuple. Support for non-sequence iterables such as generators is deprecated as of NumPy 1.16 and will raise an error in the future.\n"
     ]
    }
   ],
   "source": [
    "found_glitches = flags.get_glitch_flags(tod, signal=signal_name, overwrite=True).ranges\n",
    "true_glitches = tod.flags.true_glitches\n",
    "found_glitches_ranges2D = np.vstack([r.mask() for r in found_glitches])\n",
    "true_glitches_ranges2D = np.vstack(r.mask() for r in true_glitches)"
   ]
  },
  {
   "cell_type": "code",
   "execution_count": 379,
   "metadata": {},
   "outputs": [],
   "source": [
    "result = found_glitches_ranges2D*true_glitches_ranges2D\n",
    "true_sum = true_glitches_ranges2D.sum()\n",
    "found_sum = sum([mr.ranges().size/2 for mr in found_glitches])\n",
    "found_true_sum = result.sum()"
   ]
  },
  {
   "cell_type": "code",
   "execution_count": 394,
   "metadata": {},
   "outputs": [
    {
     "data": {
      "text/plain": [
       "10"
      ]
     },
     "execution_count": 394,
     "metadata": {},
     "output_type": "execute_result"
    },
    {
     "data": {
      "text/plain": [
       "16.0"
      ]
     },
     "execution_count": 394,
     "metadata": {},
     "output_type": "execute_result"
    },
    {
     "data": {
      "text/plain": [
       "10"
      ]
     },
     "execution_count": 394,
     "metadata": {},
     "output_type": "execute_result"
    }
   ],
   "source": [
    "true_sum\n",
    "found_sum \n",
    "found_true_sum"
   ]
  },
  {
   "cell_type": "code",
   "execution_count": 382,
   "metadata": {},
   "outputs": [],
   "source": [
    "def test_glitch(tod):\n",
    "    found_glitches = flags.get_glitch_flags(tod, signal=signal_name, overwrite=True).ranges\n",
    "    true_glitches = tod.flags.true_glitches\n",
    "    \n",
    "    found_glitches_ranges2D = np.vstack([r.mask() for r in found_glitches])\n",
    "    true_glitches_ranges2D = np.vstack(r.mask() for r in true_glitches)\n",
    "    \n",
    "    result = found_glitches_ranges2D*true_glitches_ranges2D\n",
    "    true_sum = true_glitches_ranges2D.sum()\n",
    "    found_sum = sum([mr.ranges().size/2 for mr in found_glitches])\n",
    "    found_true_sum = result.sum()\n",
    "    \n",
    "    detection_rate = found_true_sum/true_sum\n",
    "    true_positive_rate = found_true_sum/found_sum\n",
    "    false_positive_rate = 1 - true_positive_rate\n",
    "    \n",
    "    return detection_rate, true_positive_rate, false_positive_rate"
   ]
  },
  {
   "cell_type": "code",
   "execution_count": 390,
   "metadata": {},
   "outputs": [
    {
     "data": {
      "text/plain": [
       "AxisManager(signal[dets,samps], timestamps[samps], boresight*[samps], qboresight_azel[samps,4], qboresight_radec[samps,4], site*[samps], flags*[dets,samps], focal_plane*[dets], dets:LabelAxis(100), samps:OffsetAxis(310758))"
      ]
     },
     "execution_count": 390,
     "metadata": {},
     "output_type": "execute_result"
    },
    {
     "data": {
      "text/plain": [
       "AxisManager(signal[dets,samps], timestamps[samps], boresight*[samps], qboresight_azel[samps,4], qboresight_radec[samps,4], site*[samps], flags*[dets,samps], focal_plane*[dets], badness[dets,samps], bad_signal[dets,samps], dets:LabelAxis(100), samps:OffsetAxis(310758))"
      ]
     },
     "execution_count": 390,
     "metadata": {},
     "output_type": "execute_result"
    },
    {
     "name": "stderr",
     "output_type": "stream",
     "text": [
      "/global/common/software/cmb/cori/cmbenv-gcc_20200614/cmbenv_python/lib/python3.7/site-packages/ipykernel/__main__.py:6: FutureWarning: arrays to stack must be passed as a \"sequence\" type such as list or tuple. Support for non-sequence iterables such as generators is deprecated as of NumPy 1.16 and will raise an error in the future.\n"
     ]
    },
    {
     "data": {
      "text/plain": [
       "AxisManager(signal[dets,samps], timestamps[samps], boresight*[samps], qboresight_azel[samps,4], qboresight_radec[samps,4], site*[samps], flags*[dets,samps], focal_plane*[dets], bad_signal[dets,samps], dets:LabelAxis(100), samps:OffsetAxis(310758))"
      ]
     },
     "execution_count": 390,
     "metadata": {},
     "output_type": "execute_result"
    },
    {
     "data": {
      "text/plain": [
       "AxisManager(signal[dets,samps], timestamps[samps], boresight*[samps], qboresight_azel[samps,4], qboresight_radec[samps,4], site*[samps], flags*[dets,samps], focal_plane*[dets], badness[dets,samps], dets:LabelAxis(100), samps:OffsetAxis(310758))"
      ]
     },
     "execution_count": 390,
     "metadata": {},
     "output_type": "execute_result"
    },
    {
     "data": {
      "text/plain": [
       "AxisManager(signal[dets,samps], timestamps[samps], boresight*[samps], qboresight_azel[samps,4], qboresight_radec[samps,4], site*[samps], flags*[dets,samps], focal_plane*[dets], badness[dets,samps], bad_signal[dets,samps], dets:LabelAxis(100), samps:OffsetAxis(310758))"
      ]
     },
     "execution_count": 390,
     "metadata": {},
     "output_type": "execute_result"
    },
    {
     "data": {
      "text/plain": [
       "AxisManager(signal[dets,samps], timestamps[samps], boresight*[samps], qboresight_azel[samps,4], qboresight_radec[samps,4], site*[samps], flags*[dets,samps], focal_plane*[dets], bad_signal[dets,samps], dets:LabelAxis(100), samps:OffsetAxis(310758))"
      ]
     },
     "execution_count": 390,
     "metadata": {},
     "output_type": "execute_result"
    },
    {
     "data": {
      "text/plain": [
       "AxisManager(signal[dets,samps], timestamps[samps], boresight*[samps], qboresight_azel[samps,4], qboresight_radec[samps,4], site*[samps], flags*[dets,samps], focal_plane*[dets], badness[dets,samps], dets:LabelAxis(100), samps:OffsetAxis(310758))"
      ]
     },
     "execution_count": 390,
     "metadata": {},
     "output_type": "execute_result"
    },
    {
     "data": {
      "text/plain": [
       "AxisManager(signal[dets,samps], timestamps[samps], boresight*[samps], qboresight_azel[samps,4], qboresight_radec[samps,4], site*[samps], flags*[dets,samps], focal_plane*[dets], badness[dets,samps], bad_signal[dets,samps], dets:LabelAxis(100), samps:OffsetAxis(310758))"
      ]
     },
     "execution_count": 390,
     "metadata": {},
     "output_type": "execute_result"
    },
    {
     "data": {
      "text/plain": [
       "AxisManager(signal[dets,samps], timestamps[samps], boresight*[samps], qboresight_azel[samps,4], qboresight_radec[samps,4], site*[samps], flags*[dets,samps], focal_plane*[dets], bad_signal[dets,samps], dets:LabelAxis(100), samps:OffsetAxis(310758))"
      ]
     },
     "execution_count": 390,
     "metadata": {},
     "output_type": "execute_result"
    },
    {
     "data": {
      "text/plain": [
       "AxisManager(signal[dets,samps], timestamps[samps], boresight*[samps], qboresight_azel[samps,4], qboresight_radec[samps,4], site*[samps], flags*[dets,samps], focal_plane*[dets], badness[dets,samps], dets:LabelAxis(100), samps:OffsetAxis(310758))"
      ]
     },
     "execution_count": 390,
     "metadata": {},
     "output_type": "execute_result"
    },
    {
     "data": {
      "text/plain": [
       "AxisManager(signal[dets,samps], timestamps[samps], boresight*[samps], qboresight_azel[samps,4], qboresight_radec[samps,4], site*[samps], flags*[dets,samps], focal_plane*[dets], badness[dets,samps], bad_signal[dets,samps], dets:LabelAxis(100), samps:OffsetAxis(310758))"
      ]
     },
     "execution_count": 390,
     "metadata": {},
     "output_type": "execute_result"
    },
    {
     "data": {
      "text/plain": [
       "AxisManager(signal[dets,samps], timestamps[samps], boresight*[samps], qboresight_azel[samps,4], qboresight_radec[samps,4], site*[samps], flags*[dets,samps], focal_plane*[dets], bad_signal[dets,samps], dets:LabelAxis(100), samps:OffsetAxis(310758))"
      ]
     },
     "execution_count": 390,
     "metadata": {},
     "output_type": "execute_result"
    },
    {
     "data": {
      "text/plain": [
       "AxisManager(signal[dets,samps], timestamps[samps], boresight*[samps], qboresight_azel[samps,4], qboresight_radec[samps,4], site*[samps], flags*[dets,samps], focal_plane*[dets], badness[dets,samps], dets:LabelAxis(100), samps:OffsetAxis(310758))"
      ]
     },
     "execution_count": 390,
     "metadata": {},
     "output_type": "execute_result"
    },
    {
     "data": {
      "text/plain": [
       "AxisManager(signal[dets,samps], timestamps[samps], boresight*[samps], qboresight_azel[samps,4], qboresight_radec[samps,4], site*[samps], flags*[dets,samps], focal_plane*[dets], badness[dets,samps], bad_signal[dets,samps], dets:LabelAxis(100), samps:OffsetAxis(310758))"
      ]
     },
     "execution_count": 390,
     "metadata": {},
     "output_type": "execute_result"
    },
    {
     "data": {
      "text/plain": [
       "AxisManager(signal[dets,samps], timestamps[samps], boresight*[samps], qboresight_azel[samps,4], qboresight_radec[samps,4], site*[samps], flags*[dets,samps], focal_plane*[dets], bad_signal[dets,samps], dets:LabelAxis(100), samps:OffsetAxis(310758))"
      ]
     },
     "execution_count": 390,
     "metadata": {},
     "output_type": "execute_result"
    },
    {
     "data": {
      "text/plain": [
       "AxisManager(signal[dets,samps], timestamps[samps], boresight*[samps], qboresight_azel[samps,4], qboresight_radec[samps,4], site*[samps], flags*[dets,samps], focal_plane*[dets], badness[dets,samps], dets:LabelAxis(100), samps:OffsetAxis(310758))"
      ]
     },
     "execution_count": 390,
     "metadata": {},
     "output_type": "execute_result"
    },
    {
     "data": {
      "text/plain": [
       "AxisManager(signal[dets,samps], timestamps[samps], boresight*[samps], qboresight_azel[samps,4], qboresight_radec[samps,4], site*[samps], flags*[dets,samps], focal_plane*[dets], badness[dets,samps], bad_signal[dets,samps], dets:LabelAxis(100), samps:OffsetAxis(310758))"
      ]
     },
     "execution_count": 390,
     "metadata": {},
     "output_type": "execute_result"
    },
    {
     "data": {
      "text/plain": [
       "AxisManager(signal[dets,samps], timestamps[samps], boresight*[samps], qboresight_azel[samps,4], qboresight_radec[samps,4], site*[samps], flags*[dets,samps], focal_plane*[dets], bad_signal[dets,samps], dets:LabelAxis(100), samps:OffsetAxis(310758))"
      ]
     },
     "execution_count": 390,
     "metadata": {},
     "output_type": "execute_result"
    },
    {
     "data": {
      "text/plain": [
       "AxisManager(signal[dets,samps], timestamps[samps], boresight*[samps], qboresight_azel[samps,4], qboresight_radec[samps,4], site*[samps], flags*[dets,samps], focal_plane*[dets], badness[dets,samps], dets:LabelAxis(100), samps:OffsetAxis(310758))"
      ]
     },
     "execution_count": 390,
     "metadata": {},
     "output_type": "execute_result"
    },
    {
     "data": {
      "text/plain": [
       "AxisManager(signal[dets,samps], timestamps[samps], boresight*[samps], qboresight_azel[samps,4], qboresight_radec[samps,4], site*[samps], flags*[dets,samps], focal_plane*[dets], badness[dets,samps], bad_signal[dets,samps], dets:LabelAxis(100), samps:OffsetAxis(310758))"
      ]
     },
     "execution_count": 390,
     "metadata": {},
     "output_type": "execute_result"
    },
    {
     "data": {
      "text/plain": [
       "AxisManager(signal[dets,samps], timestamps[samps], boresight*[samps], qboresight_azel[samps,4], qboresight_radec[samps,4], site*[samps], flags*[dets,samps], focal_plane*[dets], bad_signal[dets,samps], dets:LabelAxis(100), samps:OffsetAxis(310758))"
      ]
     },
     "execution_count": 390,
     "metadata": {},
     "output_type": "execute_result"
    },
    {
     "data": {
      "text/plain": [
       "AxisManager(signal[dets,samps], timestamps[samps], boresight*[samps], qboresight_azel[samps,4], qboresight_radec[samps,4], site*[samps], flags*[dets,samps], focal_plane*[dets], badness[dets,samps], dets:LabelAxis(100), samps:OffsetAxis(310758))"
      ]
     },
     "execution_count": 390,
     "metadata": {},
     "output_type": "execute_result"
    },
    {
     "data": {
      "text/plain": [
       "AxisManager(signal[dets,samps], timestamps[samps], boresight*[samps], qboresight_azel[samps,4], qboresight_radec[samps,4], site*[samps], flags*[dets,samps], focal_plane*[dets], badness[dets,samps], bad_signal[dets,samps], dets:LabelAxis(100), samps:OffsetAxis(310758))"
      ]
     },
     "execution_count": 390,
     "metadata": {},
     "output_type": "execute_result"
    },
    {
     "data": {
      "text/plain": [
       "AxisManager(signal[dets,samps], timestamps[samps], boresight*[samps], qboresight_azel[samps,4], qboresight_radec[samps,4], site*[samps], flags*[dets,samps], focal_plane*[dets], bad_signal[dets,samps], dets:LabelAxis(100), samps:OffsetAxis(310758))"
      ]
     },
     "execution_count": 390,
     "metadata": {},
     "output_type": "execute_result"
    },
    {
     "data": {
      "text/plain": [
       "AxisManager(signal[dets,samps], timestamps[samps], boresight*[samps], qboresight_azel[samps,4], qboresight_radec[samps,4], site*[samps], flags*[dets,samps], focal_plane*[dets], badness[dets,samps], dets:LabelAxis(100), samps:OffsetAxis(310758))"
      ]
     },
     "execution_count": 390,
     "metadata": {},
     "output_type": "execute_result"
    },
    {
     "data": {
      "text/plain": [
       "AxisManager(signal[dets,samps], timestamps[samps], boresight*[samps], qboresight_azel[samps,4], qboresight_radec[samps,4], site*[samps], flags*[dets,samps], focal_plane*[dets], badness[dets,samps], bad_signal[dets,samps], dets:LabelAxis(100), samps:OffsetAxis(310758))"
      ]
     },
     "execution_count": 390,
     "metadata": {},
     "output_type": "execute_result"
    },
    {
     "data": {
      "text/plain": [
       "AxisManager(signal[dets,samps], timestamps[samps], boresight*[samps], qboresight_azel[samps,4], qboresight_radec[samps,4], site*[samps], flags*[dets,samps], focal_plane*[dets], bad_signal[dets,samps], dets:LabelAxis(100), samps:OffsetAxis(310758))"
      ]
     },
     "execution_count": 390,
     "metadata": {},
     "output_type": "execute_result"
    },
    {
     "data": {
      "text/plain": [
       "AxisManager(signal[dets,samps], timestamps[samps], boresight*[samps], qboresight_azel[samps,4], qboresight_radec[samps,4], site*[samps], flags*[dets,samps], focal_plane*[dets], badness[dets,samps], dets:LabelAxis(100), samps:OffsetAxis(310758))"
      ]
     },
     "execution_count": 390,
     "metadata": {},
     "output_type": "execute_result"
    },
    {
     "data": {
      "text/plain": [
       "AxisManager(signal[dets,samps], timestamps[samps], boresight*[samps], qboresight_azel[samps,4], qboresight_radec[samps,4], site*[samps], flags*[dets,samps], focal_plane*[dets], badness[dets,samps], bad_signal[dets,samps], dets:LabelAxis(100), samps:OffsetAxis(310758))"
      ]
     },
     "execution_count": 390,
     "metadata": {},
     "output_type": "execute_result"
    },
    {
     "data": {
      "text/plain": [
       "AxisManager(signal[dets,samps], timestamps[samps], boresight*[samps], qboresight_azel[samps,4], qboresight_radec[samps,4], site*[samps], flags*[dets,samps], focal_plane*[dets], bad_signal[dets,samps], dets:LabelAxis(100), samps:OffsetAxis(310758))"
      ]
     },
     "execution_count": 390,
     "metadata": {},
     "output_type": "execute_result"
    },
    {
     "data": {
      "text/plain": [
       "AxisManager(signal[dets,samps], timestamps[samps], boresight*[samps], qboresight_azel[samps,4], qboresight_radec[samps,4], site*[samps], flags*[dets,samps], focal_plane*[dets], badness[dets,samps], dets:LabelAxis(100), samps:OffsetAxis(310758))"
      ]
     },
     "execution_count": 390,
     "metadata": {},
     "output_type": "execute_result"
    },
    {
     "data": {
      "text/plain": [
       "AxisManager(signal[dets,samps], timestamps[samps], boresight*[samps], qboresight_azel[samps,4], qboresight_radec[samps,4], site*[samps], flags*[dets,samps], focal_plane*[dets], badness[dets,samps], bad_signal[dets,samps], dets:LabelAxis(100), samps:OffsetAxis(310758))"
      ]
     },
     "execution_count": 390,
     "metadata": {},
     "output_type": "execute_result"
    },
    {
     "data": {
      "text/plain": [
       "AxisManager(signal[dets,samps], timestamps[samps], boresight*[samps], qboresight_azel[samps,4], qboresight_radec[samps,4], site*[samps], flags*[dets,samps], focal_plane*[dets], bad_signal[dets,samps], dets:LabelAxis(100), samps:OffsetAxis(310758))"
      ]
     },
     "execution_count": 390,
     "metadata": {},
     "output_type": "execute_result"
    },
    {
     "data": {
      "text/plain": [
       "AxisManager(signal[dets,samps], timestamps[samps], boresight*[samps], qboresight_azel[samps,4], qboresight_radec[samps,4], site*[samps], flags*[dets,samps], focal_plane*[dets], badness[dets,samps], dets:LabelAxis(100), samps:OffsetAxis(310758))"
      ]
     },
     "execution_count": 390,
     "metadata": {},
     "output_type": "execute_result"
    },
    {
     "data": {
      "text/plain": [
       "AxisManager(signal[dets,samps], timestamps[samps], boresight*[samps], qboresight_azel[samps,4], qboresight_radec[samps,4], site*[samps], flags*[dets,samps], focal_plane*[dets], badness[dets,samps], bad_signal[dets,samps], dets:LabelAxis(100), samps:OffsetAxis(310758))"
      ]
     },
     "execution_count": 390,
     "metadata": {},
     "output_type": "execute_result"
    },
    {
     "data": {
      "text/plain": [
       "AxisManager(signal[dets,samps], timestamps[samps], boresight*[samps], qboresight_azel[samps,4], qboresight_radec[samps,4], site*[samps], flags*[dets,samps], focal_plane*[dets], bad_signal[dets,samps], dets:LabelAxis(100), samps:OffsetAxis(310758))"
      ]
     },
     "execution_count": 390,
     "metadata": {},
     "output_type": "execute_result"
    },
    {
     "data": {
      "text/plain": [
       "AxisManager(signal[dets,samps], timestamps[samps], boresight*[samps], qboresight_azel[samps,4], qboresight_radec[samps,4], site*[samps], flags*[dets,samps], focal_plane*[dets], badness[dets,samps], dets:LabelAxis(100), samps:OffsetAxis(310758))"
      ]
     },
     "execution_count": 390,
     "metadata": {},
     "output_type": "execute_result"
    },
    {
     "data": {
      "text/plain": [
       "AxisManager(signal[dets,samps], timestamps[samps], boresight*[samps], qboresight_azel[samps,4], qboresight_radec[samps,4], site*[samps], flags*[dets,samps], focal_plane*[dets], badness[dets,samps], bad_signal[dets,samps], dets:LabelAxis(100), samps:OffsetAxis(310758))"
      ]
     },
     "execution_count": 390,
     "metadata": {},
     "output_type": "execute_result"
    },
    {
     "data": {
      "text/plain": [
       "AxisManager(signal[dets,samps], timestamps[samps], boresight*[samps], qboresight_azel[samps,4], qboresight_radec[samps,4], site*[samps], flags*[dets,samps], focal_plane*[dets], bad_signal[dets,samps], dets:LabelAxis(100), samps:OffsetAxis(310758))"
      ]
     },
     "execution_count": 390,
     "metadata": {},
     "output_type": "execute_result"
    },
    {
     "data": {
      "text/plain": [
       "AxisManager(signal[dets,samps], timestamps[samps], boresight*[samps], qboresight_azel[samps,4], qboresight_radec[samps,4], site*[samps], flags*[dets,samps], focal_plane*[dets], badness[dets,samps], dets:LabelAxis(100), samps:OffsetAxis(310758))"
      ]
     },
     "execution_count": 390,
     "metadata": {},
     "output_type": "execute_result"
    },
    {
     "data": {
      "text/plain": [
       "AxisManager(signal[dets,samps], timestamps[samps], boresight*[samps], qboresight_azel[samps,4], qboresight_radec[samps,4], site*[samps], flags*[dets,samps], focal_plane*[dets], badness[dets,samps], bad_signal[dets,samps], dets:LabelAxis(100), samps:OffsetAxis(310758))"
      ]
     },
     "execution_count": 390,
     "metadata": {},
     "output_type": "execute_result"
    },
    {
     "data": {
      "text/plain": [
       "AxisManager(signal[dets,samps], timestamps[samps], boresight*[samps], qboresight_azel[samps,4], qboresight_radec[samps,4], site*[samps], flags*[dets,samps], focal_plane*[dets], bad_signal[dets,samps], dets:LabelAxis(100), samps:OffsetAxis(310758))"
      ]
     },
     "execution_count": 390,
     "metadata": {},
     "output_type": "execute_result"
    },
    {
     "data": {
      "text/plain": [
       "AxisManager(signal[dets,samps], timestamps[samps], boresight*[samps], qboresight_azel[samps,4], qboresight_radec[samps,4], site*[samps], flags*[dets,samps], focal_plane*[dets], badness[dets,samps], dets:LabelAxis(100), samps:OffsetAxis(310758))"
      ]
     },
     "execution_count": 390,
     "metadata": {},
     "output_type": "execute_result"
    },
    {
     "data": {
      "text/plain": [
       "AxisManager(signal[dets,samps], timestamps[samps], boresight*[samps], qboresight_azel[samps,4], qboresight_radec[samps,4], site*[samps], flags*[dets,samps], focal_plane*[dets], badness[dets,samps], bad_signal[dets,samps], dets:LabelAxis(100), samps:OffsetAxis(310758))"
      ]
     },
     "execution_count": 390,
     "metadata": {},
     "output_type": "execute_result"
    },
    {
     "data": {
      "text/plain": [
       "AxisManager(signal[dets,samps], timestamps[samps], boresight*[samps], qboresight_azel[samps,4], qboresight_radec[samps,4], site*[samps], flags*[dets,samps], focal_plane*[dets], bad_signal[dets,samps], dets:LabelAxis(100), samps:OffsetAxis(310758))"
      ]
     },
     "execution_count": 390,
     "metadata": {},
     "output_type": "execute_result"
    },
    {
     "data": {
      "text/plain": [
       "AxisManager(signal[dets,samps], timestamps[samps], boresight*[samps], qboresight_azel[samps,4], qboresight_radec[samps,4], site*[samps], flags*[dets,samps], focal_plane*[dets], badness[dets,samps], dets:LabelAxis(100), samps:OffsetAxis(310758))"
      ]
     },
     "execution_count": 390,
     "metadata": {},
     "output_type": "execute_result"
    },
    {
     "data": {
      "text/plain": [
       "AxisManager(signal[dets,samps], timestamps[samps], boresight*[samps], qboresight_azel[samps,4], qboresight_radec[samps,4], site*[samps], flags*[dets,samps], focal_plane*[dets], badness[dets,samps], bad_signal[dets,samps], dets:LabelAxis(100), samps:OffsetAxis(310758))"
      ]
     },
     "execution_count": 390,
     "metadata": {},
     "output_type": "execute_result"
    },
    {
     "data": {
      "text/plain": [
       "AxisManager(signal[dets,samps], timestamps[samps], boresight*[samps], qboresight_azel[samps,4], qboresight_radec[samps,4], site*[samps], flags*[dets,samps], focal_plane*[dets], bad_signal[dets,samps], dets:LabelAxis(100), samps:OffsetAxis(310758))"
      ]
     },
     "execution_count": 390,
     "metadata": {},
     "output_type": "execute_result"
    },
    {
     "data": {
      "text/plain": [
       "AxisManager(signal[dets,samps], timestamps[samps], boresight*[samps], qboresight_azel[samps,4], qboresight_radec[samps,4], site*[samps], flags*[dets,samps], focal_plane*[dets], badness[dets,samps], dets:LabelAxis(100), samps:OffsetAxis(310758))"
      ]
     },
     "execution_count": 390,
     "metadata": {},
     "output_type": "execute_result"
    },
    {
     "data": {
      "text/plain": [
       "AxisManager(signal[dets,samps], timestamps[samps], boresight*[samps], qboresight_azel[samps,4], qboresight_radec[samps,4], site*[samps], flags*[dets,samps], focal_plane*[dets], badness[dets,samps], bad_signal[dets,samps], dets:LabelAxis(100), samps:OffsetAxis(310758))"
      ]
     },
     "execution_count": 390,
     "metadata": {},
     "output_type": "execute_result"
    },
    {
     "data": {
      "text/plain": [
       "AxisManager(signal[dets,samps], timestamps[samps], boresight*[samps], qboresight_azel[samps,4], qboresight_radec[samps,4], site*[samps], flags*[dets,samps], focal_plane*[dets], bad_signal[dets,samps], dets:LabelAxis(100), samps:OffsetAxis(310758))"
      ]
     },
     "execution_count": 390,
     "metadata": {},
     "output_type": "execute_result"
    },
    {
     "data": {
      "text/plain": [
       "AxisManager(signal[dets,samps], timestamps[samps], boresight*[samps], qboresight_azel[samps,4], qboresight_radec[samps,4], site*[samps], flags*[dets,samps], focal_plane*[dets], badness[dets,samps], dets:LabelAxis(100), samps:OffsetAxis(310758))"
      ]
     },
     "execution_count": 390,
     "metadata": {},
     "output_type": "execute_result"
    },
    {
     "data": {
      "text/plain": [
       "AxisManager(signal[dets,samps], timestamps[samps], boresight*[samps], qboresight_azel[samps,4], qboresight_radec[samps,4], site*[samps], flags*[dets,samps], focal_plane*[dets], badness[dets,samps], bad_signal[dets,samps], dets:LabelAxis(100), samps:OffsetAxis(310758))"
      ]
     },
     "execution_count": 390,
     "metadata": {},
     "output_type": "execute_result"
    }
   ],
   "source": [
    "obs_num = 300\n",
    "det_set_num = 0\n",
    "det_num1, det_num2 = 0, 100\n",
    "det_num = det_num2 - det_num1\n",
    "n_glitch = 2\n",
    "heights = np.arange(1, 10, 0.5)\n",
    "signal_name = 'bad_signal'\n",
    "\n",
    "# Choose observation\n",
    "nersc_todsims = '/global/project/projectdirs/sobs/todsims/pipe-s0001/v4/context.yaml'\n",
    "context = core.Context(nersc_todsims)\n",
    "obs_list = context.obsdb.get()\n",
    "my_obs = obs_list[obs_num]\n",
    "\n",
    "# Choose det_set\n",
    "det_sets = context.obsfiledb.get_detsets(my_obs['obs_id'])\n",
    "det_set = det_sets[det_set_num]\n",
    "\n",
    "# Choose  dets from a det_set\n",
    "dets = context.obsfiledb.get_dets(det_set)\n",
    "\n",
    "# Get tod of the dets chosen\n",
    "tod = context.get_obs(my_obs, dets=dets[det_num1:det_num2])\n",
    "\n",
    "# Trim tod\n",
    "tsamp = np.median(np.diff(tod.timestamps))\n",
    "n_cut = int(10//tsamp)\n",
    "#print('Trimming in time...')\n",
    "tod.restrict('samps', (n_cut, tod.samps.count-n_cut))\n",
    "#print('The TOD now has {} samples'.format(tod.samps.count))\n",
    "\n",
    "True_Positive_Rate = []\n",
    "False_Positive_Rate = []\n",
    "Detection_Rate = []\n",
    "\n",
    "for i, height in enumerate(heights):\n",
    "        if 'badness' in tod:\n",
    "            tod.move('badness', None)\n",
    "        # add glitches\n",
    "        sim_flags.add_random_glitches(tod, params={'n_glitch':n_glitch, 'sig_n_glitch' : 0,'h_glitch':height}, signal='badness', overwrite='True')\n",
    "\n",
    "        if signal_name in tod:\n",
    "            tod.move(signal_name, None)\n",
    "        # add the glitches to the tod\n",
    "        tod.wrap(signal_name, tod.signal+tod.badness, [(0, tod.dets), (1, tod.samps)])\n",
    "        \n",
    "        detection_rate, true_positive_rate, false_positive_rate = test_glitch(tod)\n",
    "\n",
    "        True_Positive_Rate.append(true_positive_rate)\n",
    "        Detection_Rate.append(detection_rate)"
   ]
  },
  {
   "cell_type": "code",
   "execution_count": 391,
   "metadata": {},
   "outputs": [
    {
     "data": {
      "text/plain": [
       "Text(0.5, 0.98, 'obs_id: CES-Atacama-LAT-Tier1DEC-035..-045_RA+040..+050-13-0_UHF, det_set:UHF1_wafer_00: ')"
      ]
     },
     "execution_count": 391,
     "metadata": {},
     "output_type": "execute_result"
    },
    {
     "data": {
      "text/plain": [
       "[<matplotlib.lines.Line2D at 0x2aab8463dd68>]"
      ]
     },
     "execution_count": 391,
     "metadata": {},
     "output_type": "execute_result"
    },
    {
     "data": {
      "text/plain": [
       "Text(0.5, 1.0, 'True Positive Rate')"
      ]
     },
     "execution_count": 391,
     "metadata": {},
     "output_type": "execute_result"
    },
    {
     "data": {
      "text/plain": [
       "Text(0.5, 0, 'Glitch Height(K)')"
      ]
     },
     "execution_count": 391,
     "metadata": {},
     "output_type": "execute_result"
    },
    {
     "data": {
      "text/plain": [
       "Text(0, 0.5, 'Ratio')"
      ]
     },
     "execution_count": 391,
     "metadata": {},
     "output_type": "execute_result"
    },
    {
     "data": {
      "text/plain": [
       "[<matplotlib.lines.Line2D at 0x2aab8463df98>]"
      ]
     },
     "execution_count": 391,
     "metadata": {},
     "output_type": "execute_result"
    },
    {
     "data": {
      "text/plain": [
       "Text(0.5, 1.0, 'Detection Rate')"
      ]
     },
     "execution_count": 391,
     "metadata": {},
     "output_type": "execute_result"
    },
    {
     "data": {
      "text/plain": [
       "Text(0.5, 0, 'Glitch Height(K)')"
      ]
     },
     "execution_count": 391,
     "metadata": {},
     "output_type": "execute_result"
    },
    {
     "data": {
      "text/plain": [
       "Text(0, 0.5, 'Ratio')"
      ]
     },
     "execution_count": 391,
     "metadata": {},
     "output_type": "execute_result"
    },
    {
     "data": {
      "image/png": "[encoded data removed]",
      "text/plain": [
       "<Figure size 864x360 with 2 Axes>"
      ]
     },
     "metadata": {
      "needs_background": "light"
     },
     "output_type": "display_data"
    }
   ],
   "source": [
    "fig, ax = plt.subplots(1, 2,figsize=(12,5))\n",
    "plt.suptitle('obs_id: %s, det_set:%s: ' %(my_obs['obs_id'], det_set))\n",
    "\n",
    "ax[0].plot(heights, True_Positive_Rate)\n",
    "ax[0].set_title('True Positive Rate')\n",
    "ax[0].set_xlabel('Glitch Height(K)')\n",
    "ax[0].set_ylabel('Ratio')\n",
    "\n",
    "ax[1].plot(heights, Detection_Rate)\n",
    "ax[1].set_title('Detection Rate')\n",
    "ax[1].set_xlabel('Glitch Height(K)')\n",
    "ax[1].set_ylabel('Ratio')\n",
    "\n",
    "plt.savefig('./plots/%s.png' %(det_set))"
   ]
  },
  {
   "cell_type": "code",
   "execution_count": 392,
   "metadata": {},
   "outputs": [
    {
     "data": {
      "text/plain": [
       "AxisManager(signal[dets,samps], timestamps[samps], boresight*[samps], qboresight_azel[samps,4], qboresight_radec[samps,4], site*[samps], flags*[dets,samps], focal_plane*[dets], bad_signal[dets,samps], dets:LabelAxis(100), samps:OffsetAxis(310758))"
      ]
     },
     "execution_count": 392,
     "metadata": {},
     "output_type": "execute_result"
    },
    {
     "data": {
      "text/plain": [
       "AxisManager(signal[dets,samps], timestamps[samps], boresight*[samps], qboresight_azel[samps,4], qboresight_radec[samps,4], site*[samps], flags*[dets,samps], focal_plane*[dets], badness[dets,samps], dets:LabelAxis(100), samps:OffsetAxis(310758))"
      ]
     },
     "execution_count": 392,
     "metadata": {},
     "output_type": "execute_result"
    },
    {
     "data": {
      "text/plain": [
       "AxisManager(signal[dets,samps], timestamps[samps], boresight*[samps], qboresight_azel[samps,4], qboresight_radec[samps,4], site*[samps], flags*[dets,samps], focal_plane*[dets], badness[dets,samps], bad_signal[dets,samps], dets:LabelAxis(100), samps:OffsetAxis(310758))"
      ]
     },
     "execution_count": 392,
     "metadata": {},
     "output_type": "execute_result"
    },
    {
     "data": {
      "text/plain": [
       "AxisManager(signal[dets,samps], timestamps[samps], boresight*[samps], qboresight_azel[samps,4], qboresight_radec[samps,4], site*[samps], flags*[dets,samps], focal_plane*[dets], bad_signal[dets,samps], dets:LabelAxis(100), samps:OffsetAxis(310758))"
      ]
     },
     "execution_count": 392,
     "metadata": {},
     "output_type": "execute_result"
    },
    {
     "data": {
      "text/plain": [
       "AxisManager(signal[dets,samps], timestamps[samps], boresight*[samps], qboresight_azel[samps,4], qboresight_radec[samps,4], site*[samps], flags*[dets,samps], focal_plane*[dets], badness[dets,samps], dets:LabelAxis(100), samps:OffsetAxis(310758))"
      ]
     },
     "execution_count": 392,
     "metadata": {},
     "output_type": "execute_result"
    },
    {
     "data": {
      "text/plain": [
       "AxisManager(signal[dets,samps], timestamps[samps], boresight*[samps], qboresight_azel[samps,4], qboresight_radec[samps,4], site*[samps], flags*[dets,samps], focal_plane*[dets], badness[dets,samps], bad_signal[dets,samps], dets:LabelAxis(100), samps:OffsetAxis(310758))"
      ]
     },
     "execution_count": 392,
     "metadata": {},
     "output_type": "execute_result"
    },
    {
     "data": {
      "text/plain": [
       "AxisManager(signal[dets,samps], timestamps[samps], boresight*[samps], qboresight_azel[samps,4], qboresight_radec[samps,4], site*[samps], flags*[dets,samps], focal_plane*[dets], bad_signal[dets,samps], dets:LabelAxis(100), samps:OffsetAxis(310758))"
      ]
     },
     "execution_count": 392,
     "metadata": {},
     "output_type": "execute_result"
    },
    {
     "data": {
      "text/plain": [
       "AxisManager(signal[dets,samps], timestamps[samps], boresight*[samps], qboresight_azel[samps,4], qboresight_radec[samps,4], site*[samps], flags*[dets,samps], focal_plane*[dets], badness[dets,samps], dets:LabelAxis(100), samps:OffsetAxis(310758))"
      ]
     },
     "execution_count": 392,
     "metadata": {},
     "output_type": "execute_result"
    },
    {
     "data": {
      "text/plain": [
       "AxisManager(signal[dets,samps], timestamps[samps], boresight*[samps], qboresight_azel[samps,4], qboresight_radec[samps,4], site*[samps], flags*[dets,samps], focal_plane*[dets], badness[dets,samps], bad_signal[dets,samps], dets:LabelAxis(100), samps:OffsetAxis(310758))"
      ]
     },
     "execution_count": 392,
     "metadata": {},
     "output_type": "execute_result"
    },
    {
     "data": {
      "text/plain": [
       "AxisManager(signal[dets,samps], timestamps[samps], boresight*[samps], qboresight_azel[samps,4], qboresight_radec[samps,4], site*[samps], flags*[dets,samps], focal_plane*[dets], bad_signal[dets,samps], dets:LabelAxis(100), samps:OffsetAxis(310758))"
      ]
     },
     "execution_count": 392,
     "metadata": {},
     "output_type": "execute_result"
    },
    {
     "data": {
      "text/plain": [
       "AxisManager(signal[dets,samps], timestamps[samps], boresight*[samps], qboresight_azel[samps,4], qboresight_radec[samps,4], site*[samps], flags*[dets,samps], focal_plane*[dets], badness[dets,samps], dets:LabelAxis(100), samps:OffsetAxis(310758))"
      ]
     },
     "execution_count": 392,
     "metadata": {},
     "output_type": "execute_result"
    },
    {
     "data": {
      "text/plain": [
       "AxisManager(signal[dets,samps], timestamps[samps], boresight*[samps], qboresight_azel[samps,4], qboresight_radec[samps,4], site*[samps], flags*[dets,samps], focal_plane*[dets], badness[dets,samps], bad_signal[dets,samps], dets:LabelAxis(100), samps:OffsetAxis(310758))"
      ]
     },
     "execution_count": 392,
     "metadata": {},
     "output_type": "execute_result"
    },
    {
     "data": {
      "text/plain": [
       "AxisManager(signal[dets,samps], timestamps[samps], boresight*[samps], qboresight_azel[samps,4], qboresight_radec[samps,4], site*[samps], flags*[dets,samps], focal_plane*[dets], bad_signal[dets,samps], dets:LabelAxis(100), samps:OffsetAxis(310758))"
      ]
     },
     "execution_count": 392,
     "metadata": {},
     "output_type": "execute_result"
    },
    {
     "data": {
      "text/plain": [
       "AxisManager(signal[dets,samps], timestamps[samps], boresight*[samps], qboresight_azel[samps,4], qboresight_radec[samps,4], site*[samps], flags*[dets,samps], focal_plane*[dets], badness[dets,samps], dets:LabelAxis(100), samps:OffsetAxis(310758))"
      ]
     },
     "execution_count": 392,
     "metadata": {},
     "output_type": "execute_result"
    },
    {
     "data": {
      "text/plain": [
       "AxisManager(signal[dets,samps], timestamps[samps], boresight*[samps], qboresight_azel[samps,4], qboresight_radec[samps,4], site*[samps], flags*[dets,samps], focal_plane*[dets], badness[dets,samps], bad_signal[dets,samps], dets:LabelAxis(100), samps:OffsetAxis(310758))"
      ]
     },
     "execution_count": 392,
     "metadata": {},
     "output_type": "execute_result"
    },
    {
     "data": {
      "text/plain": [
       "AxisManager(signal[dets,samps], timestamps[samps], boresight*[samps], qboresight_azel[samps,4], qboresight_radec[samps,4], site*[samps], flags*[dets,samps], focal_plane*[dets], bad_signal[dets,samps], dets:LabelAxis(100), samps:OffsetAxis(310758))"
      ]
     },
     "execution_count": 392,
     "metadata": {},
     "output_type": "execute_result"
    },
    {
     "data": {
      "text/plain": [
       "AxisManager(signal[dets,samps], timestamps[samps], boresight*[samps], qboresight_azel[samps,4], qboresight_radec[samps,4], site*[samps], flags*[dets,samps], focal_plane*[dets], badness[dets,samps], dets:LabelAxis(100), samps:OffsetAxis(310758))"
      ]
     },
     "execution_count": 392,
     "metadata": {},
     "output_type": "execute_result"
    },
    {
     "data": {
      "text/plain": [
       "AxisManager(signal[dets,samps], timestamps[samps], boresight*[samps], qboresight_azel[samps,4], qboresight_radec[samps,4], site*[samps], flags*[dets,samps], focal_plane*[dets], badness[dets,samps], bad_signal[dets,samps], dets:LabelAxis(100), samps:OffsetAxis(310758))"
      ]
     },
     "execution_count": 392,
     "metadata": {},
     "output_type": "execute_result"
    },
    {
     "data": {
      "text/plain": [
       "AxisManager(signal[dets,samps], timestamps[samps], boresight*[samps], qboresight_azel[samps,4], qboresight_radec[samps,4], site*[samps], flags*[dets,samps], focal_plane*[dets], bad_signal[dets,samps], dets:LabelAxis(100), samps:OffsetAxis(310758))"
      ]
     },
     "execution_count": 392,
     "metadata": {},
     "output_type": "execute_result"
    },
    {
     "data": {
      "text/plain": [
       "AxisManager(signal[dets,samps], timestamps[samps], boresight*[samps], qboresight_azel[samps,4], qboresight_radec[samps,4], site*[samps], flags*[dets,samps], focal_plane*[dets], badness[dets,samps], dets:LabelAxis(100), samps:OffsetAxis(310758))"
      ]
     },
     "execution_count": 392,
     "metadata": {},
     "output_type": "execute_result"
    },
    {
     "data": {
      "text/plain": [
       "AxisManager(signal[dets,samps], timestamps[samps], boresight*[samps], qboresight_azel[samps,4], qboresight_radec[samps,4], site*[samps], flags*[dets,samps], focal_plane*[dets], badness[dets,samps], bad_signal[dets,samps], dets:LabelAxis(100), samps:OffsetAxis(310758))"
      ]
     },
     "execution_count": 392,
     "metadata": {},
     "output_type": "execute_result"
    },
    {
     "data": {
      "text/plain": [
       "AxisManager(signal[dets,samps], timestamps[samps], boresight*[samps], qboresight_azel[samps,4], qboresight_radec[samps,4], site*[samps], flags*[dets,samps], focal_plane*[dets], bad_signal[dets,samps], dets:LabelAxis(100), samps:OffsetAxis(310758))"
      ]
     },
     "execution_count": 392,
     "metadata": {},
     "output_type": "execute_result"
    },
    {
     "data": {
      "text/plain": [
       "AxisManager(signal[dets,samps], timestamps[samps], boresight*[samps], qboresight_azel[samps,4], qboresight_radec[samps,4], site*[samps], flags*[dets,samps], focal_plane*[dets], badness[dets,samps], dets:LabelAxis(100), samps:OffsetAxis(310758))"
      ]
     },
     "execution_count": 392,
     "metadata": {},
     "output_type": "execute_result"
    },
    {
     "data": {
      "text/plain": [
       "AxisManager(signal[dets,samps], timestamps[samps], boresight*[samps], qboresight_azel[samps,4], qboresight_radec[samps,4], site*[samps], flags*[dets,samps], focal_plane*[dets], badness[dets,samps], bad_signal[dets,samps], dets:LabelAxis(100), samps:OffsetAxis(310758))"
      ]
     },
     "execution_count": 392,
     "metadata": {},
     "output_type": "execute_result"
    },
    {
     "data": {
      "text/plain": [
       "AxisManager(signal[dets,samps], timestamps[samps], boresight*[samps], qboresight_azel[samps,4], qboresight_radec[samps,4], site*[samps], flags*[dets,samps], focal_plane*[dets], bad_signal[dets,samps], dets:LabelAxis(100), samps:OffsetAxis(310758))"
      ]
     },
     "execution_count": 392,
     "metadata": {},
     "output_type": "execute_result"
    },
    {
     "data": {
      "text/plain": [
       "AxisManager(signal[dets,samps], timestamps[samps], boresight*[samps], qboresight_azel[samps,4], qboresight_radec[samps,4], site*[samps], flags*[dets,samps], focal_plane*[dets], badness[dets,samps], dets:LabelAxis(100), samps:OffsetAxis(310758))"
      ]
     },
     "execution_count": 392,
     "metadata": {},
     "output_type": "execute_result"
    },
    {
     "data": {
      "text/plain": [
       "AxisManager(signal[dets,samps], timestamps[samps], boresight*[samps], qboresight_azel[samps,4], qboresight_radec[samps,4], site*[samps], flags*[dets,samps], focal_plane*[dets], badness[dets,samps], bad_signal[dets,samps], dets:LabelAxis(100), samps:OffsetAxis(310758))"
      ]
     },
     "execution_count": 392,
     "metadata": {},
     "output_type": "execute_result"
    },
    {
     "data": {
      "text/plain": [
       "AxisManager(signal[dets,samps], timestamps[samps], boresight*[samps], qboresight_azel[samps,4], qboresight_radec[samps,4], site*[samps], flags*[dets,samps], focal_plane*[dets], bad_signal[dets,samps], dets:LabelAxis(100), samps:OffsetAxis(310758))"
      ]
     },
     "execution_count": 392,
     "metadata": {},
     "output_type": "execute_result"
    },
    {
     "data": {
      "text/plain": [
       "AxisManager(signal[dets,samps], timestamps[samps], boresight*[samps], qboresight_azel[samps,4], qboresight_radec[samps,4], site*[samps], flags*[dets,samps], focal_plane*[dets], badness[dets,samps], dets:LabelAxis(100), samps:OffsetAxis(310758))"
      ]
     },
     "execution_count": 392,
     "metadata": {},
     "output_type": "execute_result"
    },
    {
     "data": {
      "text/plain": [
       "AxisManager(signal[dets,samps], timestamps[samps], boresight*[samps], qboresight_azel[samps,4], qboresight_radec[samps,4], site*[samps], flags*[dets,samps], focal_plane*[dets], badness[dets,samps], bad_signal[dets,samps], dets:LabelAxis(100), samps:OffsetAxis(310758))"
      ]
     },
     "execution_count": 392,
     "metadata": {},
     "output_type": "execute_result"
    },
    {
     "data": {
      "text/plain": [
       "AxisManager(signal[dets,samps], timestamps[samps], boresight*[samps], qboresight_azel[samps,4], qboresight_radec[samps,4], site*[samps], flags*[dets,samps], focal_plane*[dets], bad_signal[dets,samps], dets:LabelAxis(100), samps:OffsetAxis(310758))"
      ]
     },
     "execution_count": 392,
     "metadata": {},
     "output_type": "execute_result"
    },
    {
     "data": {
      "text/plain": [
       "AxisManager(signal[dets,samps], timestamps[samps], boresight*[samps], qboresight_azel[samps,4], qboresight_radec[samps,4], site*[samps], flags*[dets,samps], focal_plane*[dets], badness[dets,samps], dets:LabelAxis(100), samps:OffsetAxis(310758))"
      ]
     },
     "execution_count": 392,
     "metadata": {},
     "output_type": "execute_result"
    },
    {
     "data": {
      "text/plain": [
       "AxisManager(signal[dets,samps], timestamps[samps], boresight*[samps], qboresight_azel[samps,4], qboresight_radec[samps,4], site*[samps], flags*[dets,samps], focal_plane*[dets], badness[dets,samps], bad_signal[dets,samps], dets:LabelAxis(100), samps:OffsetAxis(310758))"
      ]
     },
     "execution_count": 392,
     "metadata": {},
     "output_type": "execute_result"
    },
    {
     "data": {
      "text/plain": [
       "AxisManager(signal[dets,samps], timestamps[samps], boresight*[samps], qboresight_azel[samps,4], qboresight_radec[samps,4], site*[samps], flags*[dets,samps], focal_plane*[dets], bad_signal[dets,samps], dets:LabelAxis(100), samps:OffsetAxis(310758))"
      ]
     },
     "execution_count": 392,
     "metadata": {},
     "output_type": "execute_result"
    },
    {
     "data": {
      "text/plain": [
       "AxisManager(signal[dets,samps], timestamps[samps], boresight*[samps], qboresight_azel[samps,4], qboresight_radec[samps,4], site*[samps], flags*[dets,samps], focal_plane*[dets], badness[dets,samps], dets:LabelAxis(100), samps:OffsetAxis(310758))"
      ]
     },
     "execution_count": 392,
     "metadata": {},
     "output_type": "execute_result"
    },
    {
     "data": {
      "text/plain": [
       "AxisManager(signal[dets,samps], timestamps[samps], boresight*[samps], qboresight_azel[samps,4], qboresight_radec[samps,4], site*[samps], flags*[dets,samps], focal_plane*[dets], badness[dets,samps], bad_signal[dets,samps], dets:LabelAxis(100), samps:OffsetAxis(310758))"
      ]
     },
     "execution_count": 392,
     "metadata": {},
     "output_type": "execute_result"
    },
    {
     "data": {
      "text/plain": [
       "AxisManager(signal[dets,samps], timestamps[samps], boresight*[samps], qboresight_azel[samps,4], qboresight_radec[samps,4], site*[samps], flags*[dets,samps], focal_plane*[dets], bad_signal[dets,samps], dets:LabelAxis(100), samps:OffsetAxis(310758))"
      ]
     },
     "execution_count": 392,
     "metadata": {},
     "output_type": "execute_result"
    },
    {
     "data": {
      "text/plain": [
       "AxisManager(signal[dets,samps], timestamps[samps], boresight*[samps], qboresight_azel[samps,4], qboresight_radec[samps,4], site*[samps], flags*[dets,samps], focal_plane*[dets], badness[dets,samps], dets:LabelAxis(100), samps:OffsetAxis(310758))"
      ]
     },
     "execution_count": 392,
     "metadata": {},
     "output_type": "execute_result"
    },
    {
     "data": {
      "text/plain": [
       "AxisManager(signal[dets,samps], timestamps[samps], boresight*[samps], qboresight_azel[samps,4], qboresight_radec[samps,4], site*[samps], flags*[dets,samps], focal_plane*[dets], badness[dets,samps], bad_signal[dets,samps], dets:LabelAxis(100), samps:OffsetAxis(310758))"
      ]
     },
     "execution_count": 392,
     "metadata": {},
     "output_type": "execute_result"
    },
    {
     "data": {
      "text/plain": [
       "AxisManager(signal[dets,samps], timestamps[samps], boresight*[samps], qboresight_azel[samps,4], qboresight_radec[samps,4], site*[samps], flags*[dets,samps], focal_plane*[dets], bad_signal[dets,samps], dets:LabelAxis(100), samps:OffsetAxis(310758))"
      ]
     },
     "execution_count": 392,
     "metadata": {},
     "output_type": "execute_result"
    },
    {
     "data": {
      "text/plain": [
       "AxisManager(signal[dets,samps], timestamps[samps], boresight*[samps], qboresight_azel[samps,4], qboresight_radec[samps,4], site*[samps], flags*[dets,samps], focal_plane*[dets], badness[dets,samps], dets:LabelAxis(100), samps:OffsetAxis(310758))"
      ]
     },
     "execution_count": 392,
     "metadata": {},
     "output_type": "execute_result"
    },
    {
     "data": {
      "text/plain": [
       "AxisManager(signal[dets,samps], timestamps[samps], boresight*[samps], qboresight_azel[samps,4], qboresight_radec[samps,4], site*[samps], flags*[dets,samps], focal_plane*[dets], badness[dets,samps], bad_signal[dets,samps], dets:LabelAxis(100), samps:OffsetAxis(310758))"
      ]
     },
     "execution_count": 392,
     "metadata": {},
     "output_type": "execute_result"
    },
    {
     "data": {
      "text/plain": [
       "AxisManager(signal[dets,samps], timestamps[samps], boresight*[samps], qboresight_azel[samps,4], qboresight_radec[samps,4], site*[samps], flags*[dets,samps], focal_plane*[dets], bad_signal[dets,samps], dets:LabelAxis(100), samps:OffsetAxis(310758))"
      ]
     },
     "execution_count": 392,
     "metadata": {},
     "output_type": "execute_result"
    },
    {
     "data": {
      "text/plain": [
       "AxisManager(signal[dets,samps], timestamps[samps], boresight*[samps], qboresight_azel[samps,4], qboresight_radec[samps,4], site*[samps], flags*[dets,samps], focal_plane*[dets], badness[dets,samps], dets:LabelAxis(100), samps:OffsetAxis(310758))"
      ]
     },
     "execution_count": 392,
     "metadata": {},
     "output_type": "execute_result"
    },
    {
     "data": {
      "text/plain": [
       "AxisManager(signal[dets,samps], timestamps[samps], boresight*[samps], qboresight_azel[samps,4], qboresight_radec[samps,4], site*[samps], flags*[dets,samps], focal_plane*[dets], badness[dets,samps], bad_signal[dets,samps], dets:LabelAxis(100), samps:OffsetAxis(310758))"
      ]
     },
     "execution_count": 392,
     "metadata": {},
     "output_type": "execute_result"
    },
    {
     "data": {
      "text/plain": [
       "AxisManager(signal[dets,samps], timestamps[samps], boresight*[samps], qboresight_azel[samps,4], qboresight_radec[samps,4], site*[samps], flags*[dets,samps], focal_plane*[dets], bad_signal[dets,samps], dets:LabelAxis(100), samps:OffsetAxis(310758))"
      ]
     },
     "execution_count": 392,
     "metadata": {},
     "output_type": "execute_result"
    },
    {
     "data": {
      "text/plain": [
       "AxisManager(signal[dets,samps], timestamps[samps], boresight*[samps], qboresight_azel[samps,4], qboresight_radec[samps,4], site*[samps], flags*[dets,samps], focal_plane*[dets], badness[dets,samps], dets:LabelAxis(100), samps:OffsetAxis(310758))"
      ]
     },
     "execution_count": 392,
     "metadata": {},
     "output_type": "execute_result"
    },
    {
     "data": {
      "text/plain": [
       "AxisManager(signal[dets,samps], timestamps[samps], boresight*[samps], qboresight_azel[samps,4], qboresight_radec[samps,4], site*[samps], flags*[dets,samps], focal_plane*[dets], badness[dets,samps], bad_signal[dets,samps], dets:LabelAxis(100), samps:OffsetAxis(310758))"
      ]
     },
     "execution_count": 392,
     "metadata": {},
     "output_type": "execute_result"
    },
    {
     "data": {
      "text/plain": [
       "AxisManager(signal[dets,samps], timestamps[samps], boresight*[samps], qboresight_azel[samps,4], qboresight_radec[samps,4], site*[samps], flags*[dets,samps], focal_plane*[dets], bad_signal[dets,samps], dets:LabelAxis(100), samps:OffsetAxis(310758))"
      ]
     },
     "execution_count": 392,
     "metadata": {},
     "output_type": "execute_result"
    },
    {
     "data": {
      "text/plain": [
       "AxisManager(signal[dets,samps], timestamps[samps], boresight*[samps], qboresight_azel[samps,4], qboresight_radec[samps,4], site*[samps], flags*[dets,samps], focal_plane*[dets], badness[dets,samps], dets:LabelAxis(100), samps:OffsetAxis(310758))"
      ]
     },
     "execution_count": 392,
     "metadata": {},
     "output_type": "execute_result"
    },
    {
     "data": {
      "text/plain": [
       "AxisManager(signal[dets,samps], timestamps[samps], boresight*[samps], qboresight_azel[samps,4], qboresight_radec[samps,4], site*[samps], flags*[dets,samps], focal_plane*[dets], badness[dets,samps], bad_signal[dets,samps], dets:LabelAxis(100), samps:OffsetAxis(310758))"
      ]
     },
     "execution_count": 392,
     "metadata": {},
     "output_type": "execute_result"
    },
    {
     "data": {
      "text/plain": [
       "AxisManager(signal[dets,samps], timestamps[samps], boresight*[samps], qboresight_azel[samps,4], qboresight_radec[samps,4], site*[samps], flags*[dets,samps], focal_plane*[dets], bad_signal[dets,samps], dets:LabelAxis(100), samps:OffsetAxis(310758))"
      ]
     },
     "execution_count": 392,
     "metadata": {},
     "output_type": "execute_result"
    },
    {
     "data": {
      "text/plain": [
       "AxisManager(signal[dets,samps], timestamps[samps], boresight*[samps], qboresight_azel[samps,4], qboresight_radec[samps,4], site*[samps], flags*[dets,samps], focal_plane*[dets], badness[dets,samps], dets:LabelAxis(100), samps:OffsetAxis(310758))"
      ]
     },
     "execution_count": 392,
     "metadata": {},
     "output_type": "execute_result"
    },
    {
     "data": {
      "text/plain": [
       "AxisManager(signal[dets,samps], timestamps[samps], boresight*[samps], qboresight_azel[samps,4], qboresight_radec[samps,4], site*[samps], flags*[dets,samps], focal_plane*[dets], badness[dets,samps], bad_signal[dets,samps], dets:LabelAxis(100), samps:OffsetAxis(310758))"
      ]
     },
     "execution_count": 392,
     "metadata": {},
     "output_type": "execute_result"
    },
    {
     "name": "stdout",
     "output_type": "stream",
     "text": [
      "\n",
      "\n",
      "obs_id:  CES-Atacama-LAT-Tier1DEC-035..-045_RA+040..+050-13-0_UHF\n",
      "det_set:  UHF1_wafer_00\n",
      "100 dets: ['00_000_UHF1_A', '00_000_UHF1_B', '00_001_UHF1_A', '00_001_UHF1_B', '00_002_UHF1_A', '00_002_UHF1_B', '00_003_UHF1_A', '00_003_UHF1_B', '00_004_UHF1_A', '00_004_UHF1_B', '00_005_UHF1_A', '00_005_UHF1_B', '00_006_UHF1_A', '00_006_UHF1_B', '00_007_UHF1_A', '00_007_UHF1_B', '00_008_UHF1_A', '00_008_UHF1_B', '00_009_UHF1_A', '00_009_UHF1_B', '00_010_UHF1_A', '00_010_UHF1_B', '00_011_UHF1_A', '00_011_UHF1_B', '00_012_UHF1_A', '00_012_UHF1_B', '00_013_UHF1_A', '00_013_UHF1_B', '00_014_UHF1_A', '00_014_UHF1_B', '00_015_UHF1_A', '00_015_UHF1_B', '00_016_UHF1_A', '00_016_UHF1_B', '00_017_UHF1_A', '00_017_UHF1_B', '00_018_UHF1_A', '00_018_UHF1_B', '00_019_UHF1_A', '00_019_UHF1_B', '00_020_UHF1_A', '00_020_UHF1_B', '00_021_UHF1_A', '00_021_UHF1_B', '00_022_UHF1_A', '00_022_UHF1_B', '00_023_UHF1_A', '00_023_UHF1_B', '00_024_UHF1_A', '00_024_UHF1_B', '00_025_UHF1_A', '00_025_UHF1_B', '00_026_UHF1_A', '00_026_UHF1_B', '00_027_UHF1_A', '00_027_UHF1_B', '00_028_UHF1_A', '00_028_UHF1_B', '00_029_UHF1_A', '00_029_UHF1_B', '00_030_UHF1_A', '00_030_UHF1_B', '00_031_UHF1_A', '00_031_UHF1_B', '00_032_UHF1_A', '00_032_UHF1_B', '00_033_UHF1_A', '00_033_UHF1_B', '00_034_UHF1_A', '00_034_UHF1_B', '00_035_UHF1_A', '00_035_UHF1_B', '00_036_UHF1_A', '00_036_UHF1_B', '00_037_UHF1_A', '00_037_UHF1_B', '00_038_UHF1_A', '00_038_UHF1_B', '00_039_UHF1_A', '00_039_UHF1_B', '00_040_UHF1_A', '00_040_UHF1_B', '00_041_UHF1_A', '00_041_UHF1_B', '00_042_UHF1_A', '00_042_UHF1_B', '00_043_UHF1_A', '00_043_UHF1_B', '00_044_UHF1_A', '00_044_UHF1_B', '00_045_UHF1_A', '00_045_UHF1_B', '00_046_UHF1_A', '00_046_UHF1_B', '00_047_UHF1_A', '00_047_UHF1_B', '00_048_UHF1_A', '00_048_UHF1_B', '00_049_UHF1_A', '00_049_UHF1_B']\n",
      "total glitches:  200\n"
     ]
    }
   ],
   "source": [
    "True_Positive_Rate = []\n",
    "False_Positive_Rate = []\n",
    "Ratio_Glitches_Found = []\n",
    "\n",
    "for i, height in enumerate(heights):\n",
    "    found_glitches_lens = 0\n",
    "    found_glitches_sum = 0\n",
    "    \n",
    "    \n",
    "    if 'badness' in tod:\n",
    "        tod.move('badness', None)\n",
    "    # add glitches\n",
    "    sim_flags.add_random_glitches(tod, params={'n_glitch':n_glitch, 'sig_n_glitch' : 0,'h_glitch':height}, signal='badness', overwrite='True')\n",
    "\n",
    "    if signal_name in tod:\n",
    "        tod.move(signal_name, None)\n",
    "    # add the glitches to the tod\n",
    "    tod.wrap(signal_name, tod.signal+tod.badness, [(0, tod.dets), (1, tod.samps)])\n",
    "\n",
    "    found_glitches = flags.get_glitch_flags(tod, signal=signal_name, overwrite=True)\n",
    "\n",
    "    for det in range(tod.dets.count):\n",
    "        true_glitches_arrays = tod.flags.true_glitches[det].ranges()\n",
    "        true_glitches_positions = [i[0] for i in true_glitches_arrays]\n",
    "   \n",
    "        found_glitches_ranges = found_glitches.ranges[det].ranges()[1:-1]\n",
    "\n",
    "        results = in_range(true_glitches_positions, found_glitches_ranges)\n",
    "\n",
    "        if 0:\n",
    "            if len(results) == 0:\n",
    "                true_positive_rate = 'no glitch found'\n",
    "            else:\n",
    "                true_positive_rate = sum(results)/len(results)\n",
    "                \n",
    "            if len(true_glitches_positions) == 0:\n",
    "                ratio_glitches_found = 'no glitch is added'\n",
    "            else:\n",
    "                ratio_glitches_found  = sum(results)/len(true_glitches_positions)\n",
    "                print('positions: ', true_glitches_positions)\n",
    "                print('ranges:',found_glitches_ranges)\n",
    "                print('results:', results) \n",
    "                print('true_positive_rate:', true_positive_rate)\n",
    "                print('ratio_glitches_found:', ratio_glitches_found)\n",
    "                print('\\n')\n",
    "        \n",
    "\n",
    "        found_glitches_lens  = found_glitches_lens + len(results)\n",
    "        found_glitches_sum  = found_glitches_sum + sum(results)\n",
    "    \n",
    "    True_Positive_Rate.append(found_glitches_sum/found_glitches_lens)\n",
    "    Ratio_Glitches_Found.append(found_glitches_sum/(det_num*n_glitch))\n",
    "    \n",
    "        \n",
    "print('\\n')\n",
    "print('obs_id: ', my_obs['obs_id'])\n",
    "print('det_set: ', det_set)\n",
    "print('%s dets: %s' %(det_num, dets[det_num1:det_num2]))\n",
    "print('total glitches: ', det_num*n_glitch)\n",
    "#print('glitch height: %sK' %height)\n",
    "#print('total true positive rate: ', found_glitches_sum/found_glitches_lens)\n",
    "#print('total ratio glitches found: ', found_glitches_sum/(det_num*n_glitch))"
   ]
  },
  {
   "cell_type": "code",
   "execution_count": 393,
   "metadata": {},
   "outputs": [
    {
     "data": {
      "text/plain": [
       "Text(0.5, 0.98, 'obs_id: CES-Atacama-LAT-Tier1DEC-035..-045_RA+040..+050-13-0_UHF, det_set:UHF1_wafer_00: ')"
      ]
     },
     "execution_count": 393,
     "metadata": {},
     "output_type": "execute_result"
    },
    {
     "data": {
      "text/plain": [
       "[<matplotlib.lines.Line2D at 0x2aab84eee7b8>]"
      ]
     },
     "execution_count": 393,
     "metadata": {},
     "output_type": "execute_result"
    },
    {
     "data": {
      "text/plain": [
       "Text(0.5, 1.0, 'True Positive Rate')"
      ]
     },
     "execution_count": 393,
     "metadata": {},
     "output_type": "execute_result"
    },
    {
     "data": {
      "text/plain": [
       "Text(0.5, 0, 'Glitch Height(K)')"
      ]
     },
     "execution_count": 393,
     "metadata": {},
     "output_type": "execute_result"
    },
    {
     "data": {
      "text/plain": [
       "Text(0, 0.5, 'Ratio')"
      ]
     },
     "execution_count": 393,
     "metadata": {},
     "output_type": "execute_result"
    },
    {
     "data": {
      "text/plain": [
       "[<matplotlib.lines.Line2D at 0x2aab84e714e0>]"
      ]
     },
     "execution_count": 393,
     "metadata": {},
     "output_type": "execute_result"
    },
    {
     "data": {
      "text/plain": [
       "Text(0.5, 1.0, 'Ratio of Glitches Found')"
      ]
     },
     "execution_count": 393,
     "metadata": {},
     "output_type": "execute_result"
    },
    {
     "data": {
      "text/plain": [
       "Text(0.5, 0, 'Glitch Height(K)')"
      ]
     },
     "execution_count": 393,
     "metadata": {},
     "output_type": "execute_result"
    },
    {
     "data": {
      "text/plain": [
       "Text(0, 0.5, 'Ratio')"
      ]
     },
     "execution_count": 393,
     "metadata": {},
     "output_type": "execute_result"
    },
    {
     "data": {
      "image/png": "[encoded data removed]",
      "text/plain": [
       "<Figure size 864x360 with 2 Axes>"
      ]
     },
     "metadata": {
      "needs_background": "light"
     },
     "output_type": "display_data"
    }
   ],
   "source": [
    "fig, ax = plt.subplots(1, 2,figsize=(12,5))\n",
    "plt.suptitle('obs_id: %s, det_set:%s: ' %(my_obs['obs_id'], det_set))\n",
    "\n",
    "ax[0].plot(heights, True_Positive_Rate)\n",
    "ax[0].set_title('True Positive Rate')\n",
    "ax[0].set_xlabel('Glitch Height(K)')\n",
    "ax[0].set_ylabel('Ratio')\n",
    "\n",
    "ax[1].plot(heights, Ratio_Glitches_Found)\n",
    "ax[1].set_title('Ratio of Glitches Found')\n",
    "ax[1].set_xlabel('Glitch Height(K)')\n",
    "ax[1].set_ylabel('Ratio')\n",
    "\n",
    "plt.savefig('./plots/%s.png' %(det_set))"
   ]
  },
  {
   "cell_type": "code",
   "execution_count": 177,
   "metadata": {},
   "outputs": [
    {
     "name": "stdout",
     "output_type": "stream",
     "text": [
      "CES-Atacama-LAT-Tier1DEC-035..-045_RA+040..+050-1-2_MFF\n",
      "['13_000_MFF1_A', '13_000_MFF1_B', '13_001_MFF1_A', '13_001_MFF1_B', '13_002_MFF1_A', '13_002_MFF1_B', '13_003_MFF1_A', '13_003_MFF1_B', '13_004_MFF1_A', '13_004_MFF1_B', '13_005_MFF1_A', '13_005_MFF1_B', '13_006_MFF1_A', '13_006_MFF1_B', '13_007_MFF1_A', '13_007_MFF1_B', '13_008_MFF1_A', '13_008_MFF1_B', '13_009_MFF1_A', '13_009_MFF1_B', '13_010_MFF1_A', '13_010_MFF1_B', '13_011_MFF1_A', '13_011_MFF1_B', '13_012_MFF1_A', '13_012_MFF1_B', '13_013_MFF1_A', '13_013_MFF1_B', '13_014_MFF1_A', '13_014_MFF1_B', '13_015_MFF1_A', '13_015_MFF1_B', '13_016_MFF1_A', '13_016_MFF1_B', '13_017_MFF1_A', '13_017_MFF1_B', '13_018_MFF1_A', '13_018_MFF1_B', '13_019_MFF1_A', '13_019_MFF1_B', '13_020_MFF1_A', '13_020_MFF1_B', '13_021_MFF1_A', '13_021_MFF1_B', '13_022_MFF1_A', '13_022_MFF1_B', '13_023_MFF1_A', '13_023_MFF1_B', '13_024_MFF1_A', '13_024_MFF1_B', '13_025_MFF1_A', '13_025_MFF1_B', '13_026_MFF1_A', '13_026_MFF1_B', '13_027_MFF1_A', '13_027_MFF1_B', '13_028_MFF1_A', '13_028_MFF1_B', '13_029_MFF1_A', '13_029_MFF1_B', '13_030_MFF1_A', '13_030_MFF1_B', '13_031_MFF1_A', '13_031_MFF1_B', '13_032_MFF1_A', '13_032_MFF1_B', '13_033_MFF1_A', '13_033_MFF1_B', '13_034_MFF1_A', '13_034_MFF1_B', '13_035_MFF1_A', '13_035_MFF1_B', '13_036_MFF1_A', '13_036_MFF1_B', '13_037_MFF1_A', '13_037_MFF1_B', '13_038_MFF1_A', '13_038_MFF1_B', '13_039_MFF1_A', '13_039_MFF1_B', '13_040_MFF1_A', '13_040_MFF1_B', '13_041_MFF1_A', '13_041_MFF1_B', '13_042_MFF1_A', '13_042_MFF1_B', '13_043_MFF1_A', '13_043_MFF1_B', '13_044_MFF1_A', '13_044_MFF1_B', '13_045_MFF1_A', '13_045_MFF1_B', '13_046_MFF1_A', '13_046_MFF1_B', '13_047_MFF1_A', '13_047_MFF1_B', '13_048_MFF1_A', '13_048_MFF1_B', '13_049_MFF1_A', '13_049_MFF1_B']\n"
     ]
    },
    {
     "data": {
      "text/plain": [
       "860"
      ]
     },
     "execution_count": 177,
     "metadata": {},
     "output_type": "execute_result"
    },
    {
     "name": "stdout",
     "output_type": "stream",
     "text": [
      "['13_425_MFF1_A', '13_425_MFF1_B', '13_426_MFF1_A', '13_426_MFF1_B', '13_427_MFF1_A', '13_427_MFF1_B', '13_428_MFF1_A', '13_428_MFF1_B', '13_429_MFF1_A']\n"
     ]
    }
   ],
   "source": [
    "#True_Positive_Rate\n",
    "#Ratio_Glitches_Found\n",
    "print(my_obs['obs_id'])\n",
    "print(dets[det_num1:det_num2])\n",
    "len(dets)\n",
    "print(dets[-10:-1])"
   ]
  },
  {
   "cell_type": "code",
   "execution_count": null,
   "metadata": {},
   "outputs": [],
   "source": []
  }
 ],
 "metadata": {
  "kernelspec": {
   "display_name": "Simons Observatory 20200623",
   "language": "python",
   "name": "so-env-20200623"
  },
  "language_info": {
   "codemirror_mode": {
    "name": "ipython",
    "version": 3
   },
   "file_extension": ".py",
   "mimetype": "text/x-python",
   "name": "python",
   "nbconvert_exporter": "python",
   "pygments_lexer": "ipython3",
   "version": "3.7.3"
  }
 },
 "nbformat": 4,
 "nbformat_minor": 4
}
