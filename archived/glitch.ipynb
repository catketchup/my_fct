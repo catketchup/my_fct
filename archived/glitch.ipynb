{
 "cells": [
  {
   "cell_type": "code",
   "execution_count": 37,
   "metadata": {},
   "outputs": [],
   "source": [
    "%matplotlib inline\n",
    "\n",
    "import numpy as np\n",
    "import matplotlib.pyplot as plt\n",
    "\n",
    "from sotodlib import core\n",
    "import sotodlib.io.load as io_load\n",
    "\n",
    "from moby2.analysis import socompat\n",
    "socompat.register_loaders()\n",
    "\n",
    "from IPython.core.interactiveshell import InteractiveShell\n",
    "InteractiveShell.ast_node_interactivity = \"all\""
   ]
  },
  {
   "cell_type": "code",
   "execution_count": 38,
   "metadata": {},
   "outputs": [],
   "source": [
    "### This is used for .g3 files that are not part of an observation database\n",
    "#fname = '/mnt/so1/shared/todsims/pipe-s0001/v4/datadump_LAT_MFF1/CES-Atacama-LAT-Tier1DEC-035..-045_RA+040..+050-0-0/MFF1_wafer_13_00000000.g3'\n",
    "fname = '/global/project/projectdirs/sobs/todsims/pipe-s0001/v4/datadump_LAT_MFF1/CES-Atacama-LAT-Tier1DEC-035..-045_RA+040..+050-0-0/MFF1_wafer_13_00000000.g3'\n",
    "tod = io_load.load_file(fname)"
   ]
  },
  {
   "cell_type": "code",
   "execution_count": 39,
   "metadata": {},
   "outputs": [
    {
     "name": "stdout",
     "output_type": "stream",
     "text": [
      "Overwriting simons1_pipe_s0001_v4.yaml\n"
     ]
    }
   ],
   "source": [
    "%%writefile simons1_pipe_s0001_v4.yaml\n",
    "tags:\n",
    "    sim_base_dir: '/mnt/so1/shared/todsims/pipe-s0001/v4'\n",
    "    meta_dir:     '/mnt/so1/shared/todsims/pipe-s0001/v4'\n",
    "\n",
    "obsfiledb:  '{meta_dir}/obsfiledb.sqlite'\n",
    "detdb:      '{meta_dir}/detdb_lat.gz'\n",
    "obsdb:      '{meta_dir}/obsdb.gz'\n",
    "\n",
    "obs_colon_tags: ['band', 'wafer', 'fcode']\n",
    "obs_loader_type: 'pipe-s0001'\n",
    "\n",
    "metadata:\n",
    "  - db: '{meta_dir}/focalplane.gz'\n",
    "    name: \"focal_plane\""
   ]
  },
  {
   "cell_type": "code",
   "execution_count": 40,
   "metadata": {},
   "outputs": [],
   "source": [
    "nersc_todsims = '/global/project/projectdirs/sobs/todsims/pipe-s0001/v4/context.yaml'\n",
    "nersc_actpol = '/global/project/projectdirs/sobs/users/mhasse/actpol_demo/uranus_200327/metadata/context.yaml'"
   ]
  },
  {
   "cell_type": "code",
   "execution_count": 41,
   "metadata": {},
   "outputs": [],
   "source": [
    "context = core.Context(nersc_todsims)\n",
    "#context = core.Context('simons1_pipe_act_uranus.yaml')"
   ]
  },
  {
   "cell_type": "code",
   "execution_count": 42,
   "metadata": {},
   "outputs": [
    {
     "name": "stdout",
     "output_type": "stream",
     "text": [
      "tags : {'sim_base_dir': '/global/project/projectdirs/sobs/todsims/pipe-s0001/v4', 'meta_dir': '/global/project/projectdirs/sobs/todsims/pipe-s0001/v4'}\n",
      "obsfiledb : {meta_dir}/obsfiledb.sqlite\n",
      "detdb : {meta_dir}/detdb_lat.gz\n",
      "obsdb : {meta_dir}/obsdb.gz\n",
      "obs_colon_tags : ['band', 'wafer', 'fcode']\n",
      "obs_loader_type : pipe-s0001\n",
      "metadata : [{'db': '{meta_dir}/focalplane.gz', 'name': 'focal_plane'}]\n"
     ]
    }
   ],
   "source": [
    "# what is the .yaml look like?\n",
    "import yaml\n",
    "with open(nersc_todsims) as file:\n",
    "    text = yaml.load(file, Loader=yaml.FullLoader)\n",
    "    for item, doc in text.items():\n",
    "        print(item, \":\", doc)"
   ]
  },
  {
   "cell_type": "code",
   "execution_count": 43,
   "metadata": {},
   "outputs": [
    {
     "name": "stdout",
     "output_type": "stream",
     "text": [
      "There are 380 observations currently in the database\n",
      "Observation: CES-Atacama-LAT-Tier1DEC-035..-045_RA+040..+050-21-0_MFF\n",
      "\t timestamp : 1626614093.009091\n",
      "\t drift : setting\n",
      "\t az_min : -141.84857751648792\n",
      "\t az_max : -128.821422483511\n",
      "\t az_med : -135.4197826219584\n",
      "\t el_min : 57.23000345371954\n",
      "\t el_max : 60.22999654516515\n",
      "\t el_med : 58.73\n",
      "\t is_const_el : 0\n",
      "\t is_const_az : 0\n",
      "\t is_stare : 0\n"
     ]
    }
   ],
   "source": [
    "## This returns a ResultSet that lists all the observations in the observation database\n",
    "obs_list = context.obsdb.get()\n",
    "\n",
    "print(\"There are {} observations currently in the database\".format(len(obs_list)))\n",
    "\n",
    "## Choose a random observation from the database\n",
    "# x = np.random.randint(len(obs_list))\n",
    "x = 138\n",
    "my_obs = obs_list[x]\n",
    "\n",
    "## We might want to know things able the observation we are looking at\n",
    "print(\"Observation: {}\".format(my_obs['obs_id']))\n",
    "for k in my_obs:\n",
    "    if k == 'obs_id':\n",
    "        continue\n",
    "    print('\\t', k,':', my_obs[k])"
   ]
  },
  {
   "cell_type": "code",
   "execution_count": 44,
   "metadata": {},
   "outputs": [
    {
     "name": "stdout",
     "output_type": "stream",
     "text": [
      "The different detector sets are: \n",
      " ['MFF1_wafer_13', 'MFF1_wafer_14', 'MFF1_wafer_15', 'MFF1_wafer_16', 'MFF1_wafer_17', 'MFF1_wafer_18', 'MFF2_wafer_13', 'MFF2_wafer_14', 'MFF2_wafer_15', 'MFF2_wafer_16', 'MFF2_wafer_17', 'MFF2_wafer_18']\n",
      "\n",
      "The first 10 detectors of the first detector set are:\n",
      " ['13_000_MFF1_A', '13_000_MFF1_B', '13_001_MFF1_A', '13_001_MFF1_B', '13_002_MFF1_A', '13_002_MFF1_B', '13_003_MFF1_A', '13_003_MFF1_B', '13_004_MFF1_A', '13_004_MFF1_B']\n"
     ]
    }
   ],
   "source": [
    "## Detector Sets are how the observation files are saved at the moment. \n",
    "det_sets = context.obsfiledb.get_detsets( my_obs['obs_id'] )\n",
    "print('The different detector sets are: \\n', det_sets)\n",
    "\n",
    "dets = context.obsfiledb.get_dets(det_sets[0])\n",
    "print('\\nThe first 10 detectors of the first detector set are:\\n',dets[:10])\n",
    "\n",
    "### Just create a tod with n detectors\n",
    "detector_nums = 1\n",
    "tod = context.get_obs(my_obs, dets=dets[:detector_nums])"
   ]
  },
  {
   "cell_type": "code",
   "execution_count": 45,
   "metadata": {},
   "outputs": [
    {
     "name": "stdout",
     "output_type": "stream",
     "text": [
      "tod type: <class 'sotodlib.core.axisman.AxisManager'>\n",
      "tod.timestamps: <class 'numpy.ndarray'>\n",
      "tod.boresight: <class 'sotodlib.core.axisman.AxisManager'>\n",
      "tod.flags: <class 'sotodlib.core.flagman.FlagManager'>\n",
      "\n",
      "AxisManager(signal[dets,samps], timestamps[samps], boresight*[samps], qboresight_azel[samps,4], qboresight_radec[samps,4], site*[samps], flags*[dets,samps], focal_plane*[dets], dets:LabelAxis(1), samps:OffsetAxis(214278))\n"
     ]
    }
   ],
   "source": [
    "print('tod type: {}'.format(type(tod)))\n",
    "print('tod.timestamps: {}'.format(type(tod.timestamps)))\n",
    "print('tod.boresight: {}'.format(type(tod.boresight)))\n",
    "print('tod.flags: {}\\n'.format(type(tod.flags)))\n",
    "print(tod)"
   ]
  },
  {
   "cell_type": "code",
   "execution_count": 46,
   "metadata": {},
   "outputs": [
    {
     "data": {
      "text/plain": [
       "AxisManager(signal[dets,samps], timestamps[samps], boresight*[samps], qboresight_azel[samps,4], qboresight_radec[samps,4], site*[samps], flags*[dets,samps], focal_plane*[dets], sig_mean[samps], dets:LabelAxis(1), samps:OffsetAxis(214278))"
      ]
     },
     "execution_count": 46,
     "metadata": {},
     "output_type": "execute_result"
    }
   ],
   "source": [
    "sig_mean = np.mean( tod.signal, axis = 0)\n",
    "tod.wrap('sig_mean', sig_mean, [(0,tod.samps)])"
   ]
  },
  {
   "cell_type": "code",
   "execution_count": 47,
   "metadata": {},
   "outputs": [
    {
     "name": "stdout",
     "output_type": "stream",
     "text": [
      "Trimming in time...\n"
     ]
    },
    {
     "data": {
      "text/plain": [
       "AxisManager(signal[dets,samps], timestamps[samps], boresight*[samps], qboresight_azel[samps,4], qboresight_radec[samps,4], site*[samps], flags*[dets,samps], focal_plane*[dets], sig_mean[samps], dets:LabelAxis(1), samps:OffsetAxis(209878))"
      ]
     },
     "execution_count": 47,
     "metadata": {},
     "output_type": "execute_result"
    },
    {
     "name": "stdout",
     "output_type": "stream",
     "text": [
      "The TOD now has 209878 samples\n"
     ]
    }
   ],
   "source": [
    "tsamp = np.median(np.diff(tod.timestamps))\n",
    "n_cut = int(10//tsamp)\n",
    "print('Trimming in time...')\n",
    "\n",
    "tod.restrict('samps', (n_cut, tod.samps.count-n_cut))\n",
    "print('The TOD now has {} samples'.format(tod.samps.count))"
   ]
  },
  {
   "cell_type": "code",
   "execution_count": 48,
   "metadata": {},
   "outputs": [
    {
     "data": {
      "text/plain": [
       "[<matplotlib.lines.Line2D at 0x2aab623bba20>]"
      ]
     },
     "execution_count": 48,
     "metadata": {},
     "output_type": "execute_result"
    },
    {
     "data": {
      "text/plain": [
       "[<matplotlib.lines.Line2D at 0x2aab635cd080>]"
      ]
     },
     "execution_count": 48,
     "metadata": {},
     "output_type": "execute_result"
    },
    {
     "data": {
      "text/plain": [
       "Text(0.5, 0, 'Time (s)')"
      ]
     },
     "execution_count": 48,
     "metadata": {},
     "output_type": "execute_result"
    },
    {
     "data": {
      "text/plain": [
       "Text(0, 0.5, 'Signal (K)')"
      ]
     },
     "execution_count": 48,
     "metadata": {},
     "output_type": "execute_result"
    },
    {
     "data": {
      "image/png": "[encoded data removed]",
      "text/plain": [
       "<Figure size 432x252 with 1 Axes>"
      ]
     },
     "metadata": {
      "needs_background": "light"
     },
     "output_type": "display_data"
    }
   ],
   "source": [
    "fig = plt.figure(figsize=(6,3.5))\n",
    "for i in range(tod.dets.count):\n",
    "    plt.plot(tod.timestamps, tod.signal[i])\n",
    "if hasattr(tod, 'sig_mean'):\n",
    "    plt.plot(tod.timestamps, tod.sig_mean, 'k-')\n",
    "plt.xlabel('Time (s)')\n",
    "plt.ylabel('Signal (K)')\n",
    "fig.tight_layout()"
   ]
  },
  {
   "cell_type": "code",
   "execution_count": 49,
   "metadata": {},
   "outputs": [
    {
     "data": {
      "text/plain": [
       "\u001b[0;31mSignature:\u001b[0m \u001b[0mcontext\u001b[0m\u001b[0;34m.\u001b[0m\u001b[0mget_obs\u001b[0m\u001b[0;34m(\u001b[0m\u001b[0mobs_id\u001b[0m\u001b[0;34m=\u001b[0m\u001b[0;32mNone\u001b[0m\u001b[0;34m,\u001b[0m \u001b[0mdets\u001b[0m\u001b[0;34m=\u001b[0m\u001b[0;32mNone\u001b[0m\u001b[0;34m,\u001b[0m \u001b[0mdetsets\u001b[0m\u001b[0;34m=\u001b[0m\u001b[0;32mNone\u001b[0m\u001b[0;34m,\u001b[0m \u001b[0mloader_type\u001b[0m\u001b[0;34m=\u001b[0m\u001b[0;32mNone\u001b[0m\u001b[0;34m)\u001b[0m\u001b[0;34m\u001b[0m\u001b[0;34m\u001b[0m\u001b[0m\n",
       "\u001b[0;31mDocstring:\u001b[0m\n",
       "Load TOD and supporting metadata for a particular observation id.\n",
       "The detectors to read can be specified through colon-coding in\n",
       "obs_id, through dets, or through detsets.\n",
       "\n",
       "After figuring out what detectors you want, loader_type will\n",
       "be used to fund a loader function in the OBSLOADER_REGISTRY.\n",
       "\u001b[0;31mFile:\u001b[0m      /global/common/software/sobs/cori/gnu_20200623/lib/python3.7/site-packages/sotodlib-0+unknown-py3.7.egg/sotodlib/core/context.py\n",
       "\u001b[0;31mType:\u001b[0m      method\n"
      ]
     },
     "metadata": {},
     "output_type": "display_data"
    },
    {
     "name": "stdout",
     "output_type": "stream",
     "text": [
      "<class 'sotodlib.core.axisman.AxisManager'>\n"
     ]
    },
    {
     "data": {
      "text/plain": [
       "AxisManager(signal[dets,samps], timestamps[samps], boresight*[samps], qboresight_azel[samps,4], qboresight_radec[samps,4], site*[samps], flags*[dets,samps], focal_plane*[dets], sig_mean[samps], dets:LabelAxis(1), samps:OffsetAxis(209878))"
      ]
     },
     "execution_count": 49,
     "metadata": {},
     "output_type": "execute_result"
    }
   ],
   "source": [
    "# tod is an AxisManager, it's like a list, each element in the list is a ndarray with a name\n",
    "# try \"tod\"\n",
    "# tod = context.get_obs(my_obs, dets=dets[:detector_nums])\n",
    "?context.get_obs\n",
    "print(type(tod))\n",
    "tod"
   ]
  },
  {
   "cell_type": "code",
   "execution_count": 50,
   "metadata": {},
   "outputs": [],
   "source": [
    "from sotodlib.core import FlagManager\n",
    "\n",
    "import sotodlib.flags as flags\n",
    "import sotodlib.sim_flags as sim_flags\n",
    "\n",
    "import sotodlib.tod_ops.filters as filters\n",
    "\n",
    "from sotodlib.tod_ops import fourier_filter, rfft, detrend_data"
   ]
  },
  {
   "cell_type": "code",
   "execution_count": 79,
   "metadata": {},
   "outputs": [
    {
     "data": {
      "text/plain": [
       "AxisManager(signal[dets,samps], timestamps[samps], boresight*[samps], qboresight_azel[samps,4], qboresight_radec[samps,4], site*[samps], flags*[dets,samps], focal_plane*[dets], sig_mean[samps], bad_signal[dets,samps], dets:LabelAxis(1), samps:OffsetAxis(209878))"
      ]
     },
     "execution_count": 79,
     "metadata": {},
     "output_type": "execute_result"
    }
   ],
   "source": [
    "if 1:\n",
    "    if 'badness' in tod:\n",
    "        tod.move('badness', None)"
   ]
  },
  {
   "cell_type": "code",
   "execution_count": 80,
   "metadata": {},
   "outputs": [
    {
     "data": {
      "text/plain": [
       "[<matplotlib.lines.Line2D at 0x2aab63749f60>]"
      ]
     },
     "execution_count": 80,
     "metadata": {},
     "output_type": "execute_result"
    },
    {
     "data": {
      "text/plain": [
       "[<matplotlib.lines.Line2D at 0x2aab63749198>]"
      ]
     },
     "execution_count": 80,
     "metadata": {},
     "output_type": "execute_result"
    },
    {
     "data": {
      "text/plain": [
       "Text(0.5, 0, 'Time (s)')"
      ]
     },
     "execution_count": 80,
     "metadata": {},
     "output_type": "execute_result"
    },
    {
     "data": {
      "text/plain": [
       "Text(0, 0.5, 'Signal (K)')"
      ]
     },
     "execution_count": 80,
     "metadata": {},
     "output_type": "execute_result"
    },
    {
     "data": {
      "text/plain": [
       "sotodlib.core.axisman.AxisManager"
      ]
     },
     "execution_count": 80,
     "metadata": {},
     "output_type": "execute_result"
    },
    {
     "data": {
      "image/png": "[encoded data removed]",
      "text/plain": [
       "<Figure size 432x252 with 1 Axes>"
      ]
     },
     "metadata": {
      "needs_background": "light"
     },
     "output_type": "display_data"
    }
   ],
   "source": [
    "fig = plt.figure(figsize=(6,3.5))\n",
    "for i in range(tod.dets.count):\n",
    "    if not 'badness' in tod:\n",
    "        plt.plot(tod.timestamps, tod.signal[i])\n",
    "    else:\n",
    "        plt.plot(tod.timestamps, tod.signal[i]+tod.badness[i])\n",
    "if hasattr(tod, 'sig_mean'):\n",
    "    plt.plot(tod.timestamps, tod.sig_mean, 'k-')\n",
    "plt.xlabel('Time (s)')\n",
    "plt.ylabel('Signal (K)')\n",
    "fig.tight_layout()\n",
    "\n",
    "# remember tod is an AxisManager object(class)\n",
    "type(tod)"
   ]
  },
  {
   "cell_type": "code",
   "execution_count": 95,
   "metadata": {},
   "outputs": [],
   "source": [
    "# add a glitch with a height\n",
    "sim_flags.add_random_glitches(tod, params={'n_glitch':2, 'sig_n_glitch' : 0,'h_glitch':8}, signal='badness', overwrite='True')"
   ]
  },
  {
   "cell_type": "code",
   "execution_count": 96,
   "metadata": {},
   "outputs": [],
   "source": [
    "def in_range(Points, Ranges):\n",
    "    results = np.zeros_like(Ranges)\n",
    "    for j, Point in enumerate(Points):\n",
    "        for i, Range in enumerate(Ranges[j:]):\n",
    "            if Point in Range:\n",
    "                results[i+j] = 1\n",
    "            else:\n",
    "                results[i+j] = 0\n",
    "    return results"
   ]
  },
  {
   "cell_type": "code",
   "execution_count": 97,
   "metadata": {},
   "outputs": [
    {
     "data": {
      "text/plain": [
       "<matplotlib.axes._subplots.AxesSubplot at 0x2aab6479bef0>"
      ]
     },
     "execution_count": 97,
     "metadata": {},
     "output_type": "execute_result"
    },
    {
     "data": {
      "text/plain": [
       "[<matplotlib.lines.Line2D at 0x2aab6518f438>]"
      ]
     },
     "execution_count": 97,
     "metadata": {},
     "output_type": "execute_result"
    },
    {
     "data": {
      "text/plain": [
       "<matplotlib.axes._subplots.AxesSubplot at 0x2aab6478c7b8>"
      ]
     },
     "execution_count": 97,
     "metadata": {},
     "output_type": "execute_result"
    },
    {
     "data": {
      "text/plain": [
       "[<matplotlib.lines.Line2D at 0x2aab647789b0>]"
      ]
     },
     "execution_count": 97,
     "metadata": {},
     "output_type": "execute_result"
    },
    {
     "data": {
      "text/plain": [
       "<matplotlib.axes._subplots.AxesSubplot at 0x2aab64778d30>"
      ]
     },
     "execution_count": 97,
     "metadata": {},
     "output_type": "execute_result"
    },
    {
     "data": {
      "text/plain": [
       "[<matplotlib.lines.Line2D at 0x2aab64778d68>]"
      ]
     },
     "execution_count": 97,
     "metadata": {},
     "output_type": "execute_result"
    },
    {
     "data": {
      "image/png": "[encoded data removed]",
      "text/plain": [
       "<Figure size 432x360 with 3 Axes>"
      ]
     },
     "metadata": {
      "needs_background": "light"
     },
     "output_type": "display_data"
    }
   ],
   "source": [
    "fig = plt.figure(figsize=(6,5))\n",
    "\n",
    "plt.subplot(3,1,1)\n",
    "plt.plot(tod.timestamps, tod.signal[0])\n",
    "\n",
    "plt.subplot(3,1,2)\n",
    "plt.plot(tod.timestamps, tod.badness[0])\n",
    "\n",
    "plt.subplot(3,1,3)\n",
    "plt.plot(tod.timestamps, tod.signal[0] + tod.badness[0])\n",
    "\n",
    "fig.tight_layout()"
   ]
  },
  {
   "cell_type": "code",
   "execution_count": 98,
   "metadata": {},
   "outputs": [
    {
     "data": {
      "text/plain": [
       "AxisManager(signal[dets,samps], timestamps[samps], boresight*[samps], qboresight_azel[samps,4], qboresight_radec[samps,4], site*[samps], flags*[dets,samps], focal_plane*[dets], sig_mean[samps], badness[dets,samps], dets:LabelAxis(1), samps:OffsetAxis(209878))"
      ]
     },
     "execution_count": 98,
     "metadata": {},
     "output_type": "execute_result"
    },
    {
     "data": {
      "text/plain": [
       "AxisManager(signal[dets,samps], timestamps[samps], boresight*[samps], qboresight_azel[samps,4], qboresight_radec[samps,4], site*[samps], flags*[dets,samps], focal_plane*[dets], sig_mean[samps], badness[dets,samps], bad_signal[dets,samps], dets:LabelAxis(1), samps:OffsetAxis(209878))"
      ]
     },
     "execution_count": 98,
     "metadata": {},
     "output_type": "execute_result"
    }
   ],
   "source": [
    "## if bad signal is already there, remove it\n",
    "signal_name = 'bad_signal'\n",
    "if signal_name in tod:\n",
    "    tod.move(signal_name, None)\n",
    "## add the bad signal to the tod\n",
    "tod.wrap(signal_name, tod.signal+tod.badness, [(0, tod.dets), (1, tod.samps)])"
   ]
  },
  {
   "cell_type": "code",
   "execution_count": 99,
   "metadata": {},
   "outputs": [
    {
     "data": {
      "text/plain": [
       "array([[50508, 51196],\n",
       "       [83675, 84388]], dtype=int32)"
      ]
     },
     "execution_count": 99,
     "metadata": {},
     "output_type": "execute_result"
    }
   ],
   "source": [
    "found_glitches = flags.get_glitch_flags(tod, signal='bad_signal', overwrite=True)\n",
    "found_glitches.ranges[0].ranges()[1:-1]"
   ]
  },
  {
   "cell_type": "code",
   "execution_count": 100,
   "metadata": {},
   "outputs": [
    {
     "data": {
      "text/plain": [
       "AxisManager(signal[dets,samps], timestamps[samps], boresight*[samps], qboresight_azel[samps,4], qboresight_radec[samps,4], site*[samps], flags*[dets,samps], focal_plane*[dets], sig_mean[samps], badness[dets,samps], bad_signal[dets,samps], dets:LabelAxis(1), samps:OffsetAxis(209878))"
      ]
     },
     "execution_count": 100,
     "metadata": {},
     "output_type": "execute_result"
    }
   ],
   "source": [
    "tod"
   ]
  },
  {
   "cell_type": "code",
   "execution_count": 101,
   "metadata": {},
   "outputs": [
    {
     "name": "stdout",
     "output_type": "stream",
     "text": [
      "<class 'so3g.proj.ranges.RangesMatrix'>\n",
      "<class 'numpy.ndarray'>\n"
     ]
    },
    {
     "data": {
      "text/plain": [
       "array([[50872, 50873],\n",
       "       [84021, 84022]], dtype=int32)"
      ]
     },
     "execution_count": 101,
     "metadata": {},
     "output_type": "execute_result"
    }
   ],
   "source": [
    "# how to get true glitches' positions in a tod?\n",
    "print(type(tod.flags.true_glitches))\n",
    "print(type(tod.flags.true_glitches[0].ranges()))\n",
    "tod.flags.true_glitches[0].ranges()"
   ]
  },
  {
   "cell_type": "code",
   "execution_count": 60,
   "metadata": {},
   "outputs": [
    {
     "data": {
      "text/plain": [
       "[93818, 182525]"
      ]
     },
     "execution_count": 60,
     "metadata": {},
     "output_type": "execute_result"
    },
    {
     "name": "stdout",
     "output_type": "stream",
     "text": [
      "yes\n"
     ]
    },
    {
     "data": {
      "text/plain": [
       "numpy.ndarray"
      ]
     },
     "execution_count": 60,
     "metadata": {},
     "output_type": "execute_result"
    },
    {
     "data": {
      "text/plain": [
       "2"
      ]
     },
     "execution_count": 60,
     "metadata": {},
     "output_type": "execute_result"
    }
   ],
   "source": [
    "true_glitch_array = tod.flags.true_glitches[0].ranges()\n",
    "true_glitch_positions = [i[0] for i in true_glitch_array]\n",
    "true_glitch_positions\n",
    "found_glitches_ranges = tod.flags.true_glitches[0].ranges()\n",
    "if true_glitch_positions[0] in found_glitches_ranges[0]:\n",
    "    print('yes')\n",
    "type(tod.flags.true_glitches[0].ranges())\n",
    "tod.flags.true_glitches[0].ranges()[:, 0].size"
   ]
  },
  {
   "cell_type": "code",
   "execution_count": 61,
   "metadata": {},
   "outputs": [],
   "source": [
    "def in_range(Points,  Ranges):\n",
    "    results = np.zeros_like(Ranges[:, 0].size)\n",
    "    for Point in Points:\n",
    "        for i, Range in enumerate(Ranges):\n",
    "            if Point in Range:\n",
    "                results[i] = 1\n",
    "            else:\n",
    "                results[i] = 0\n",
    "                break\n",
    "        return results\n",
    "                "
   ]
  },
  {
   "cell_type": "code",
   "execution_count": 63,
   "metadata": {},
   "outputs": [],
   "source": [
    "Points = np.array([1, 3, 6])\n",
    "Ranges = np.array([[0,2], [2,4], [4,6]])\n"
   ]
  },
  {
   "cell_type": "code",
   "execution_count": 64,
   "metadata": {},
   "outputs": [
    {
     "data": {
      "text/plain": [
       "numpy.ndarray"
      ]
     },
     "execution_count": 64,
     "metadata": {},
     "output_type": "execute_result"
    }
   ],
   "source": [
    "x = np.arange(10)\n",
    "type(x)"
   ]
  },
  {
   "cell_type": "code",
   "execution_count": 65,
   "metadata": {},
   "outputs": [
    {
     "data": {
      "text/plain": [
       "AxisManager(signal[dets,samps], timestamps[samps], boresight*[samps], qboresight_azel[samps,4], qboresight_radec[samps,4], site*[samps], flags*[dets,samps], focal_plane*[dets], sig_mean[samps], badness[dets,samps], bad_signal[dets,samps], dets:LabelAxis(1), samps:OffsetAxis(209878))"
      ]
     },
     "execution_count": 65,
     "metadata": {},
     "output_type": "execute_result"
    },
    {
     "data": {
      "text/plain": [
       "array([[9.57282925, 9.56878757, 9.57181263, ..., 9.77979565, 9.78743935,\n",
       "        9.77903843]])"
      ]
     },
     "execution_count": 65,
     "metadata": {},
     "output_type": "execute_result"
    },
    {
     "data": {
      "text/plain": [
       "2"
      ]
     },
     "execution_count": 65,
     "metadata": {},
     "output_type": "execute_result"
    },
    {
     "data": {
      "text/plain": [
       "array([9.58129692, 9.58217907, 9.5796299 , 9.58625412, 9.58230591])"
      ]
     },
     "execution_count": 65,
     "metadata": {},
     "output_type": "execute_result"
    },
    {
     "data": {
      "text/plain": [
       "<Figure size 720x216 with 0 Axes>"
      ]
     },
     "execution_count": 65,
     "metadata": {},
     "output_type": "execute_result"
    },
    {
     "data": {
      "text/plain": [
       "<matplotlib.axes._subplots.AxesSubplot at 0x2aab637636d8>"
      ]
     },
     "execution_count": 65,
     "metadata": {},
     "output_type": "execute_result"
    },
    {
     "data": {
      "text/plain": [
       "[<matplotlib.lines.Line2D at 0x2aab636d9160>]"
      ]
     },
     "execution_count": 65,
     "metadata": {},
     "output_type": "execute_result"
    },
    {
     "data": {
      "text/plain": [
       "Text(0.5, 1.0, 'glitch 1')"
      ]
     },
     "execution_count": 65,
     "metadata": {},
     "output_type": "execute_result"
    },
    {
     "data": {
      "text/plain": [
       "<matplotlib.axes._subplots.AxesSubplot at 0x2aab6355e358>"
      ]
     },
     "execution_count": 65,
     "metadata": {},
     "output_type": "execute_result"
    },
    {
     "data": {
      "text/plain": [
       "[<matplotlib.lines.Line2D at 0x2aab6355e278>]"
      ]
     },
     "execution_count": 65,
     "metadata": {},
     "output_type": "execute_result"
    },
    {
     "data": {
      "text/plain": [
       "Text(0.5, 1.0, 'glitch 2')"
      ]
     },
     "execution_count": 65,
     "metadata": {},
     "output_type": "execute_result"
    },
    {
     "data": {
      "image/png": "[encoded data removed]",
      "text/plain": [
       "<Figure size 720x216 with 2 Axes>"
      ]
     },
     "metadata": {
      "needs_background": "light"
     },
     "output_type": "display_data"
    }
   ],
   "source": [
    "# let's hava a look at what a glitch look like\n",
    "tod\n",
    "tod.bad_signal\n",
    "tod.bad_signal.ndim\n",
    "tod.bad_signal[0,3090:3095]\n",
    "plt.figure(figsize=(10,3))\n",
    "\n",
    "plt.subplot(1,2,1)\n",
    "plt.plot(tod.timestamps[47346:48102], tod.bad_signal[0,  47346:48102])\n",
    "plt.title('glitch 1')\n",
    "\n",
    "plt.subplot(1,2,2)\n",
    "plt.plot(tod.timestamps[106234:107011], tod.bad_signal[0, 106234:107011])\n",
    "plt.title('glitch 2')"
   ]
  },
  {
   "cell_type": "code",
   "execution_count": 66,
   "metadata": {},
   "outputs": [
    {
     "data": {
      "text/plain": [
       "array([[     0,    209],\n",
       "       [ 93474,  94162],\n",
       "       [182205, 182890],\n",
       "       [209668, 209878]], dtype=int32)"
      ]
     },
     "execution_count": 66,
     "metadata": {},
     "output_type": "execute_result"
    },
    {
     "data": {
      "text/plain": [
       "array([[ 93474,  94162],\n",
       "       [182205, 182890]], dtype=int32)"
      ]
     },
     "execution_count": 66,
     "metadata": {},
     "output_type": "execute_result"
    }
   ],
   "source": [
    "# how to identify that we find a glitch successfully?\n",
    "# visualize true positive and false positve\n",
    "found_glitches.ranges[0].ranges()\n",
    "found_glitches.ranges[0].ranges()[1:-1]"
   ]
  },
  {
   "cell_type": "code",
   "execution_count": 67,
   "metadata": {},
   "outputs": [
    {
     "name": "stdout",
     "output_type": "stream",
     "text": [
      "2\n"
     ]
    }
   ],
   "source": [
    "n_t_glitch = np.sum([len(t.ranges()) for t in tod.flags.true_glitches])\n",
    "print(n_t_glitch)"
   ]
  },
  {
   "cell_type": "code",
   "execution_count": 68,
   "metadata": {},
   "outputs": [
    {
     "name": "stdout",
     "output_type": "stream",
     "text": [
      "[[     0    209]\n",
      " [ 93474  94162]\n",
      " [182205 182890]\n",
      " [209668 209878]]\n",
      "[<so3g.RangesInt32 object at 0x2aab63dc9818>]\n",
      "Ranges(n=209878:rngs=4)\n"
     ]
    }
   ],
   "source": [
    "print(found_glitches.ranges[0].ranges())\n",
    "print(found_glitches.ranges)\n",
    "print(found_glitches.ranges[0])"
   ]
  },
  {
   "cell_type": "code",
   "execution_count": 69,
   "metadata": {},
   "outputs": [
    {
     "data": {
      "text/plain": [
       "{'samples': [1792], 'intervals': [4]}"
      ]
     },
     "execution_count": 69,
     "metadata": {},
     "output_type": "execute_result"
    }
   ],
   "source": [
    "found_glitches.get_stats()"
   ]
  },
  {
   "cell_type": "code",
   "execution_count": 70,
   "metadata": {},
   "outputs": [
    {
     "name": "stdout",
     "output_type": "stream",
     "text": [
      "2\n"
     ]
    }
   ],
   "source": [
    "# how many true glitches in tod?\n",
    "n_t_glitch = np.sum([len(t.ranges()) for t in tod.flags.true_glitches])\n",
    "print(n_t_glitch)"
   ]
  },
  {
   "cell_type": "code",
   "execution_count": 71,
   "metadata": {},
   "outputs": [
    {
     "data": {
      "text/plain": [
       "RangesMatrix(1,209878)"
      ]
     },
     "execution_count": 71,
     "metadata": {},
     "output_type": "execute_result"
    }
   ],
   "source": [
    "tod.flags.true_glitches"
   ]
  },
  {
   "cell_type": "code",
   "execution_count": 72,
   "metadata": {},
   "outputs": [
    {
     "data": {
      "text/plain": [
       "AxisManager(signal[dets,samps], timestamps[samps], boresight*[samps], qboresight_azel[samps,4], qboresight_radec[samps,4], site*[samps], flags*[dets,samps], focal_plane*[dets], sig_mean[samps], badness[dets,samps], dets:LabelAxis(1), samps:OffsetAxis(209878))"
      ]
     },
     "execution_count": 72,
     "metadata": {},
     "output_type": "execute_result"
    }
   ],
   "source": [
    "if 'bad_signal' in tod:\n",
    "    tod.move('bad_signal', None)"
   ]
  },
  {
   "cell_type": "code",
   "execution_count": 73,
   "metadata": {},
   "outputs": [
    {
     "data": {
      "text/plain": [
       "[<matplotlib.lines.Line2D at 0x2aab635ae320>]"
      ]
     },
     "execution_count": 73,
     "metadata": {},
     "output_type": "execute_result"
    },
    {
     "data": {
      "text/plain": [
       "[<matplotlib.lines.Line2D at 0x2aab63590be0>]"
      ]
     },
     "execution_count": 73,
     "metadata": {},
     "output_type": "execute_result"
    },
    {
     "data": {
      "text/plain": [
       "Text(0.5, 0, 'Time (s)')"
      ]
     },
     "execution_count": 73,
     "metadata": {},
     "output_type": "execute_result"
    },
    {
     "data": {
      "text/plain": [
       "Text(0, 0.5, 'Signal (K)')"
      ]
     },
     "execution_count": 73,
     "metadata": {},
     "output_type": "execute_result"
    },
    {
     "data": {
      "image/png": "[encoded data removed]",
      "text/plain": [
       "<Figure size 432x252 with 1 Axes>"
      ]
     },
     "metadata": {
      "needs_background": "light"
     },
     "output_type": "display_data"
    }
   ],
   "source": [
    "fig = plt.figure(figsize=(6,3.5))\n",
    "for i in range(tod.dets.count):\n",
    "    plt.plot(tod.timestamps, tod.signal[i])\n",
    "if hasattr(tod, 'sig_mean'):\n",
    "    plt.plot(tod.timestamps, tod.sig_mean, 'k-')\n",
    "plt.xlabel('Time (s)')\n",
    "plt.ylabel('Signal (K)')\n",
    "fig.tight_layout()"
   ]
  },
  {
   "cell_type": "code",
   "execution_count": null,
   "metadata": {},
   "outputs": [],
   "source": [
    "flags.get_glitch_flags\n",
    "tod.signal.size"
   ]
  },
  {
   "cell_type": "code",
   "execution_count": null,
   "metadata": {},
   "outputs": [],
   "source": [
    "height = 10\n",
    "\n",
    "def true_positive(tod, height=None, num=None, signal=None):\n",
    "    if 'badness' in tod:\n",
    "        tod.move('badness', None)\n",
    "\n",
    "    for i in range(num):\n",
    "        sim_flags.add_random_glitches(tod, params={'h_glitch':height}, signal='badness')\n",
    "\n",
    "    if signal in tod:\n",
    "        tod.move(signal, None)\n",
    "    ## add the bad signal to the tod\n",
    "    tod.wrap(signal, tod.signal+tod.badness, [(0, tod.dets), (1, tod.samps)])\n",
    "    \n",
    "    # flags.get_glitch_flags uses fourier filtering translation from moby2 at starting point\n",
    "    found_glitches = flags.get_glitch_flags(tod, signal=signal, overwrite=True)\n",
    "    \n",
    "    return found_glitches"
   ]
  },
  {
   "cell_type": "code",
   "execution_count": null,
   "metadata": {},
   "outputs": [],
   "source": [
    "found_glitches = true_positive(tod, height=10, num=5, signal='bad_signal')"
   ]
  }
 ],
 "metadata": {
  "kernelspec": {
   "display_name": "Simons Observatory 20200623",
   "language": "python",
   "name": "so-env-20200623"
  },
  "language_info": {
   "codemirror_mode": {
    "name": "ipython",
    "version": 3
   },
   "file_extension": ".py",
   "mimetype": "text/x-python",
   "name": "python",
   "nbconvert_exporter": "python",
   "pygments_lexer": "ipython3",
   "version": "3.7.3"
  }
 },
 "nbformat": 4,
 "nbformat_minor": 4
}
