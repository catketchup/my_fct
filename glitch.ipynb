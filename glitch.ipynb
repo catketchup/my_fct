{
 "cells": [
  {
   "cell_type": "code",
   "execution_count": 48,
   "metadata": {},
   "outputs": [],
   "source": [
    "%matplotlib inline\n",
    "\n",
    "import numpy as np\n",
    "import matplotlib.pyplot as plt\n",
    "\n",
    "from sotodlib import core\n",
    "import sotodlib.io.load as io_load\n",
    "\n",
    "from moby2.analysis import socompat\n",
    "socompat.register_loaders()\n",
    "\n",
    "from IPython.core.interactiveshell import InteractiveShell\n",
    "InteractiveShell.ast_node_interactivity = \"all\""
   ]
  },
  {
   "cell_type": "code",
   "execution_count": 3,
   "metadata": {},
   "outputs": [],
   "source": [
    "### This is used for .g3 files that are not part of an observation database\n",
    "#fname = '/mnt/so1/shared/todsims/pipe-s0001/v4/datadump_LAT_MFF1/CES-Atacama-LAT-Tier1DEC-035..-045_RA+040..+050-0-0/MFF1_wafer_13_00000000.g3'\n",
    "fname = '/global/project/projectdirs/sobs/todsims/pipe-s0001/v4/datadump_LAT_MFF1/CES-Atacama-LAT-Tier1DEC-035..-045_RA+040..+050-0-0/MFF1_wafer_13_00000000.g3'\n",
    "tod = io_load.load_file(fname)"
   ]
  },
  {
   "cell_type": "code",
   "execution_count": 4,
   "metadata": {},
   "outputs": [
    {
     "name": "stdout",
     "output_type": "stream",
     "text": [
      "Overwriting simons1_pipe_s0001_v4.yaml\n"
     ]
    }
   ],
   "source": [
    "%%writefile simons1_pipe_s0001_v4.yaml\n",
    "tags:\n",
    "    sim_base_dir: '/mnt/so1/shared/todsims/pipe-s0001/v4'\n",
    "    meta_dir:     '/mnt/so1/shared/todsims/pipe-s0001/v4'\n",
    "\n",
    "obsfiledb:  '{meta_dir}/obsfiledb.sqlite'\n",
    "detdb:      '{meta_dir}/detdb_lat.gz'\n",
    "obsdb:      '{meta_dir}/obsdb.gz'\n",
    "\n",
    "obs_colon_tags: ['band', 'wafer', 'fcode']\n",
    "obs_loader_type: 'pipe-s0001'\n",
    "\n",
    "metadata:\n",
    "  - db: '{meta_dir}/focalplane.gz'\n",
    "    name: \"focal_plane\""
   ]
  },
  {
   "cell_type": "code",
   "execution_count": 5,
   "metadata": {},
   "outputs": [],
   "source": [
    "nersc_todsims = '/global/project/projectdirs/sobs/todsims/pipe-s0001/v4/context.yaml'\n",
    "nersc_actpol = '/global/project/projectdirs/sobs/users/mhasse/actpol_demo/uranus_200327/metadata/context.yaml'"
   ]
  },
  {
   "cell_type": "code",
   "execution_count": 6,
   "metadata": {},
   "outputs": [],
   "source": [
    "context = core.Context(nersc_todsims)\n",
    "#context = core.Context('simons1_pipe_act_uranus.yaml')"
   ]
  },
  {
   "cell_type": "code",
   "execution_count": 45,
   "metadata": {},
   "outputs": [
    {
     "name": "stdout",
     "output_type": "stream",
     "text": [
      "tags : {'sim_base_dir': '/global/project/projectdirs/sobs/todsims/pipe-s0001/v4', 'meta_dir': '/global/project/projectdirs/sobs/todsims/pipe-s0001/v4'}\n",
      "obsfiledb : {meta_dir}/obsfiledb.sqlite\n",
      "detdb : {meta_dir}/detdb_lat.gz\n",
      "obsdb : {meta_dir}/obsdb.gz\n",
      "obs_colon_tags : ['band', 'wafer', 'fcode']\n",
      "obs_loader_type : pipe-s0001\n",
      "metadata : [{'db': '{meta_dir}/focalplane.gz', 'name': 'focal_plane'}]\n"
     ]
    }
   ],
   "source": [
    "# what is the .yaml look like?\n",
    "import yaml\n",
    "with open(nersc_todsims) as file:\n",
    "    text = yaml.load(file, Loader=yaml.FullLoader)\n",
    "    for item, doc in text.items():\n",
    "        print(item, \":\", doc)"
   ]
  },
  {
   "cell_type": "code",
   "execution_count": 7,
   "metadata": {},
   "outputs": [
    {
     "name": "stdout",
     "output_type": "stream",
     "text": [
      "There are 380 observations currently in the database\n",
      "Observation: CES-Atacama-LAT-Tier1DEC-035..-045_RA+040..+050-21-0_MFF\n",
      "\t timestamp : 1626614093.009091\n",
      "\t drift : setting\n",
      "\t az_min : -141.84857751648792\n",
      "\t az_max : -128.821422483511\n",
      "\t az_med : -135.4197826219584\n",
      "\t el_min : 57.23000345371954\n",
      "\t el_max : 60.22999654516515\n",
      "\t el_med : 58.73\n",
      "\t is_const_el : 0\n",
      "\t is_const_az : 0\n",
      "\t is_stare : 0\n"
     ]
    }
   ],
   "source": [
    "## This returns a ResultSet that lists all the observations in the observation database\n",
    "obs_list = context.obsdb.get()\n",
    "\n",
    "print(\"There are {} observations currently in the database\".format(len(obs_list)))\n",
    "\n",
    "## Choose a random observation from the database\n",
    "# x = np.random.randint(len(obs_list))\n",
    "x = 138\n",
    "my_obs = obs_list[x]\n",
    "\n",
    "## We might want to know things able the observation we are looking at\n",
    "print(\"Observation: {}\".format(my_obs['obs_id']))\n",
    "for k in my_obs:\n",
    "    if k == 'obs_id':\n",
    "        continue\n",
    "    print('\\t', k,':', my_obs[k])"
   ]
  },
  {
   "cell_type": "code",
   "execution_count": 8,
   "metadata": {},
   "outputs": [
    {
     "name": "stdout",
     "output_type": "stream",
     "text": [
      "The different detector sets are: \n",
      " ['MFF1_wafer_13', 'MFF1_wafer_14', 'MFF1_wafer_15', 'MFF1_wafer_16', 'MFF1_wafer_17', 'MFF1_wafer_18', 'MFF2_wafer_13', 'MFF2_wafer_14', 'MFF2_wafer_15', 'MFF2_wafer_16', 'MFF2_wafer_17', 'MFF2_wafer_18']\n",
      "\n",
      "The first 10 detectors of the first detector set are:\n",
      " ['13_000_MFF1_A', '13_000_MFF1_B', '13_001_MFF1_A', '13_001_MFF1_B', '13_002_MFF1_A', '13_002_MFF1_B', '13_003_MFF1_A', '13_003_MFF1_B', '13_004_MFF1_A', '13_004_MFF1_B']\n"
     ]
    }
   ],
   "source": [
    "## Detector Sets are how the observation files are saved at the moment. \n",
    "det_sets = context.obsfiledb.get_detsets( my_obs['obs_id'] )\n",
    "print('The different detector sets are: \\n', det_sets)\n",
    "\n",
    "dets = context.obsfiledb.get_dets(det_sets[0])\n",
    "print('\\nThe first 10 detectors of the first detector set are:\\n',dets[:10])\n",
    "\n",
    "### Just create a tod with n detectors\n",
    "detector_nums = 1\n",
    "tod = context.get_obs(my_obs, dets=dets[:detector_nums])"
   ]
  },
  {
   "cell_type": "code",
   "execution_count": 9,
   "metadata": {},
   "outputs": [
    {
     "name": "stdout",
     "output_type": "stream",
     "text": [
      "tod type: <class 'sotodlib.core.axisman.AxisManager'>\n",
      "tod.timestamps: <class 'numpy.ndarray'>\n",
      "tod.boresight: <class 'sotodlib.core.axisman.AxisManager'>\n",
      "tod.flags: <class 'sotodlib.core.flagman.FlagManager'>\n",
      "\n",
      "AxisManager(signal[dets,samps], timestamps[samps], boresight*[samps], qboresight_azel[samps,4], qboresight_radec[samps,4], site*[samps], flags*[dets,samps], focal_plane*[dets], dets:LabelAxis(1), samps:OffsetAxis(214278))\n"
     ]
    }
   ],
   "source": [
    "print('tod type: {}'.format(type(tod)))\n",
    "print('tod.timestamps: {}'.format(type(tod.timestamps)))\n",
    "print('tod.boresight: {}'.format(type(tod.boresight)))\n",
    "print('tod.flags: {}\\n'.format(type(tod.flags)))\n",
    "print(tod)"
   ]
  },
  {
   "cell_type": "code",
   "execution_count": 10,
   "metadata": {},
   "outputs": [
    {
     "data": {
      "text/plain": [
       "AxisManager(signal[dets,samps], timestamps[samps], boresight*[samps], qboresight_azel[samps,4], qboresight_radec[samps,4], site*[samps], flags*[dets,samps], focal_plane*[dets], sig_mean[samps], dets:LabelAxis(1), samps:OffsetAxis(214278))"
      ]
     },
     "execution_count": 10,
     "metadata": {},
     "output_type": "execute_result"
    }
   ],
   "source": [
    "sig_mean = np.mean( tod.signal, axis = 0)\n",
    "tod.wrap('sig_mean', sig_mean, [(0,tod.samps)])"
   ]
  },
  {
   "cell_type": "code",
   "execution_count": 11,
   "metadata": {},
   "outputs": [
    {
     "name": "stdout",
     "output_type": "stream",
     "text": [
      "Trimming in time...\n",
      "The TOD now has 209878 samples\n"
     ]
    }
   ],
   "source": [
    "tsamp = np.median(np.diff(tod.timestamps))\n",
    "n_cut = int(10//tsamp)\n",
    "print('Trimming in time...')\n",
    "\n",
    "tod.restrict('samps', (n_cut, tod.samps.count-n_cut))\n",
    "print('The TOD now has {} samples'.format(tod.samps.count))"
   ]
  },
  {
   "cell_type": "code",
   "execution_count": 12,
   "metadata": {},
   "outputs": [
    {
     "data": {
      "image/png": "[encoded data removed]",
      "text/plain": [
       "<Figure size 432x252 with 1 Axes>"
      ]
     },
     "metadata": {
      "needs_background": "light"
     },
     "output_type": "display_data"
    }
   ],
   "source": [
    "fig = plt.figure(figsize=(6,3.5))\n",
    "for i in range(tod.dets.count):\n",
    "    plt.plot(tod.timestamps, tod.signal[i])\n",
    "if hasattr(tod, 'sig_mean'):\n",
    "    plt.plot(tod.timestamps, tod.sig_mean, 'k-')\n",
    "plt.xlabel('Time (s)')\n",
    "plt.ylabel('Signal (K)')\n",
    "fig.tight_layout()"
   ]
  },
  {
   "cell_type": "code",
   "execution_count": 13,
   "metadata": {},
   "outputs": [
    {
     "name": "stdout",
     "output_type": "stream",
     "text": [
      "<class 'sotodlib.core.axisman.AxisManager'>\n"
     ]
    },
    {
     "data": {
      "text/plain": [
       "AxisManager(signal[dets,samps], timestamps[samps], boresight*[samps], qboresight_azel[samps,4], qboresight_radec[samps,4], site*[samps], flags*[dets,samps], focal_plane*[dets], sig_mean[samps], dets:LabelAxis(1), samps:OffsetAxis(209878))"
      ]
     },
     "execution_count": 13,
     "metadata": {},
     "output_type": "execute_result"
    },
    {
     "data": {
      "text/plain": [
       "\u001b[0;31mSignature:\u001b[0m \u001b[0mcontext\u001b[0m\u001b[0;34m.\u001b[0m\u001b[0mget_obs\u001b[0m\u001b[0;34m(\u001b[0m\u001b[0mobs_id\u001b[0m\u001b[0;34m=\u001b[0m\u001b[0;32mNone\u001b[0m\u001b[0;34m,\u001b[0m \u001b[0mdets\u001b[0m\u001b[0;34m=\u001b[0m\u001b[0;32mNone\u001b[0m\u001b[0;34m,\u001b[0m \u001b[0mdetsets\u001b[0m\u001b[0;34m=\u001b[0m\u001b[0;32mNone\u001b[0m\u001b[0;34m,\u001b[0m \u001b[0mloader_type\u001b[0m\u001b[0;34m=\u001b[0m\u001b[0;32mNone\u001b[0m\u001b[0;34m)\u001b[0m\u001b[0;34m\u001b[0m\u001b[0;34m\u001b[0m\u001b[0m\n",
       "\u001b[0;31mDocstring:\u001b[0m\n",
       "Load TOD and supporting metadata for a particular observation id.\n",
       "The detectors to read can be specified through colon-coding in\n",
       "obs_id, through dets, or through detsets.\n",
       "\n",
       "After figuring out what detectors you want, loader_type will\n",
       "be used to fund a loader function in the OBSLOADER_REGISTRY.\n",
       "\u001b[0;31mFile:\u001b[0m      /global/common/software/sobs/cori/gnu_20200623/lib/python3.7/site-packages/sotodlib-0+unknown-py3.7.egg/sotodlib/core/context.py\n",
       "\u001b[0;31mType:\u001b[0m      method\n"
      ]
     },
     "metadata": {},
     "output_type": "display_data"
    }
   ],
   "source": [
    "# tod is an AxisManager, it's like a list, each element in the list is a ndarray with a name\n",
    "# try \"tod\"\n",
    "# tod = context.get_obs(my_obs, dets=dets[:detector_nums])\n",
    "?context.get_obs\n",
    "print(type(tod))\n",
    "tod"
   ]
  },
  {
   "cell_type": "code",
   "execution_count": 14,
   "metadata": {},
   "outputs": [],
   "source": [
    "from sotodlib.core import FlagManager\n",
    "\n",
    "import sotodlib.flags as flags\n",
    "import sotodlib.sim_flags as sim_flags\n",
    "\n",
    "import sotodlib.tod_ops.filters as filters\n",
    "\n",
    "from sotodlib.tod_ops import fourier_filter, rfft, detrend_data"
   ]
  },
  {
   "cell_type": "code",
   "execution_count": 15,
   "metadata": {},
   "outputs": [],
   "source": [
    "if 1:\n",
    "    if 'badness' in tod:\n",
    "        tod.move('badness', None)"
   ]
  },
  {
   "cell_type": "code",
   "execution_count": 16,
   "metadata": {},
   "outputs": [
    {
     "data": {
      "text/plain": [
       "sotodlib.core.axisman.AxisManager"
      ]
     },
     "execution_count": 16,
     "metadata": {},
     "output_type": "execute_result"
    },
    {
     "data": {
      "image/png": "[encoded data removed]",
      "text/plain": [
       "<Figure size 432x252 with 1 Axes>"
      ]
     },
     "metadata": {
      "needs_background": "light"
     },
     "output_type": "display_data"
    }
   ],
   "source": [
    "fig = plt.figure(figsize=(6,3.5))\n",
    "for i in range(tod.dets.count):\n",
    "    if not 'badness' in tod:\n",
    "        plt.plot(tod.timestamps, tod.signal[i])\n",
    "    else:\n",
    "        plt.plot(tod.timestamps, tod.signal[i]+tod.badness[i])\n",
    "if hasattr(tod, 'sig_mean'):\n",
    "    plt.plot(tod.timestamps, tod.sig_mean, 'k-')\n",
    "plt.xlabel('Time (s)')\n",
    "plt.ylabel('Signal (K)')\n",
    "fig.tight_layout()\n",
    "\n",
    "# remember tod is an AxisManager object(class)\n",
    "type(tod)"
   ]
  },
  {
   "cell_type": "code",
   "execution_count": 17,
   "metadata": {},
   "outputs": [],
   "source": [
    "if 'badness' in tod:\n",
    "    tod.move('badness', None)"
   ]
  },
  {
   "cell_type": "code",
   "execution_count": 20,
   "metadata": {},
   "outputs": [],
   "source": [
    "# add a glitch with a height\n",
    "sim_flags.add_random_glitches(tod, params={'n_glitch':2, 'sig_n_glitch' : 0,'h_glitch':8}, signal='badness')"
   ]
  },
  {
   "cell_type": "code",
   "execution_count": 21,
   "metadata": {},
   "outputs": [
    {
     "data": {
      "image/png": "[encoded data removed]",
      "text/plain": [
       "<Figure size 432x360 with 3 Axes>"
      ]
     },
     "metadata": {
      "needs_background": "light"
     },
     "output_type": "display_data"
    }
   ],
   "source": [
    "fig = plt.figure(figsize=(6,5))\n",
    "\n",
    "plt.subplot(3,1,1)\n",
    "plt.plot(tod.timestamps, tod.signal[0])\n",
    "\n",
    "plt.subplot(3,1,2)\n",
    "plt.plot(tod.timestamps, tod.badness[0])\n",
    "\n",
    "plt.subplot(3,1,3)\n",
    "plt.plot(tod.timestamps, tod.signal[0] + tod.badness[0])\n",
    "\n",
    "fig.tight_layout()"
   ]
  },
  {
   "cell_type": "code",
   "execution_count": 22,
   "metadata": {},
   "outputs": [
    {
     "data": {
      "text/plain": [
       "AxisManager(signal[dets,samps], timestamps[samps], boresight*[samps], qboresight_azel[samps,4], qboresight_radec[samps,4], site*[samps], flags*[dets,samps], focal_plane*[dets], sig_mean[samps], badness[dets,samps], bad_signal[dets,samps], dets:LabelAxis(1), samps:OffsetAxis(209878))"
      ]
     },
     "execution_count": 22,
     "metadata": {},
     "output_type": "execute_result"
    }
   ],
   "source": [
    "## if bad signal is already there, remove it\n",
    "signal_name = 'bad_signal'\n",
    "if signal_name in tod:\n",
    "    tod.move(signal_name, None)\n",
    "## add the bad signal to the tod\n",
    "tod.wrap(signal_name, tod.signal+tod.badness, [(0, tod.dets), (1, tod.samps)])"
   ]
  },
  {
   "cell_type": "code",
   "execution_count": 46,
   "metadata": {},
   "outputs": [
    {
     "name": "stdout",
     "output_type": "stream",
     "text": [
      "[[     0    209]\n",
      " [  2705   3434]\n",
      " [ 71177  71886]\n",
      " [144900 145547]\n",
      " [167664 168349]\n",
      " [209668 209878]]\n",
      "[[9.57282925 9.56878757 9.57181263 ... 9.77979565 9.78743935 9.77903843]]\n"
     ]
    }
   ],
   "source": [
    "found_glitches = flags.get_glitch_flags(tod, signal='bad_signal', overwrite=True)\n",
    "print(found_glitches.ranges[0].ranges())"
   ]
  },
  {
   "cell_type": "code",
   "execution_count": 55,
   "metadata": {},
   "outputs": [
    {
     "name": "stdout",
     "output_type": "stream",
     "text": [
      "<class 'so3g.proj.ranges.RangesMatrix'>\n",
      "<class 'numpy.ndarray'>\n"
     ]
    },
    {
     "data": {
      "text/plain": [
       "array([[  3092,   3093],\n",
       "       [ 71542,  71543],\n",
       "       [145224, 145225],\n",
       "       [168007, 168008]], dtype=int32)"
      ]
     },
     "execution_count": 55,
     "metadata": {},
     "output_type": "execute_result"
    },
    {
     "data": {
      "text/plain": [
       "numpy.ndarray"
      ]
     },
     "execution_count": 55,
     "metadata": {},
     "output_type": "execute_result"
    }
   ],
   "source": [
    "# how to get true glitches' positions in a tod?\n",
    "print(type(tod.flags.true_glitches))\n",
    "print(type(tod.flags.true_glitches[0].ranges()))\n",
    "tod.flags.true_glitches[0].ranges()"
   ]
  },
  {
   "cell_type": "code",
   "execution_count": 72,
   "metadata": {},
   "outputs": [
    {
     "data": {
      "text/plain": [
       "AxisManager(signal[dets,samps], timestamps[samps], boresight*[samps], qboresight_azel[samps,4], qboresight_radec[samps,4], site*[samps], flags*[dets,samps], focal_plane*[dets], sig_mean[samps], badness[dets,samps], bad_signal[dets,samps], dets:LabelAxis(1), samps:OffsetAxis(209878))"
      ]
     },
     "execution_count": 72,
     "metadata": {},
     "output_type": "execute_result"
    },
    {
     "data": {
      "text/plain": [
       "array([[9.57282925, 9.56878757, 9.57181263, ..., 9.77979565, 9.78743935,\n",
       "        9.77903843]])"
      ]
     },
     "execution_count": 72,
     "metadata": {},
     "output_type": "execute_result"
    },
    {
     "data": {
      "text/plain": [
       "2"
      ]
     },
     "execution_count": 72,
     "metadata": {},
     "output_type": "execute_result"
    },
    {
     "data": {
      "text/plain": [
       "array([ 9.58129692,  9.58217907, 17.57717127,  9.58625412,  9.58230591])"
      ]
     },
     "execution_count": 72,
     "metadata": {},
     "output_type": "execute_result"
    },
    {
     "data": {
      "text/plain": [
       "<Figure size 720x216 with 0 Axes>"
      ]
     },
     "execution_count": 72,
     "metadata": {},
     "output_type": "execute_result"
    },
    {
     "data": {
      "text/plain": [
       "<matplotlib.axes._subplots.AxesSubplot at 0x2aab63e06be0>"
      ]
     },
     "execution_count": 72,
     "metadata": {},
     "output_type": "execute_result"
    },
    {
     "data": {
      "text/plain": [
       "[<matplotlib.lines.Line2D at 0x2aab63d98b00>]"
      ]
     },
     "execution_count": 72,
     "metadata": {},
     "output_type": "execute_result"
    },
    {
     "data": {
      "text/plain": [
       "Text(0.5, 1.0, 'glitch 1')"
      ]
     },
     "execution_count": 72,
     "metadata": {},
     "output_type": "execute_result"
    },
    {
     "data": {
      "text/plain": [
       "<matplotlib.axes._subplots.AxesSubplot at 0x2aab63eca160>"
      ]
     },
     "execution_count": 72,
     "metadata": {},
     "output_type": "execute_result"
    },
    {
     "data": {
      "text/plain": [
       "[<matplotlib.lines.Line2D at 0x2aab63eca240>]"
      ]
     },
     "execution_count": 72,
     "metadata": {},
     "output_type": "execute_result"
    },
    {
     "data": {
      "text/plain": [
       "Text(0.5, 1.0, 'glitch 2')"
      ]
     },
     "execution_count": 72,
     "metadata": {},
     "output_type": "execute_result"
    },
    {
     "data": {
      "image/png": "[encoded data removed]",
      "text/plain": [
       "<Figure size 720x216 with 2 Axes>"
      ]
     },
     "metadata": {
      "needs_background": "light"
     },
     "output_type": "display_data"
    }
   ],
   "source": [
    "# let's hava a look at what a glitch look like\n",
    "tod\n",
    "tod.bad_signal\n",
    "tod.bad_signal.ndim\n",
    "tod.bad_signal[0,3090:3095]\n",
    "plt.figure(figsize=(10,3))\n",
    "\n",
    "plt.subplot(1,2,1)\n",
    "plt.plot(tod.timestamps[3090:3095], tod.bad_signal[0,3090:3095])\n",
    "plt.title('glitch 1')\n",
    "\n",
    "plt.subplot(1,2,2)\n",
    "plt.plot(tod.timestamps[71540:71545], tod.bad_signal[0, 71540:71545])\n",
    "plt.title('glitch 2')"
   ]
  },
  {
   "cell_type": "code",
   "execution_count": null,
   "metadata": {},
   "outputs": [],
   "source": [
    "# how to identify that we find a glitch successfully?"
   ]
  },
  {
   "cell_type": "code",
   "execution_count": 24,
   "metadata": {},
   "outputs": [
    {
     "name": "stdout",
     "output_type": "stream",
     "text": [
      "4\n"
     ]
    }
   ],
   "source": [
    "n_t_glitch = np.sum([len(t.ranges()) for t in tod.flags.true_glitches])\n",
    "print(n_t_glitch)"
   ]
  },
  {
   "cell_type": "code",
   "execution_count": 25,
   "metadata": {},
   "outputs": [
    {
     "name": "stdout",
     "output_type": "stream",
     "text": [
      "[[     0    209]\n",
      " [  2705   3434]\n",
      " [ 71177  71886]\n",
      " [144900 145547]\n",
      " [167664 168349]\n",
      " [209668 209878]]\n",
      "[<so3g.RangesInt32 object at 0x2aab62a94be0>]\n",
      "Ranges(n=209878:rngs=6)\n"
     ]
    }
   ],
   "source": [
    "print(found_glitches.ranges[0].ranges())\n",
    "print(found_glitches.ranges)\n",
    "print(found_glitches.ranges[0])"
   ]
  },
  {
   "cell_type": "code",
   "execution_count": 422,
   "metadata": {},
   "outputs": [
    {
     "data": {
      "text/plain": [
       "{'samples': [9955], 'intervals': [7]}"
      ]
     },
     "execution_count": 422,
     "metadata": {},
     "output_type": "execute_result"
    }
   ],
   "source": [
    "found_glitches.get_stats()"
   ]
  },
  {
   "cell_type": "code",
   "execution_count": 354,
   "metadata": {},
   "outputs": [
    {
     "name": "stdout",
     "output_type": "stream",
     "text": [
      "5\n"
     ]
    }
   ],
   "source": [
    "# how many true glitches in tod?\n",
    "n_t_glitch = np.sum([len(t.ranges()) for t in tod.flags.true_glitches])\n",
    "print(n_t_glitch)"
   ]
  },
  {
   "cell_type": "code",
   "execution_count": 139,
   "metadata": {},
   "outputs": [
    {
     "name": "stdout",
     "output_type": "stream",
     "text": [
      "RangesMatrix(1,209878)\n"
     ]
    }
   ],
   "source": [
    "tod.flags.true_glitches"
   ]
  },
  {
   "cell_type": "code",
   "execution_count": 246,
   "metadata": {},
   "outputs": [],
   "source": [
    "if 'bad_signal' in tod:\n",
    "    tod.move('bad_signal', None)"
   ]
  },
  {
   "cell_type": "code",
   "execution_count": 244,
   "metadata": {},
   "outputs": [
    {
     "data": {
      "image/png": "[encoded data removed]",
      "text/plain": [
       "<Figure size 432x252 with 1 Axes>"
      ]
     },
     "metadata": {
      "needs_background": "light"
     },
     "output_type": "display_data"
    }
   ],
   "source": [
    "fig = plt.figure(figsize=(6,3.5))\n",
    "for i in range(tod.dets.count):\n",
    "    plt.plot(tod.timestamps, tod.signal[i])\n",
    "if hasattr(tod, 'sig_mean'):\n",
    "    plt.plot(tod.timestamps, tod.sig_mean, 'k-')\n",
    "plt.xlabel('Time (s)')\n",
    "plt.ylabel('Signal (K)')\n",
    "fig.tight_layout()"
   ]
  },
  {
   "cell_type": "code",
   "execution_count": 417,
   "metadata": {},
   "outputs": [
    {
     "data": {
      "text/plain": [
       "209878"
      ]
     },
     "execution_count": 417,
     "metadata": {},
     "output_type": "execute_result"
    }
   ],
   "source": [
    "flags.get_glitch_flags\n",
    "tod.signal.size"
   ]
  },
  {
   "cell_type": "code",
   "execution_count": 484,
   "metadata": {},
   "outputs": [],
   "source": [
    "height = 10\n",
    "\n",
    "def true_positive(tod, height=None, num=None, signal=None):\n",
    "    if 'badness' in tod:\n",
    "        tod.move('badness', None)\n",
    "\n",
    "    for i in range(num):\n",
    "        sim_flags.add_random_glitches(tod, params={'h_glitch':height}, signal='badness')\n",
    "\n",
    "    if signal in tod:\n",
    "        tod.move(signal, None)\n",
    "    ## add the bad signal to the tod\n",
    "    tod.wrap(signal, tod.signal+tod.badness, [(0, tod.dets), (1, tod.samps)])\n",
    "    \n",
    "    # flags.get_glitch_flags uses fourier filtering translation from moby2 at starting point\n",
    "    found_glitches = flags.get_glitch_flags(tod, signal=signal, overwrite=True)\n",
    "    \n",
    "    return found_glitches"
   ]
  },
  {
   "cell_type": "code",
   "execution_count": 522,
   "metadata": {},
   "outputs": [],
   "source": [
    "found_glitches = true_positive(tod, height=10, num=5, signal='bad_signal')"
   ]
  }
 ],
 "metadata": {
  "kernelspec": {
   "display_name": "Simons Observatory 20200623",
   "language": "python",
   "name": "so-env-20200623"
  },
  "language_info": {
   "codemirror_mode": {
    "name": "ipython",
    "version": 3
   },
   "file_extension": ".py",
   "mimetype": "text/x-python",
   "name": "python",
   "nbconvert_exporter": "python",
   "pygments_lexer": "ipython3",
   "version": "3.7.3"
  }
 },
 "nbformat": 4,
 "nbformat_minor": 4
}
