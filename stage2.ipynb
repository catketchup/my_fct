{
 "cells": [
  {
   "cell_type": "code",
   "execution_count": 1,
   "metadata": {},
   "outputs": [],
   "source": [
    "%matplotlib inline\n",
    "\n",
    "import numpy as np\n",
    "import matplotlib.pyplot as plt\n",
    "\n",
    "from sotodlib import core\n",
    "import sotodlib.io.load as io_load\n",
    "\n",
    "from moby2.analysis import socompat\n",
    "socompat.register_loaders()\n",
    "\n",
    "import tools\n",
    "\n",
    "#from IPython.core.interactiveshell import InteractiveShell\n",
    "#InteractiveShell.ast_node_interactivity = \"all\""
   ]
  },
  {
   "cell_type": "code",
   "execution_count": 2,
   "metadata": {},
   "outputs": [],
   "source": [
    "from sotodlib.core import FlagManager\n",
    "\n",
    "import sotodlib.flags as flags\n",
    "import sotodlib.sim_flags as sim_flags\n",
    "\n",
    "import sotodlib.tod_ops.filters as filters\n",
    "\n",
    "from sotodlib.tod_ops import fourier_filter, rfft, detrend_data"
   ]
  },
  {
   "cell_type": "code",
   "execution_count": 3,
   "metadata": {},
   "outputs": [],
   "source": [
    "import tools\n",
    "import importlib\n",
    "importlib.reload(tools)\n",
    "from tools import in_range"
   ]
  },
  {
   "cell_type": "code",
   "execution_count": 4,
   "metadata": {},
   "outputs": [],
   "source": [
    "nersc_todsims = '/global/project/projectdirs/sobs/todsims/pipe-s0001/v4/context.yaml'"
   ]
  },
  {
   "cell_type": "code",
   "execution_count": 5,
   "metadata": {},
   "outputs": [
    {
     "data": {
      "text/plain": [
       "['band', 'wafer', 'fcode']"
      ]
     },
     "execution_count": 5,
     "metadata": {},
     "output_type": "execute_result"
    }
   ],
   "source": [
    "context = core.Context(nersc_todsims)\n",
    "context\n",
    "context['tags']\n",
    "context['obs_colon_tags']"
   ]
  },
  {
   "cell_type": "code",
   "execution_count": 6,
   "metadata": {},
   "outputs": [
    {
     "data": {
      "text/plain": [
       "'CES-Atacama-LAT-Tier1DEC-035..-045_RA+040..+050-11-1_MFS'"
      ]
     },
     "execution_count": 6,
     "metadata": {},
     "output_type": "execute_result"
    }
   ],
   "source": [
    "obs_list = context.obsdb.get()\n",
    "num = 200\n",
    "my_obs = obs_list[num]\n",
    "my_obs\n",
    "my_obs['obs_id']"
   ]
  },
  {
   "cell_type": "code",
   "execution_count": 7,
   "metadata": {},
   "outputs": [
    {
     "data": {
      "text/plain": [
       "'CES-Atacama-LAT-Tier1DEC-035..-045_RA+040..+050-11-1_MFS'"
      ]
     },
     "execution_count": 7,
     "metadata": {},
     "output_type": "execute_result"
    }
   ],
   "source": [
    "my_obs['obs_id']"
   ]
  },
  {
   "cell_type": "code",
   "execution_count": 8,
   "metadata": {},
   "outputs": [
    {
     "data": {
      "text/plain": [
       "['26_000_MFS1_A', '26_000_MFS1_B']"
      ]
     },
     "execution_count": 8,
     "metadata": {},
     "output_type": "execute_result"
    }
   ],
   "source": [
    "# get detsets from an observation\n",
    "det_sets = context.obsfiledb.get_detsets(my_obs['obs_id'])\n",
    "det_sets\n",
    "det_set = det_sets[0]\n",
    "\n",
    "# get single detector from one detector set\n",
    "dets = context.obsfiledb.get_dets(det_set)\n",
    "#det\n",
    "type(dets)\n",
    "dets[0:2]"
   ]
  },
  {
   "cell_type": "code",
   "execution_count": 9,
   "metadata": {},
   "outputs": [
    {
     "name": "stdout",
     "output_type": "stream",
     "text": [
      "Trimming in time...\n",
      "The TOD now has 183478 samples\n"
     ]
    },
    {
     "ename": "NameError",
     "evalue": "name 'signal_name' is not defined",
     "output_type": "error",
     "traceback": [
      "\u001b[0;31m---------------------------------------------------------------------------\u001b[0m",
      "\u001b[0;31mNameError\u001b[0m                                 Traceback (most recent call last)",
      "\u001b[0;32m<ipython-input-9-11631d244827>\u001b[0m in \u001b[0;36m<module>\u001b[0;34m\u001b[0m\n\u001b[1;32m     21\u001b[0m \u001b[0;34m\u001b[0m\u001b[0m\n\u001b[1;32m     22\u001b[0m \u001b[0;34m\u001b[0m\u001b[0m\n\u001b[0;32m---> 23\u001b[0;31m     \u001b[0mfound_glitches\u001b[0m \u001b[0;34m=\u001b[0m \u001b[0mflags\u001b[0m\u001b[0;34m.\u001b[0m\u001b[0mget_glitch_flags\u001b[0m\u001b[0;34m(\u001b[0m\u001b[0mtod\u001b[0m\u001b[0;34m,\u001b[0m \u001b[0msignal\u001b[0m\u001b[0;34m=\u001b[0m\u001b[0msignal_name\u001b[0m\u001b[0;34m,\u001b[0m \u001b[0moverwrite\u001b[0m\u001b[0;34m=\u001b[0m\u001b[0;32mTrue\u001b[0m\u001b[0;34m)\u001b[0m\u001b[0;34m.\u001b[0m\u001b[0mranges\u001b[0m\u001b[0;34m[\u001b[0m\u001b[0mi\u001b[0m\u001b[0;34m]\u001b[0m\u001b[0;34m\u001b[0m\u001b[0;34m\u001b[0m\u001b[0m\n\u001b[0m\u001b[1;32m     24\u001b[0m     \u001b[0mfound_glitches\u001b[0m\u001b[0;34m.\u001b[0m\u001b[0mranges\u001b[0m\u001b[0;34m(\u001b[0m\u001b[0;34m)\u001b[0m\u001b[0;34m\u001b[0m\u001b[0;34m\u001b[0m\u001b[0m\n\u001b[1;32m     25\u001b[0m \u001b[0;34m\u001b[0m\u001b[0m\n",
      "\u001b[0;31mNameError\u001b[0m: name 'signal_name' is not defined"
     ]
    }
   ],
   "source": [
    "tod = context.get_obs(my_obs, dets=dets[5:10])\n",
    "tsamp = np.median(np.diff(tod.timestamps))\n",
    "n_cut = int(10//tsamp)\n",
    "print('Trimming in time...')\n",
    "\n",
    "tod.restrict('samps', (n_cut, tod.samps.count-n_cut))\n",
    "print('The TOD now has {} samples'.format(tod.samps.count))\n",
    "if 'badness' in tod:\n",
    "        tod.move('badness', None)\n",
    "sim_flags.add_random_glitches(tod, params={'n_glitch':2, 'sig_n_glitch' : 0,'h_glitch':5}, signal='badness', overwrite='True')\n",
    "\n",
    "if 'bad_signal' in tod:\n",
    "        tod.move('bad_signal', None)\n",
    "# wrap the glitches to the tod\n",
    "tod.wrap('bad_signal', tod.signal+tod.badness, [(0, tod.dets), (1, tod.samps)])\n",
    "\n",
    "for i in range(tod.dets.count):\n",
    "    \n",
    "    true_glitches = tod.flags.true_glitches[i]\n",
    "    true_glitches.ranges()\n",
    "    \n",
    "    \n",
    "    found_glitches = flags.get_glitch_flags(tod, signal=signal_name, overwrite=True).ranges[i]\n",
    "    found_glitches.ranges()\n",
    "    \n",
    "    \n",
    "    results = true_glitches.mask()*found_glitches.mask()\n",
    "    print('1:', np.sum(true_glitches.mask()))\n",
    "    print('2:', found_glitches.ranges().size/2)\n",
    "    print('3:', np.sum(results))"
   ]
  },
  {
   "cell_type": "code",
   "execution_count": 535,
   "metadata": {},
   "outputs": [],
   "source": [
    "def test_glitch(tod):\n",
    "    tod\n",
    "    found_glitches = flags.get_glitch_flags(tod, signal=signal_name, overwrite=True).ranges\n",
    "    true_glitches = tod.flags.true_glitches\n",
    "    \n",
    "    found_glitches_ranges2D = np.vstack([r.mask() for r in found_glitches])\n",
    "    true_glitches_ranges2D = np.vstack(r.mask() for r in true_glitches)\n",
    "    \n",
    "    result = found_glitches_ranges2D*true_glitches_ranges2D\n",
    "    \n",
    "    \n",
    "    true_sum = true_glitches_ranges2D.sum()\n",
    "    found_sum = sum([mr.ranges().size/2 for mr in found_glitches])\n",
    "    found_true_sum = result.sum()\n",
    "    \n",
    "    detection_rate = found_true_sum/true_sum\n",
    "    true_positive_rate = found_true_sum/found_sum\n",
    "    false_positive_rate = 1 - true_positive_rate\n",
    "    \n",
    "    return detection_rate, true_positive_rate, false_positive_rate"
   ]
  }
 ],
 "metadata": {
  "kernelspec": {
   "display_name": "Simons Observatory 20200623",
   "language": "python",
   "name": "so-env-20200623"
  },
  "language_info": {
   "codemirror_mode": {
    "name": "ipython",
    "version": 3
   },
   "file_extension": ".py",
   "mimetype": "text/x-python",
   "name": "python",
   "nbconvert_exporter": "python",
   "pygments_lexer": "ipython3",
   "version": "3.7.3"
  }
 },
 "nbformat": 4,
 "nbformat_minor": 4
}
