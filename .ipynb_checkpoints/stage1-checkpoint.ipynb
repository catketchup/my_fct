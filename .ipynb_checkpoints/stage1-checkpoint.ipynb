{
 "cells": [
  {
   "cell_type": "code",
   "execution_count": 26,
   "metadata": {},
   "outputs": [],
   "source": [
    "%matplotlib inline\n",
    "\n",
    "import numpy as np\n",
    "import matplotlib.pyplot as plt\n",
    "\n",
    "from sotodlib import core\n",
    "import sotodlib.io.load as io_load\n",
    "\n",
    "from moby2.analysis import socompat\n",
    "socompat.register_loaders()\n",
    "\n",
    "#from IPython.core.interactiveshell import InteractiveShell\n",
    "#InteractiveShell.ast_node_interactivity = \"all\""
   ]
  },
  {
   "cell_type": "code",
   "execution_count": 5,
   "metadata": {},
   "outputs": [],
   "source": [
    "### This is used for .g3 files that are not part of an observation database\n",
    "#fname = '/mnt/so1/shared/todsims/pipe-s0001/v4/datadump_LAT_MFF1/CES-Atacama-LAT-Tier1DEC-035..-045_RA+040..+050-0-0/MFF1_wafer_13_00000000.g3'\n",
    "# fname = '/global/project/projectdirs/sobs/todsims/pipe-s0001/v4/datadump_LAT_MFF1/CES-Atacama-LAT-Tier1DEC-035..-045_RA+040..+050-0-0/MFF1_wafer_13_00000000.g3'\n",
    "# tod = io_load.load_file(fname)"
   ]
  },
  {
   "cell_type": "code",
   "execution_count": 6,
   "metadata": {},
   "outputs": [],
   "source": [
    "nersc_todsims = '/global/project/projectdirs/sobs/todsims/pipe-s0001/v4/context.yaml'\n",
    "#nersc_actpol = '/global/project/projectdirs/sobs/users/mhasse/actpol_demo/uranus_200327/metadata/context.yaml'"
   ]
  },
  {
   "cell_type": "code",
   "execution_count": 7,
   "metadata": {},
   "outputs": [],
   "source": [
    "context = core.Context(nersc_todsims)"
   ]
  },
  {
   "cell_type": "code",
   "execution_count": 8,
   "metadata": {},
   "outputs": [
    {
     "name": "stdout",
     "output_type": "stream",
     "text": [
      "There are 380 observations currently in the database\n",
      "Observation: CES-Atacama-LAT-Tier1DEC-035..-045_RA+040..+050-21-0_MFF\n",
      "\t timestamp : 1626614093.009091\n",
      "\t drift : setting\n",
      "\t az_min : -141.84857751648792\n",
      "\t az_max : -128.821422483511\n",
      "\t az_med : -135.4197826219584\n",
      "\t el_min : 57.23000345371954\n",
      "\t el_max : 60.22999654516515\n",
      "\t el_med : 58.73\n",
      "\t is_const_el : 0\n",
      "\t is_const_az : 0\n",
      "\t is_stare : 0\n"
     ]
    }
   ],
   "source": [
    "## This returns a ResultSet that lists all the observations in the observation database\n",
    "obs_list = context.obsdb.get()\n",
    "\n",
    "print(\"There are {} observations currently in the database\".format(len(obs_list)))\n",
    "\n",
    "## Choose a random observation from the database\n",
    "# x = np.random.randint(len(obs_list))\n",
    "x = 138\n",
    "my_obs = obs_list[x]\n",
    "\n",
    "## We might want to know things able the observation we are looking at\n",
    "print(\"Observation: {}\".format(my_obs['obs_id']))\n",
    "for k in my_obs:\n",
    "    if k == 'obs_id':\n",
    "        continue\n",
    "    print('\\t', k,':', my_obs[k])"
   ]
  },
  {
   "cell_type": "code",
   "execution_count": 9,
   "metadata": {},
   "outputs": [
    {
     "name": "stdout",
     "output_type": "stream",
     "text": [
      "The different detector sets are: \n",
      " ['MFF1_wafer_13', 'MFF1_wafer_14', 'MFF1_wafer_15', 'MFF1_wafer_16', 'MFF1_wafer_17', 'MFF1_wafer_18', 'MFF2_wafer_13', 'MFF2_wafer_14', 'MFF2_wafer_15', 'MFF2_wafer_16', 'MFF2_wafer_17', 'MFF2_wafer_18']\n",
      "\n",
      "The first 10 detectors of the first detector set are:\n",
      " ['13_000_MFF1_A', '13_000_MFF1_B', '13_001_MFF1_A', '13_001_MFF1_B', '13_002_MFF1_A', '13_002_MFF1_B', '13_003_MFF1_A', '13_003_MFF1_B', '13_004_MFF1_A', '13_004_MFF1_B']\n"
     ]
    }
   ],
   "source": [
    "## Detector Sets are how the observation files are saved at the moment. \n",
    "det_sets = context.obsfiledb.get_detsets( my_obs['obs_id'] )\n",
    "print('The different detector sets are: \\n', det_sets)\n",
    "\n",
    "dets = context.obsfiledb.get_dets(det_sets[0])\n",
    "print('\\nThe first 10 detectors of the first detector set are:\\n',dets[:10])\n",
    "\n",
    "### Just create a tod with n detectors\n",
    "detector_nums = 1\n",
    "tod = context.get_obs(my_obs, dets=dets[:detector_nums])"
   ]
  },
  {
   "cell_type": "code",
   "execution_count": 10,
   "metadata": {},
   "outputs": [
    {
     "name": "stdout",
     "output_type": "stream",
     "text": [
      "tod type: <class 'sotodlib.core.axisman.AxisManager'>\n",
      "tod.timestamps: <class 'numpy.ndarray'>\n",
      "tod.boresight: <class 'sotodlib.core.axisman.AxisManager'>\n",
      "tod.flags: <class 'sotodlib.core.flagman.FlagManager'>\n",
      "\n",
      "AxisManager(signal[dets,samps], timestamps[samps], boresight*[samps], qboresight_azel[samps,4], qboresight_radec[samps,4], site*[samps], flags*[dets,samps], focal_plane*[dets], dets:LabelAxis(1), samps:OffsetAxis(214278))\n"
     ]
    }
   ],
   "source": [
    "print('tod type: {}'.format(type(tod)))\n",
    "print('tod.timestamps: {}'.format(type(tod.timestamps)))\n",
    "print('tod.boresight: {}'.format(type(tod.boresight)))\n",
    "print('tod.flags: {}\\n'.format(type(tod.flags)))\n",
    "print(tod)"
   ]
  },
  {
   "cell_type": "code",
   "execution_count": 11,
   "metadata": {},
   "outputs": [
    {
     "data": {
      "text/plain": [
       "AxisManager(signal[dets,samps], timestamps[samps], boresight*[samps], qboresight_azel[samps,4], qboresight_radec[samps,4], site*[samps], flags*[dets,samps], focal_plane*[dets], sig_mean[samps], dets:LabelAxis(1), samps:OffsetAxis(214278))"
      ]
     },
     "execution_count": 11,
     "metadata": {},
     "output_type": "execute_result"
    }
   ],
   "source": [
    "sig_mean = np.mean( tod.signal, axis = 0)\n",
    "tod.wrap('sig_mean', sig_mean, [(0,tod.samps)])"
   ]
  },
  {
   "cell_type": "code",
   "execution_count": 12,
   "metadata": {},
   "outputs": [
    {
     "name": "stdout",
     "output_type": "stream",
     "text": [
      "Trimming in time...\n",
      "The TOD now has 209878 samples\n"
     ]
    }
   ],
   "source": [
    "tsamp = np.median(np.diff(tod.timestamps))\n",
    "n_cut = int(10//tsamp)\n",
    "print('Trimming in time...')\n",
    "\n",
    "tod.restrict('samps', (n_cut, tod.samps.count-n_cut))\n",
    "print('The TOD now has {} samples'.format(tod.samps.count))"
   ]
  },
  {
   "cell_type": "code",
   "execution_count": 13,
   "metadata": {},
   "outputs": [
    {
     "data": {
      "image/png": "[encoded data removed]",
      "text/plain": [
       "<Figure size 432x252 with 1 Axes>"
      ]
     },
     "metadata": {
      "needs_background": "light"
     },
     "output_type": "display_data"
    }
   ],
   "source": [
    "fig = plt.figure(figsize=(6,3.5))\n",
    "for i in range(tod.dets.count):\n",
    "    plt.plot(tod.timestamps, tod.signal[i])\n",
    "if hasattr(tod, 'sig_mean'):\n",
    "    plt.plot(tod.timestamps, tod.sig_mean, 'k-')\n",
    "plt.xlabel('Time (s)')\n",
    "plt.ylabel('Signal (K)')\n",
    "fig.tight_layout()"
   ]
  },
  {
   "cell_type": "code",
   "execution_count": 16,
   "metadata": {},
   "outputs": [],
   "source": [
    "from sotodlib.core import FlagManager\n",
    "\n",
    "import sotodlib.flags as flags\n",
    "import sotodlib.sim_flags as sim_flags\n",
    "\n",
    "import sotodlib.tod_ops.filters as filters\n",
    "\n",
    "from sotodlib.tod_ops import fourier_filter, rfft, detrend_data"
   ]
  },
  {
   "cell_type": "code",
   "execution_count": 17,
   "metadata": {},
   "outputs": [],
   "source": [
    "if 'badness' in tod:\n",
    "    tod.move('badness', None)\n",
    "sim_flags.add_random_glitches(tod, params={'n_glitch':2, 'sig_n_glitch' : 0,'h_glitch':10}, signal='badness')"
   ]
  },
  {
   "cell_type": "code",
   "execution_count": 18,
   "metadata": {},
   "outputs": [
    {
     "data": {
      "text/plain": [
       "[<matplotlib.lines.Line2D at 0x2aab81adedd8>]"
      ]
     },
     "execution_count": 18,
     "metadata": {},
     "output_type": "execute_result"
    },
    {
     "data": {
      "image/png": "[encoded data removed]",
      "text/plain": [
       "<Figure size 432x288 with 1 Axes>"
      ]
     },
     "metadata": {
      "needs_background": "light"
     },
     "output_type": "display_data"
    }
   ],
   "source": [
    "plt.plot(tod.timestamps, tod.signal[0]+tod.badness[0])"
   ]
  },
  {
   "cell_type": "code",
   "execution_count": 20,
   "metadata": {},
   "outputs": [
    {
     "data": {
      "text/plain": [
       "AxisManager(signal[dets,samps], timestamps[samps], boresight*[samps], qboresight_azel[samps,4], qboresight_radec[samps,4], site*[samps], flags*[dets,samps], focal_plane*[dets], sig_mean[samps], badness[dets,samps], bad_signal[dets,samps], dets:LabelAxis(1), samps:OffsetAxis(209878))"
      ]
     },
     "execution_count": 20,
     "metadata": {},
     "output_type": "execute_result"
    }
   ],
   "source": [
    "if 'bad_signal' in tod:\n",
    "    tod.move('bad_signal', None)\n",
    "tod.wrap('bad_signal', tod.signal+tod.badness, [(0, tod.dets), (1, tod.samps)])"
   ]
  },
  {
   "cell_type": "code",
   "execution_count": 21,
   "metadata": {},
   "outputs": [
    {
     "data": {
      "text/plain": [
       "[<matplotlib.lines.Line2D at 0x2aab81b200b8>]"
      ]
     },
     "execution_count": 21,
     "metadata": {},
     "output_type": "execute_result"
    },
    {
     "data": {
      "image/png": "[encoded data removed]",
      "text/plain": [
       "<Figure size 432x288 with 1 Axes>"
      ]
     },
     "metadata": {
      "needs_background": "light"
     },
     "output_type": "display_data"
    }
   ],
   "source": [
    "plt.plot(tod.timestamps, tod.bad_signal[0])"
   ]
  },
  {
   "cell_type": "code",
   "execution_count": 54,
   "metadata": {},
   "outputs": [],
   "source": [
    "import tools\n",
    "import importlib\n",
    "importlib.reload(tools)\n",
    "from tools import in_range"
   ]
  },
  {
   "cell_type": "code",
   "execution_count": 55,
   "metadata": {},
   "outputs": [
    {
     "data": {
      "text/plain": [
       "array([1, 1, 1, 1, 1, 1, 1, 1, 1, 1, 1, 1, 1, 1, 1, 1, 1, 1, 1, 1, 1, 1,\n",
       "       1, 1, 1, 1, 1, 1, 1, 1, 1, 1, 1, 1, 1, 1, 1, 1, 1], dtype=int32)"
      ]
     },
     "execution_count": 55,
     "metadata": {},
     "output_type": "execute_result"
    }
   ],
   "source": [
    "type(tod.flags.true_glitches[0].ranges())\n",
    "true_glitches_array = tod.flags.true_glitches[0].ranges()\n",
    "\n",
    "true_glitch_positions = [i[0] for i in true_glitches_array]\n",
    "true_glitch_positions\n",
    "\n",
    "found_glitches = flags.get_glitch_flags(tod, signal='bad_signal', overwrite=True)\n",
    "found_glitches_ranges = found_glitches.ranges[0].ranges()\n",
    "found_glitches_ranges[1:-1]\n",
    "\n",
    "Results = in_range(true_glitch_positions, found_glitches_ranges[1:-1])\n",
    "Results"
   ]
  },
  {
   "cell_type": "code",
   "execution_count": 56,
   "metadata": {},
   "outputs": [
    {
     "data": {
      "text/plain": [
       "array([1, 1, 0, 1, 0])"
      ]
     },
     "execution_count": 56,
     "metadata": {},
     "output_type": "execute_result"
    }
   ],
   "source": [
    "Points = np.array([1, 3, 6])\n",
    "Ranges = np.array([[0,2], [2,4], [4,5], [6,7], [8,9]])\n",
    "Results = in_range(Points, Ranges)\n",
    "Results"
   ]
  },
  {
   "cell_type": "code",
   "execution_count": 57,
   "metadata": {},
   "outputs": [],
   "source": [
    "heights = np.arange(1,10,1)\n",
    "n_glitch = 50\n",
    "signal_name = 'bad_signal'\n",
    "\n",
    "Ratio_Glitches_Found = np.zeros_like(heights, dtype=float)    \n",
    "True_Positive_Rate = np.zeros_like(heights, dtype=float)\n",
    "False_Positive_Rate = np.zeros_like(heights, dtype=float)\n",
    "\n",
    "for i, height in enumerate(heights):\n",
    "    if 'badness' in tod:\n",
    "        tod.move('badness', None)\n",
    "    # add glitches\n",
    "    sim_flags.add_random_glitches(tod, params={'n_glitch':n_glitch, 'sig_n_glitch' : 0,'h_glitch':height}, signal='badness', overwrite='True')\n",
    "    \n",
    "    if signal_name in tod:\n",
    "        tod.move(signal_name, None)\n",
    "    # add the glitches to the tod\n",
    "    tod.wrap(signal_name, tod.signal+tod.badness, [(0, tod.dets), (1, tod.samps)])\n",
    "    \n",
    "    # to find glitches\n",
    "    found_glitches = flags.get_glitch_flags(tod, signal=signal_name, overwrite=True)\n",
    "    found_glitches_ranges = found_glitches.ranges[0].ranges()[1:-1]\n",
    "    \n",
    "    # true gliches positions\n",
    "    true_glitches_arrays = tod.flags.true_glitches[0].ranges()\n",
    "    true_glitches_positions = [i[0] for i in true_glitches_arrays]\n",
    "    \n",
    "    results = in_range(true_glitches_positions, found_glitches_ranges)\n",
    "    \n",
    "   \n",
    "    True_Positive_Rate[i] = sum(results)/len(results)\n",
    "    Ratio_Glitches_Found[i] = sum(results)/len(true_glitches_positions)\n",
    "    #print(Ratio_Glitches_Found[i])\n",
    "    #print('ration of glitches found:', sum(results)/len(true_glitches_positions))\n",
    "    # print('found_glitches_ranges:\\n', found_glitches_ranges)\n",
    "    # print('true_glitches_positions:\\n', true_glitches_positions)\n",
    "    # print(results)"
   ]
  },
  {
   "cell_type": "code",
   "execution_count": 58,
   "metadata": {},
   "outputs": [
    {
     "data": {
      "text/plain": [
       "array([1, 1, 1, 1, 1, 1, 1, 1, 1, 1, 1, 1, 1, 1, 1, 1, 1, 1, 1, 1, 1, 1,\n",
       "       1, 1, 1, 1, 1, 1, 1, 1, 1, 1, 1, 1, 1, 1, 1, 1, 1, 1, 1, 1, 1, 1,\n",
       "       1, 1], dtype=int32)"
      ]
     },
     "execution_count": 58,
     "metadata": {},
     "output_type": "execute_result"
    }
   ],
   "source": [
    "results\n",
    "#print(true_glitches_positions)\n",
    "#found_glitches_ranges"
   ]
  },
  {
   "cell_type": "code",
   "execution_count": 59,
   "metadata": {},
   "outputs": [
    {
     "data": {
      "text/plain": [
       "Text(0, 0.5, 'Ratio')"
      ]
     },
     "execution_count": 59,
     "metadata": {},
     "output_type": "execute_result"
    },
    {
     "data": {
      "image/png": "[encoded data removed]",
      "text/plain": [
       "<Figure size 432x288 with 1 Axes>"
      ]
     },
     "metadata": {
      "needs_background": "light"
     },
     "output_type": "display_data"
    }
   ],
   "source": [
    "plt.plot(heights, True_Positive_Rate)\n",
    "plt.title('True Positive Rate')\n",
    "plt.xlabel('Glitch Height (K)')\n",
    "plt.ylabel('Ratio')"
   ]
  },
  {
   "cell_type": "code",
   "execution_count": 60,
   "metadata": {},
   "outputs": [
    {
     "data": {
      "text/plain": [
       "Text(0, 0.5, 'Ratio')"
      ]
     },
     "execution_count": 60,
     "metadata": {},
     "output_type": "execute_result"
    },
    {
     "data": {
      "image/png": "[encoded data removed]",
      "text/plain": [
       "<Figure size 432x288 with 1 Axes>"
      ]
     },
     "metadata": {
      "needs_background": "light"
     },
     "output_type": "display_data"
    }
   ],
   "source": [
    "plt.plot(heights, Ratio_Glitches_Found)\n",
    "plt.title('Ratio of Glitches Found')\n",
    "plt.xlabel('Glitch Height(K)')\n",
    "plt.ylabel('Ratio')"
   ]
  },
  {
   "cell_type": "code",
   "execution_count": 114,
   "metadata": {},
   "outputs": [
    {
     "data": {
      "text/plain": [
       "array([1, 1, 0, 1, 0], dtype=object)"
      ]
     },
     "execution_count": 114,
     "metadata": {},
     "output_type": "execute_result"
    }
   ],
   "source": [
    "Points = np.array([1, 3, 6])\n",
    "Ranges = np.array([[0,1,2], [2,3,4], [4,5], [6,7], [8]])\n",
    "\n",
    "def in_range(Points, Ranges):\n",
    "    results = np.zeros_like(Ranges)\n",
    "    for j, Point in enumerate(Points):\n",
    "        for i, Range in enumerate(Ranges[j:]):\n",
    "            if Point in Range:\n",
    "                results[i+j] = 1\n",
    "            else:\n",
    "                results[i+j] = 0\n",
    "    return results\n",
    "\n",
    "Results = in_range(Points, Ranges)\n",
    "Results"
   ]
  },
  {
   "cell_type": "code",
   "execution_count": 31,
   "metadata": {},
   "outputs": [
    {
     "data": {
      "text/plain": [
       "array([[9.57282925, 9.56878757, 9.57181263, ..., 9.77979565, 9.78743935,\n",
       "        9.77903843]])"
      ]
     },
     "execution_count": 31,
     "metadata": {},
     "output_type": "execute_result"
    }
   ],
   "source": [
    "tod.bad_signal"
   ]
  },
  {
   "cell_type": "code",
   "execution_count": null,
   "metadata": {},
   "outputs": [],
   "source": []
  }
 ],
 "metadata": {
  "kernelspec": {
   "display_name": "Simons Observatory 20200623",
   "language": "python",
   "name": "so-env-20200623"
  },
  "language_info": {
   "codemirror_mode": {
    "name": "ipython",
    "version": 3
   },
   "file_extension": ".py",
   "mimetype": "text/x-python",
   "name": "python",
   "nbconvert_exporter": "python",
   "pygments_lexer": "ipython3",
   "version": "3.7.3"
  }
 },
 "nbformat": 4,
 "nbformat_minor": 4
}
