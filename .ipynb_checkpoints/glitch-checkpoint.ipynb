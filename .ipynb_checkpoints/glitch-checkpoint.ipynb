{
 "cells": [
  {
   "cell_type": "code",
   "execution_count": 32,
   "metadata": {},
   "outputs": [],
   "source": [
    "%matplotlib inline\n",
    "\n",
    "import numpy as np\n",
    "import matplotlib.pyplot as plt\n",
    "\n",
    "from sotodlib import core\n",
    "import sotodlib.io.load as io_load\n",
    "\n",
    "from moby2.analysis import socompat\n",
    "socompat.register_loaders()"
   ]
  },
  {
   "cell_type": "code",
   "execution_count": 33,
   "metadata": {},
   "outputs": [],
   "source": [
    "### This is used for .g3 files that are not part of an observation database\n",
    "#fname = '/mnt/so1/shared/todsims/pipe-s0001/v4/datadump_LAT_MFF1/CES-Atacama-LAT-Tier1DEC-035..-045_RA+040..+050-0-0/MFF1_wafer_13_00000000.g3'\n",
    "fname = '/global/project/projectdirs/sobs/todsims/pipe-s0001/v4/datadump_LAT_MFF1/CES-Atacama-LAT-Tier1DEC-035..-045_RA+040..+050-0-0/MFF1_wafer_13_00000000.g3'\n",
    "tod = io_load.load_file(fname)"
   ]
  },
  {
   "cell_type": "code",
   "execution_count": 34,
   "metadata": {},
   "outputs": [
    {
     "name": "stdout",
     "output_type": "stream",
     "text": [
      "Overwriting simons1_pipe_s0001_v4.yaml\n"
     ]
    }
   ],
   "source": [
    "%%writefile simons1_pipe_s0001_v4.yaml\n",
    "tags:\n",
    "    sim_base_dir: '/mnt/so1/shared/todsims/pipe-s0001/v4'\n",
    "    meta_dir:     '/mnt/so1/shared/todsims/pipe-s0001/v4'\n",
    "\n",
    "obsfiledb:  '{meta_dir}/obsfiledb.sqlite'\n",
    "detdb:      '{meta_dir}/detdb_lat.gz'\n",
    "obsdb:      '{meta_dir}/obsdb.gz'\n",
    "\n",
    "obs_colon_tags: ['band', 'wafer', 'fcode']\n",
    "obs_loader_type: 'pipe-s0001'\n",
    "\n",
    "metadata:\n",
    "  - db: '{meta_dir}/focalplane.gz'\n",
    "    name: \"focal_plane\""
   ]
  },
  {
   "cell_type": "code",
   "execution_count": 35,
   "metadata": {},
   "outputs": [],
   "source": [
    "nersc_todsims = '/global/project/projectdirs/sobs/todsims/pipe-s0001/v4/context.yaml'\n",
    "nersc_actpol = '/global/project/projectdirs/sobs/users/mhasse/actpol_demo/uranus_200327/metadata/context.yaml'"
   ]
  },
  {
   "cell_type": "code",
   "execution_count": 36,
   "metadata": {},
   "outputs": [],
   "source": [
    "context = core.Context(nersc_todsims)\n",
    "#context = core.Context('simons1_pipe_act_uranus.yaml')"
   ]
  },
  {
   "cell_type": "code",
   "execution_count": 37,
   "metadata": {},
   "outputs": [
    {
     "name": "stdout",
     "output_type": "stream",
     "text": [
      "There are 380 observations currently in the database\n",
      "Observation: CES-Atacama-LAT-Tier1DEC-035..-045_RA+040..+050-21-0_MFF\n",
      "\t timestamp : 1626614093.009091\n",
      "\t drift : setting\n",
      "\t az_min : -141.84857751648792\n",
      "\t az_max : -128.821422483511\n",
      "\t az_med : -135.4197826219584\n",
      "\t el_min : 57.23000345371954\n",
      "\t el_max : 60.22999654516515\n",
      "\t el_med : 58.73\n",
      "\t is_const_el : 0\n",
      "\t is_const_az : 0\n",
      "\t is_stare : 0\n"
     ]
    }
   ],
   "source": [
    "## This returns a ResultSet that lists all the observations in the observation database\n",
    "obs_list = context.obsdb.get()\n",
    "\n",
    "print(\"There are {} observations currently in the database\".format(len(obs_list)))\n",
    "\n",
    "## Choose a random observation from the database\n",
    "# x = np.random.randint(len(obs_list))\n",
    "x = 138\n",
    "my_obs = obs_list[x]\n",
    "\n",
    "## We might want to know things able the observation we are looking at\n",
    "print(\"Observation: {}\".format(my_obs['obs_id']))\n",
    "for k in my_obs:\n",
    "    if k == 'obs_id':\n",
    "        continue\n",
    "    print('\\t', k,':', my_obs[k])"
   ]
  },
  {
   "cell_type": "code",
   "execution_count": 55,
   "metadata": {},
   "outputs": [
    {
     "name": "stdout",
     "output_type": "stream",
     "text": [
      "The different detector sets are: \n",
      " ['MFF1_wafer_13', 'MFF1_wafer_14', 'MFF1_wafer_15', 'MFF1_wafer_16', 'MFF1_wafer_17', 'MFF1_wafer_18', 'MFF2_wafer_13', 'MFF2_wafer_14', 'MFF2_wafer_15', 'MFF2_wafer_16', 'MFF2_wafer_17', 'MFF2_wafer_18']\n",
      "\n",
      "The first 10 detectors of the first detector set are:\n",
      " ['13_000_MFF1_A', '13_000_MFF1_B', '13_001_MFF1_A', '13_001_MFF1_B', '13_002_MFF1_A', '13_002_MFF1_B', '13_003_MFF1_A', '13_003_MFF1_B', '13_004_MFF1_A', '13_004_MFF1_B']\n"
     ]
    }
   ],
   "source": [
    "## Detector Sets are how the observation files are saved at the moment. \n",
    "det_sets = context.obsfiledb.get_detsets( my_obs['obs_id'] )\n",
    "print('The different detector sets are: \\n', det_sets)\n",
    "\n",
    "dets = context.obsfiledb.get_dets(det_sets[0])\n",
    "print('\\nThe first 10 detectors of the first detector set are:\\n',dets[:10])\n",
    "\n",
    "### Just create a tod with 10 detectors\n",
    "tod = context.get_obs(my_obs, dets=dets[:1])"
   ]
  },
  {
   "cell_type": "code",
   "execution_count": 56,
   "metadata": {},
   "outputs": [
    {
     "data": {
      "text/plain": [
       "array([[9.576688, 9.571351, 9.576924, ..., 9.774548, 9.779385, 9.78214 ]],\n",
       "      dtype=float32)"
      ]
     },
     "execution_count": 56,
     "metadata": {},
     "output_type": "execute_result"
    }
   ],
   "source": [
    "tod.signal"
   ]
  },
  {
   "cell_type": "code",
   "execution_count": 57,
   "metadata": {},
   "outputs": [
    {
     "data": {
      "text/plain": [
       "AxisManager(signal[dets,samps], timestamps[samps], boresight*[samps], qboresight_azel[samps,4], qboresight_radec[samps,4], site*[samps], flags*[dets,samps], focal_plane*[dets], sig_mean[samps], dets:LabelAxis(1), samps:OffsetAxis(214278))"
      ]
     },
     "execution_count": 57,
     "metadata": {},
     "output_type": "execute_result"
    }
   ],
   "source": [
    "sig_mean = np.mean( tod.signal, axis = 0)\n",
    "tod.wrap('sig_mean', sig_mean, [(0,tod.samps)])"
   ]
  },
  {
   "cell_type": "code",
   "execution_count": 58,
   "metadata": {},
   "outputs": [
    {
     "name": "stdout",
     "output_type": "stream",
     "text": [
      "Trimming in time...\n",
      "The TOD now has 209878 samples\n"
     ]
    }
   ],
   "source": [
    "tsamp = np.median(np.diff(tod.timestamps))\n",
    "n_cut = int(10//tsamp)\n",
    "print('Trimming in time...')\n",
    "\n",
    "tod.restrict('samps', (n_cut, tod.samps.count-n_cut))\n",
    "print('The TOD now has {} samples'.format(tod.samps.count))"
   ]
  },
  {
   "cell_type": "code",
   "execution_count": 59,
   "metadata": {},
   "outputs": [
    {
     "data": {
      "image/png": "[encoded data removed]",
      "text/plain": [
       "<Figure size 432x252 with 1 Axes>"
      ]
     },
     "metadata": {
      "needs_background": "light"
     },
     "output_type": "display_data"
    }
   ],
   "source": [
    "fig = plt.figure(figsize=(6,3.5))\n",
    "for i in range(tod.dets.count):\n",
    "    plt.plot(tod.timestamps, tod.signal[i])\n",
    "if hasattr(tod, 'sig_mean'):\n",
    "    plt.plot(tod.timestamps, tod.sig_mean, 'k-')\n",
    "plt.xlabel('Time (s)')\n",
    "plt.ylabel('Signal (K)')\n",
    "fig.tight_layout()"
   ]
  },
  {
   "cell_type": "code",
   "execution_count": 60,
   "metadata": {},
   "outputs": [],
   "source": [
    "from sotodlib.core import FlagManager\n",
    "\n",
    "import sotodlib.flags as flags\n",
    "import sotodlib.sim_flags as sim_flags\n",
    "\n",
    "import sotodlib.tod_ops.filters as filters\n",
    "\n",
    "from sotodlib.tod_ops import fourier_filter, rfft, detrend_data"
   ]
  },
  {
   "cell_type": "code",
   "execution_count": 115,
   "metadata": {},
   "outputs": [],
   "source": [
    "# add a glitch with a height\n",
    "sim_flags.add_random_glitches(tod, params={'h_glitch':80}, signal='badness')"
   ]
  },
  {
   "cell_type": "code",
   "execution_count": 116,
   "metadata": {},
   "outputs": [
    {
     "data": {
      "image/png": "[encoded data removed]",
      "text/plain": [
       "<Figure size 432x252 with 1 Axes>"
      ]
     },
     "metadata": {
      "needs_background": "light"
     },
     "output_type": "display_data"
    }
   ],
   "source": [
    "fig = plt.figure(figsize=(6,3.5))\n",
    "for i in range(tod.dets.count):\n",
    "    if not 'badness' in tod:\n",
    "        plt.plot(tod.timestamps, tod.signal[i])\n",
    "    else:\n",
    "        plt.plot(tod.timestamps, tod.signal[i]+tod.badness[i])\n",
    "if hasattr(tod, 'sig_mean'):\n",
    "    plt.plot(tod.timestamps, tod.sig_mean, 'k-')\n",
    "plt.xlabel('Time (s)')\n",
    "plt.ylabel('Signal (K)')\n",
    "fig.tight_layout()"
   ]
  },
  {
   "cell_type": "code",
   "execution_count": null,
   "metadata": {},
   "outputs": [],
   "source": []
  }
 ],
 "metadata": {
  "kernelspec": {
   "display_name": "Simons Observatory 20200623",
   "language": "python",
   "name": "so-env-20200623"
  },
  "language_info": {
   "codemirror_mode": {
    "name": "ipython",
    "version": 3
   },
   "file_extension": ".py",
   "mimetype": "text/x-python",
   "name": "python",
   "nbconvert_exporter": "python",
   "pygments_lexer": "ipython3",
   "version": "3.7.3"
  }
 },
 "nbformat": 4,
 "nbformat_minor": 4
}
