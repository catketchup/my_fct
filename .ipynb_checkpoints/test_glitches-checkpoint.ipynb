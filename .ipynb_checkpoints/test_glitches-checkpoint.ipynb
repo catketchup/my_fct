{
 "cells": [
  {
   "cell_type": "code",
   "execution_count": 1,
   "metadata": {},
   "outputs": [],
   "source": [
    "%matplotlib inline\n",
    "\n",
    "import numpy as np\n",
    "import matplotlib.pyplot as plt\n",
    "\n",
    "from sotodlib import core\n",
    "import sotodlib.io.load as io_load\n",
    "\n",
    "import tools\n",
    "\n",
    "#from IPython.core.interactiveshell import InteractiveShell\n",
    "#InteractiveShell.ast_node_interactivity = \"all\""
   ]
  },
  {
   "cell_type": "code",
   "execution_count": 2,
   "metadata": {},
   "outputs": [],
   "source": [
    "from sotodlib.core import FlagManager\n",
    "\n",
    "import sotodlib.flags as flags\n",
    "import sotodlib.sim_flags as sim_flags\n",
    "\n",
    "import sotodlib.tod_ops.filters as filters\n",
    "\n",
    "from sotodlib.tod_ops import fourier_filter, rfft, detrend_data\n",
    "\n",
    "import tools\n",
    "import importlib\n",
    "#importlib.reload(tools)"
   ]
  },
  {
   "cell_type": "code",
   "execution_count": 21,
   "metadata": {},
   "outputs": [
    {
     "name": "stdout",
     "output_type": "stream",
     "text": [
      "obs: 1\n",
      "det_set: 1\n",
      "tod: 1\n",
      "arrays: 10\n",
      "CES-Atacama-LAT-Tier1DEC-035..-045_RA+040..+050-0-0_MFF\n",
      "[]\n"
     ]
    }
   ],
   "source": [
    "# LF:0,95  MFF:95,190 MFS:190, 285  UHF:285,380\n",
    "obs_num1, obs_num2 = 95,96\n",
    "obs_num = obs_num2 - obs_num1\n",
    "\n",
    "det_set_num1, det_set_num2 = 1, 2\n",
    "det_set_num = det_set_num2 - det_set_num1\n",
    "\n",
    "det_num1, det_num2 = 0, 10\n",
    "det_num = det_num2 - det_num1\n",
    "\n",
    "n_glitch = 2\n",
    "heights = np.arange(1, 10, 1)\n",
    "\n",
    "# signal/noise ranges\n",
    "S_Ns = np.arange(10, 51, 1)\n",
    "\n",
    "signal_name = 'bad_signal'\n",
    "\n",
    "# Choose observation\n",
    "nersc_todsims = '/global/project/projectdirs/sobs/todsims/pipe-s0001/v4/context.yaml'\n",
    "# for simons 1\n",
    "simons_todsims = '/mnt/so1/shared/todsims/pipe-s0002/v2/context/context.yaml'\n",
    "#simons_todsims = './context.yaml'\n",
    "context = core.Context(simons_todsims)\n",
    "my_obs_list = context.obsdb.get()[obs_num1:obs_num2]\n",
    "det_set_list = context.obsfiledb.get_detsets(my_obs['obs_id'])[det_set_num1:det_set_num2]\n",
    "\n",
    "print('obs:', obs_num)\n",
    "print('det_set:', det_set_num)\n",
    "print('tod:', obs_num*det_set_num)\n",
    "print('arrays:', obs_num * det_set_num*det_num)\n",
    "for my_obs in my_obs_list:\n",
    "    print(my_obs['obs_id'])\n",
    "print(det_set_list)"
   ]
  },
  {
   "cell_type": "code",
   "execution_count": 5,
   "metadata": {},
   "outputs": [
    {
     "name": "stdout",
     "output_type": "stream",
     "text": [
      "Trimming in time...\n"
     ]
    },
    {
     "data": {
      "text/plain": [
       "AxisManager(signal[dets,samps], timestamps[samps], boresight*[samps], qboresight_azel[samps,4], qboresight_radec[samps,4], site*[samps], flags*[dets,samps], focal_plane*[dets], dets:LabelAxis(1), samps:OffsetAxis(50038))"
      ]
     },
     "execution_count": 5,
     "metadata": {},
     "output_type": "execute_result"
    }
   ],
   "source": [
    "## Test single tod\n",
    "\n",
    "# Choose a single observation\n",
    "my_obs = my_obs_list[0]\n",
    "\n",
    "# Choose a single det_set\n",
    "det_set_list = context.obsfiledb.get_detsets(my_obs['obs_id'])[det_set_num1:det_set_num2]\n",
    "det_set = det_set_list[0]\n",
    "\n",
    "# Choose dets from a det_set\n",
    "dets = context.obsfiledb.get_dets(det_set)\n",
    "\n",
    "# Get a single tod, my_obs include the information of a single observation and a single det_set\n",
    "tod = context.get_obs(my_obs, dets=dets[det_num1:det_num2])\n",
    "\n",
    "# Trim this tod\n",
    "tsamp = np.median(np.diff(tod.timestamps))\n",
    "n_cut = int(10//tsamp)\n",
    "print('Trimming in time...')\n",
    "tod.restrict('samps', (n_cut, tod.samps.count-n_cut))"
   ]
  },
  {
   "cell_type": "code",
   "execution_count": 6,
   "metadata": {},
   "outputs": [
    {
     "data": {
      "image/png": "[encoded data removed]",
      "text/plain": [
       "<Figure size 432x252 with 1 Axes>"
      ]
     },
     "metadata": {
      "needs_background": "light"
     },
     "output_type": "display_data"
    }
   ],
   "source": [
    "## Plot the tod\n",
    "sig_mean = np.mean( tod.signal, axis = 0)\n",
    "tod.wrap('sig_mean', sig_mean, [(0,tod.samps)])\n",
    "\n",
    "fig = plt.figure(figsize=(6,3.5))\n",
    "# hb: this loop is for the 10 detectors' measurements\n",
    "for i in range(tod.dets.count):\n",
    "    plt.plot(tod.timestamps, tod.signal[i])\n",
    "if hasattr(tod, 'sig_mean'):\n",
    "    plt.plot(tod.timestamps, tod.sig_mean, 'k-')\n",
    "plt.xlabel('Time (s)')\n",
    "plt.ylabel('Signal (K)')\n",
    "fig.tight_layout()"
   ]
  },
  {
   "cell_type": "code",
   "execution_count": 7,
   "metadata": {},
   "outputs": [
    {
     "data": {
      "text/plain": [
       "AxisManager(signal[dets,samps], timestamps[samps], boresight*[samps], qboresight_azel[samps,4], qboresight_radec[samps,4], site*[samps], flags*[dets,samps], focal_plane*[dets], sig_mean[samps], badness[dets,samps], bad_signal[dets,samps], dets:LabelAxis(1), samps:OffsetAxis(50038))"
      ]
     },
     "execution_count": 7,
     "metadata": {},
     "output_type": "execute_result"
    }
   ],
   "source": [
    "## Add glitches\n",
    "height = 5\n",
    "n_glitch = 2\n",
    "if 'badness' in tod:\n",
    "    tod.move('badness', None)\n",
    "    # add glitches\n",
    "sim_flags.add_random_glitches(tod, params={'n_glitch':n_glitch, 'sig_n_glitch' : 0,'h_glitch':height}, \\\n",
    "                              signal='badness', overwrite='False')\n",
    "\n",
    "if signal_name in tod:\n",
    "    tod.move(signal_name, None)\n",
    "# wrap the glitches to the tod\n",
    "tod.wrap(signal_name, tod.signal+tod.badness, [(0, tod.dets), (1, tod.samps)])"
   ]
  },
  {
   "cell_type": "code",
   "execution_count": 8,
   "metadata": {},
   "outputs": [
    {
     "data": {
      "text/plain": [
       "AxisManager(signal[dets,samps], timestamps[samps], boresight*[samps], qboresight_azel[samps,4], qboresight_radec[samps,4], site*[samps], flags*[dets,samps], focal_plane*[dets], sig_mean[samps], badness[dets,samps], bad_signal[dets,samps], dets:LabelAxis(1), samps:OffsetAxis(50038))"
      ]
     },
     "execution_count": 8,
     "metadata": {},
     "output_type": "execute_result"
    }
   ],
   "source": [
    "tod"
   ]
  },
  {
   "cell_type": "code",
   "execution_count": 9,
   "metadata": {},
   "outputs": [
    {
     "data": {
      "image/png": "[encoded data removed]",
      "text/plain": [
       "<Figure size 432x252 with 1 Axes>"
      ]
     },
     "metadata": {
      "needs_background": "light"
     },
     "output_type": "display_data"
    }
   ],
   "source": [
    "## Plot the tod\n",
    "fig = plt.figure(figsize=(6,3.5))\n",
    "# hb: this loop is for the 10 detectors' measurements\n",
    "for i in range(tod.dets.count):\n",
    "    plt.plot(tod.timestamps, tod.bad_signal[i])\n",
    "plt.xlabel('Time (s)')\n",
    "plt.ylabel('Signal (K)')\n",
    "fig.tight_layout()"
   ]
  },
  {
   "cell_type": "code",
   "execution_count": 10,
   "metadata": {},
   "outputs": [
    {
     "name": "stdout",
     "output_type": "stream",
     "text": [
      "<class 'sotodlib.core.axisman.AxisManager'>\n"
     ]
    },
    {
     "data": {
      "text/plain": [
       "AxisManager(signal[dets,samps], timestamps[samps], boresight*[samps], qboresight_azel[samps,4], qboresight_radec[samps,4], site*[samps], flags*[dets,samps], focal_plane*[dets], sig_mean[samps], badness[dets,samps], bad_signal[dets,samps], timeconst[dets], dets:LabelAxis(1), samps:OffsetAxis(50038))"
      ]
     },
     "execution_count": 10,
     "metadata": {},
     "output_type": "execute_result"
    }
   ],
   "source": [
    "## Convolve time constant\n",
    "# Firstly, tod is an AxisManager class, its repr is a odict\n",
    "print(type(tod))\n",
    "# Generate time const\n",
    "tau = np.array([0.002] * tod.dets.count)\n",
    "tod.wrap('timeconst', -tau, [(0,  tod.dets)])"
   ]
  },
  {
   "cell_type": "code",
   "execution_count": 11,
   "metadata": {},
   "outputs": [],
   "source": [
    "## Convolve tod with timeconst\n",
    "# How timeconst works?\n",
    "filt_function = filters.tau_filter()\n",
    "filt_tod = fourier_filter(tod, filt_function, signal_name='bad_signal')"
   ]
  },
  {
   "cell_type": "code",
   "execution_count": 12,
   "metadata": {},
   "outputs": [
    {
     "data": {
      "image/png": "[encoded data removed]",
      "text/plain": [
       "<Figure size 432x288 with 1 Axes>"
      ]
     },
     "metadata": {
      "needs_background": "light"
     },
     "output_type": "display_data"
    }
   ],
   "source": [
    "plt.plot(tod.timestamps, (tod.bad_signal - tod.bad_signal.mean(axis=1, keepdims=True))[0], label='tod')\n",
    "plt.plot(tod.timestamps, filt_tod[0], label='filtered tod')\n",
    "plt.legend()\n",
    "plt.xlabel('Time (s)')\n",
    "plt.ylabel('Signal (K)')\n",
    "plt.savefig('./plots/timeconst.png')"
   ]
  },
  {
   "cell_type": "code",
   "execution_count": null,
   "metadata": {},
   "outputs": [],
   "source": []
  }
 ],
 "metadata": {
  "kernelspec": {
   "display_name": "Python 3",
   "language": "python",
   "name": "python3"
  },
  "language_info": {
   "codemirror_mode": {
    "name": "ipython",
    "version": 3
   },
   "file_extension": ".py",
   "mimetype": "text/x-python",
   "name": "python",
   "nbconvert_exporter": "python",
   "pygments_lexer": "ipython3",
   "version": "3.7.6"
  }
 },
 "nbformat": 4,
 "nbformat_minor": 4
}
