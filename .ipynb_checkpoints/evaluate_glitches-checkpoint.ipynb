{
 "cells": [
  {
   "cell_type": "code",
   "execution_count": 18,
   "metadata": {},
   "outputs": [],
   "source": [
    "%matplotlib inline\n",
    "\n",
    "import numpy as np\n",
    "import matplotlib.pyplot as plt\n",
    "\n",
    "from sotodlib import core\n",
    "import sotodlib.io.load as io_load\n",
    "\n",
    "from moby2.analysis import socompat\n",
    "socompat.register_loaders()\n",
    "\n",
    "import tools\n",
    "\n",
    "#from IPython.core.interactiveshell import InteractiveShell\n",
    "#InteractiveShell.ast_node_interactivity = \"all\""
   ]
  },
  {
   "cell_type": "code",
   "execution_count": 19,
   "metadata": {},
   "outputs": [],
   "source": [
    "from sotodlib.core import FlagManager\n",
    "\n",
    "import sotodlib.flags as flags\n",
    "import sotodlib.sim_flags as sim_flags\n",
    "\n",
    "import sotodlib.tod_ops.filters as filters\n",
    "\n",
    "from sotodlib.tod_ops import fourier_filter, rfft, detrend_data"
   ]
  },
  {
   "cell_type": "code",
   "execution_count": 20,
   "metadata": {},
   "outputs": [],
   "source": [
    "import tools\n",
    "import importlib\n",
    "importlib.reload(tools)\n",
    "from tools import in_range"
   ]
  },
  {
   "cell_type": "code",
   "execution_count": 21,
   "metadata": {},
   "outputs": [],
   "source": [
    "def test_glitch(tod, detail=False):\n",
    "    found_glitches = flags.get_glitch_flags(tod, signal=signal_name, overwrite=True).ranges\n",
    "    true_glitches = tod.flags.true_glitches\n",
    "    \n",
    "    found_glitches_ranges2D = np.vstack([r.mask() for r in found_glitches])\n",
    "    true_glitches_ranges2D = np.vstack(r.mask() for r in true_glitches)\n",
    "    \n",
    "    result = found_glitches_ranges2D*true_glitches_ranges2D\n",
    "            \n",
    "    false_sum = 0\n",
    "    for det in range(tod.dets.count):\n",
    "        false_count = 0\n",
    "        r = found_glitches[det].ranges()\n",
    "        \n",
    "        for index in r:\n",
    "            s = np.sum(found_glitches[det].mask()[index[0]:index[1]] * true_glitches[det].mask()[index[0]:index[1]])\n",
    "            if s == 0:\n",
    "                false_count = false_count + 1\n",
    "                false_sum = false_sum + 1\n",
    "                \n",
    "        if detail == True:\n",
    "            true = tod.flags.true_glitches[det]\n",
    "            \n",
    "    \n",
    "            found = flags.get_glitch_flags(tod, signal=signal_name, overwrite=True).ranges[det]\n",
    "        \n",
    "            results = true.mask()*found.mask()\n",
    "            print('det:', det)\n",
    "            print('true glitches:%s %s' %(np.sum(true.mask()),true.ranges()))\n",
    "            #print('\\n')\n",
    "            print('found ranges:%s %s' %(int(found.ranges().size/2),found.ranges()))\n",
    "            #print('\\n')\n",
    "            print('found true glitches:', np.sum(results))\n",
    "            print('found false ranges:', false_count)\n",
    "            print('detection rate:', np.sum(results)/np.sum(true.mask()))\n",
    "            print('true positive rate:', (int(found.ranges().size/2)-false_count)/int(found.ranges().size/2))\n",
    "            print('\\n')\n",
    "            \n",
    "    #print('false sum:', false_sum)\n",
    "    #print('\\n')\n",
    "    \n",
    "    true_sum = true_glitches_ranges2D.sum()\n",
    "    found_sum = sum([mr.ranges().size/2 for mr in found_glitches])\n",
    "    found_true_sum = result.sum()\n",
    "    \n",
    "    detection_rate = found_true_sum/true_sum\n",
    "    \n",
    "    \n",
    "    true_positive_rate = (found_sum - false_sum)/found_sum\n",
    "    false_positive_rate = 1 - true_positive_rate\n",
    "    \n",
    "    return detection_rate, true_positive_rate, false_positive_rate"
   ]
  },
  {
   "cell_type": "code",
   "execution_count": 22,
   "metadata": {},
   "outputs": [
    {
     "name": "stdout",
     "output_type": "stream",
     "text": [
      "tod: 1\n",
      "CES-Atacama-LAT-Tier1DEC-035..-045_RA+040..+050-0-0_LF\n",
      "['LF1_tube_LT6']\n"
     ]
    }
   ],
   "source": [
    "# LF:0,95  MFF:95,190 MFS:190, 285  UHF:285,380\n",
    "obs_num1, obs_num2 = 0, 1\n",
    "obs_num = obs_num2 - obs_num1\n",
    "\n",
    "det_set_num1, det_set_num2 = 0, 1\n",
    "det_set_num = det_set_num2 - det_set_num1\n",
    "\n",
    "det_num1, det_num2 = 0, 1\n",
    "det_num = det_num2 - det_num1\n",
    "\n",
    "n_glitch = 2\n",
    "heights = np.arange(1, 10, 1)\n",
    "\n",
    "s_n = np.arange(10, 51, 1)\n",
    "\n",
    "signal_name = 'bad_signal'\n",
    "\n",
    "# Choose observation\n",
    "nersc_todsims = '/global/project/projectdirs/sobs/todsims/pipe-s0001/v4/context.yaml'\n",
    "context = core.Context(nersc_todsims)\n",
    "my_obs_list = context.obsdb.get()[obs_num1:obs_num2]\n",
    "\n",
    "print('tod:', obs_num * det_set_num)\n",
    "for my_obs in my_obs_list:\n",
    "    print(my_obs['obs_id'])\n",
    "print(context.obsfiledb.get_detsets(my_obs['obs_id'])[det_set_num1:det_set_num2])"
   ]
  },
  {
   "cell_type": "code",
   "execution_count": 6,
   "metadata": {},
   "outputs": [],
   "source": [
    "my_obs = my_obs_list[0]\n",
    "det_set_list = context.obsfiledb.get_detsets(my_obs['obs_id'])[det_set_num1:det_set_num2]\n",
    "det_set = det_set_list[0]\n",
    "dets = context.obsfiledb.get_dets(det_set)\n",
    "tod = context.get_obs(my_obs, dets=dets[det_num1:det_num2])\n",
    "tod\n",
    "# add glitch \n",
    "n_glitch = 2\n",
    "height = 5\n",
    "signal_name = 'bad_signal'\n",
    "\n",
    "if 'badness' in tod:\n",
    "    tod.move('badness', None)\n",
    "    # add glitches\n",
    "    sim_flags.add_random_glitches(tod, params={'n_glitch':n_glitch, 'sig_n_glitch' : 0,'h_glitch':height}, signal='badness', overwrite='False')\n",
    "\n",
    "if signal_name in tod:\n",
    "    tod.move(signal_name, None)\n",
    "    # add the glitches to the tod\n",
    "    tod.wrap(signal_name, tod.signal+tod.badness, [(0, tod.dets), (1, tod.samps)])\n",
    "    \n",
    "Found_glitches = flags.get_glitch_flags(tod, overwrite=True)"
   ]
  },
  {
   "cell_type": "code",
   "execution_count": 17,
   "metadata": {},
   "outputs": [
    {
     "data": {
      "text/plain": [
       "array([[    0,   202],\n",
       "       [51037, 51238]], dtype=int32)"
      ]
     },
     "execution_count": 17,
     "metadata": {},
     "output_type": "execute_result"
    }
   ],
   "source": [
    "Found_glitches.ranges[0].ranges()"
   ]
  },
  {
   "cell_type": "code",
   "execution_count": 7,
   "metadata": {},
   "outputs": [
    {
     "name": "stdout",
     "output_type": "stream",
     "text": [
      "\n",
      "\n",
      "CES-Atacama-LAT-Tier1DEC-035..-045_RA+040..+050-0-0_LF\n",
      "LF1_tube_LT6\n",
      "True_Positive_Rate_Matrix:\n",
      " [[0.5        0.5        0.5        0.33333333 0.66666667 0.66666667\n",
      "  0.66666667 0.66666667 0.66666667]]\n",
      "Detection_Rate_Matrix:\n",
      " [[1. 1. 1. 1. 1. 1. 1. 1. 1.]]\n"
     ]
    },
    {
     "name": "stderr",
     "output_type": "stream",
     "text": [
      "/global/common/software/cmb/cori/cmbenv-gcc_20200614/cmbenv_python/lib/python3.7/site-packages/ipykernel/__main__.py:6: FutureWarning: arrays to stack must be passed as a \"sequence\" type such as list or tuple. Support for non-sequence iterables such as generators is deprecated as of NumPy 1.16 and will raise an error in the future.\n"
     ]
    }
   ],
   "source": [
    "True_Positive_Rate_Matrix = []\n",
    "Detection_Rate_Matrix= []\n",
    "\n",
    "for my_obs in my_obs_list:\n",
    "    print('\\n')\n",
    "    det_set_list = context.obsfiledb.get_detsets(my_obs['obs_id'])[det_set_num1:det_set_num2]\n",
    "    print(my_obs['obs_id'])\n",
    "    \n",
    "    for det_set in det_set_list:\n",
    "        print(det_set)\n",
    "        dets = context.obsfiledb.get_dets(det_set)\n",
    "        tod = context.get_obs(my_obs, dets=dets[det_num1:det_num2])\n",
    "       # Trim tod\n",
    "        tsamp = np.median(np.diff(tod.timestamps))\n",
    "        n_cut = int(10//tsamp)\n",
    "        #print('Trimming in time...')\n",
    "        tod.restrict('samps', (n_cut, tod.samps.count-n_cut))\n",
    "        \n",
    "        True_Positive_Rate = []\n",
    "        False_Positive_Rate = []\n",
    "        Detection_Rate = []\n",
    "\n",
    "\n",
    "        for height in heights:\n",
    "            #print('height:', height)\n",
    "            if 'badness' in tod:\n",
    "                tod.move('badness', None)\n",
    "            # add glitches\n",
    "            sim_flags.add_random_glitches(tod, params={'n_glitch':n_glitch, 'sig_n_glitch' : 0,'h_glitch':height}, signal='badness', overwrite='False')\n",
    "\n",
    "            if signal_name in tod:\n",
    "                tod.move(signal_name, None)\n",
    "            # add the glitches to the tod\n",
    "            tod.wrap(signal_name, tod.signal+tod.badness, [(0, tod.dets), (1, tod.samps)])\n",
    "        \n",
    "            # method \n",
    "            detection_rate, true_positive_rate, false_positive_rate = test_glitch(tod, detail=False)\n",
    "            True_Positive_Rate.append(true_positive_rate)\n",
    "            Detection_Rate.append(detection_rate)\n",
    "        \n",
    "        True_Positive_Rate_Matrix.append(True_Positive_Rate)\n",
    "        Detection_Rate_Matrix.append(Detection_Rate)\n",
    "\n",
    "True_Positive_Rate_Matrix = np.array(True_Positive_Rate_Matrix)\n",
    "Detection_Rate_Matrix = np.array(Detection_Rate_Matrix)\n",
    "print('True_Positive_Rate_Matrix:\\n', True_Positive_Rate_Matrix)\n",
    "print('Detection_Rate_Matrix:\\n', Detection_Rate_Matrix)\n",
    "\n",
    "True_Positive_Rate = True_Positive_Rate_Matrix.mean(axis=0)\n",
    "Detection_Rate = Detection_Rate_Matrix.mean(axis=0)"
   ]
  },
  {
   "cell_type": "code",
   "execution_count": 80,
   "metadata": {},
   "outputs": [],
   "source": [
    "import pandas as pd\n",
    "df = pd.DataFrame(True_Positive_Rate_Matrix)\n",
    "df.to_csv('./output/TPR_%s.csv' %(det_set), index=False, header=heights)\n",
    "\n",
    "df = pd.DataFrame(Detection_Rate_Matrix)\n",
    "df.to_csv('./output/DR_%s.csv' %(det_set), index=False, header=heights)"
   ]
  },
  {
   "cell_type": "code",
   "execution_count": null,
   "metadata": {},
   "outputs": [],
   "source": []
  }
 ],
 "metadata": {
  "kernelspec": {
   "display_name": "Simons Observatory 20200623",
   "language": "python",
   "name": "so-env-20200623"
  },
  "language_info": {
   "codemirror_mode": {
    "name": "ipython",
    "version": 3
   },
   "file_extension": ".py",
   "mimetype": "text/x-python",
   "name": "python",
   "nbconvert_exporter": "python",
   "pygments_lexer": "ipython3",
   "version": "3.7.3"
  }
 },
 "nbformat": 4,
 "nbformat_minor": 4
}
