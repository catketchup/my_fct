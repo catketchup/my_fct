{
 "cells": [
  {
   "cell_type": "code",
   "execution_count": 145,
   "metadata": {},
   "outputs": [],
   "source": [
    "%matplotlib inline\n",
    "\n",
    "import numpy as np\n",
    "import matplotlib.pyplot as plt\n",
    "\n",
    "from sotodlib import core\n",
    "import sotodlib.io.load as io_load\n",
    "\n",
    "from moby2.analysis import socompat\n",
    "socompat.register_loaders()"
   ]
  },
  {
   "cell_type": "code",
   "execution_count": 146,
   "metadata": {},
   "outputs": [],
   "source": [
    "### This is used for .g3 files that are not part of an observation database\n",
    "#fname = '/mnt/so1/shared/todsims/pipe-s0001/v4/datadump_LAT_MFF1/CES-Atacama-LAT-Tier1DEC-035..-045_RA+040..+050-0-0/MFF1_wafer_13_00000000.g3'\n",
    "fname = '/global/project/projectdirs/sobs/todsims/pipe-s0001/v4/datadump_LAT_MFF1/CES-Atacama-LAT-Tier1DEC-035..-045_RA+040..+050-0-0/MFF1_wafer_13_00000000.g3'\n",
    "tod = io_load.load_file(fname)"
   ]
  },
  {
   "cell_type": "code",
   "execution_count": 147,
   "metadata": {},
   "outputs": [],
   "source": [
    "nersc_todsims = '/global/project/projectdirs/sobs/todsims/pipe-s0001/v4/context.yaml'\n",
    "nersc_actpol = '/global/project/projectdirs/sobs/users/mhasse/actpol_demo/uranus_200327/metadata/context.yaml'"
   ]
  },
  {
   "cell_type": "code",
   "execution_count": 148,
   "metadata": {},
   "outputs": [],
   "source": [
    "context = core.Context(nersc_todsims)"
   ]
  },
  {
   "cell_type": "code",
   "execution_count": 149,
   "metadata": {},
   "outputs": [
    {
     "name": "stdout",
     "output_type": "stream",
     "text": [
      "There are 380 observations currently in the database\n",
      "Observation:CES-Atacama-LAT-Tier1DEC-035..-045_RA+040..+050-21-0_MFF\n",
      "\t timestamp : 1626614093.009091\n",
      "\t drift : setting\n",
      "\t az_min : -141.84857751648792\n",
      "\t az_max : -128.821422483511\n",
      "\t az_med : -135.4197826219584\n",
      "\t el_min : 57.23000345371954\n",
      "\t el_max : 60.22999654516515\n",
      "\t el_med : 58.73\n",
      "\t is_const_el : 0\n",
      "\t is_const_az : 0\n",
      "\t is_stare : 0\n"
     ]
    },
    {
     "data": {
      "text/plain": [
       "collections.OrderedDict"
      ]
     },
     "execution_count": 149,
     "metadata": {},
     "output_type": "execute_result"
    }
   ],
   "source": [
    "obs_list = context.obsdb.get()\n",
    "\n",
    "print(\"There are {} observations currently in the database\".format(len(obs_list)))\n",
    "\n",
    "## Choose a random observation from the database\n",
    "# x = np.random.randint(len(obs_list))\n",
    "x = 138\n",
    "my_obs = obs_list[x]\n",
    "\n",
    "print('Observation:{}'.format(my_obs['obs_id']))\n",
    "\n",
    "for k in my_obs:\n",
    "    if k == 'obs_id':\n",
    "        continue\n",
    "    print('\\t', k,':', my_obs[k])\n",
    "    \n",
    "type(my_obs)"
   ]
  },
  {
   "cell_type": "markdown",
   "metadata": {},
   "source": [
    "FInding Specific Observations"
   ]
  },
  {
   "cell_type": "markdown",
   "metadata": {},
   "source": [
    "Loading Observations"
   ]
  },
  {
   "cell_type": "code",
   "execution_count": 150,
   "metadata": {},
   "outputs": [
    {
     "name": "stdout",
     "output_type": "stream",
     "text": [
      "The different detector sets are: \n",
      " ['MFF1_wafer_13', 'MFF1_wafer_14', 'MFF1_wafer_15', 'MFF1_wafer_16', 'MFF1_wafer_17', 'MFF1_wafer_18', 'MFF2_wafer_13', 'MFF2_wafer_14', 'MFF2_wafer_15', 'MFF2_wafer_16', 'MFF2_wafer_17', 'MFF2_wafer_18']\n"
     ]
    }
   ],
   "source": [
    "## Detector Sets are how the observation files are saved at the moment. \n",
    "det_sets = context.obsfiledb.get_detsets( my_obs['obs_id'] )\n",
    "print('The different detector sets are: \\n', det_sets)\n"
   ]
  },
  {
   "cell_type": "code",
   "execution_count": 151,
   "metadata": {},
   "outputs": [
    {
     "name": "stdout",
     "output_type": "stream",
     "text": [
      "MFF1_wafer_13\n",
      "\n",
      "The first 10 detectors of the first detector set are:\n",
      " ['13_000_MFF1_A', '13_000_MFF1_B', '13_001_MFF1_A', '13_001_MFF1_B', '13_002_MFF1_A', '13_002_MFF1_B', '13_003_MFF1_A', '13_003_MFF1_B', '13_004_MFF1_A', '13_004_MFF1_B']\n"
     ]
    }
   ],
   "source": [
    "# Hongbo: det_sets is a set of detectors, each set has its own name\n",
    "print(det_sets[0])\n",
    "# to get  detectors of a det_set\n",
    "dets = context.obsfiledb.get_dets(det_sets[0])\n",
    "print('\\nThe first 10 detectors of the first detector set are:\\n',dets[:10])\n",
    "\n",
    "### Just create a tod with 10 detectors\n",
    "tod = context.get_obs(my_obs, dets=dets[:10])"
   ]
  },
  {
   "cell_type": "code",
   "execution_count": 203,
   "metadata": {},
   "outputs": [
    {
     "data": {
      "text/plain": [
       "array([[9.572829 , 9.568788 , 9.571813 , ..., 9.779796 , 9.787439 ,\n",
       "        9.779038 ],\n",
       "       [9.57332  , 9.569824 , 9.577244 , ..., 9.79687  , 9.786265 ,\n",
       "        9.791448 ],\n",
       "       [9.570009 , 9.5763035, 9.560692 , ..., 9.785355 , 9.783514 ,\n",
       "        9.77744  ],\n",
       "       ...,\n",
       "       [9.567498 , 9.564495 , 9.566481 , ..., 9.784607 , 9.782862 ,\n",
       "        9.781806 ],\n",
       "       [9.561976 , 9.567677 , 9.572031 , ..., 9.786881 , 9.784866 ,\n",
       "        9.777049 ],\n",
       "       [9.56716  , 9.569625 , 9.562336 , ..., 9.7845125, 9.779762 ,\n",
       "        9.785077 ]], dtype=float32)"
      ]
     },
     "execution_count": 203,
     "metadata": {},
     "output_type": "execute_result"
    }
   ],
   "source": [
    "tod.signal"
   ]
  },
  {
   "cell_type": "code",
   "execution_count": 155,
   "metadata": {},
   "outputs": [
    {
     "data": {
      "text/plain": [
       "138"
      ]
     },
     "execution_count": 155,
     "metadata": {},
     "output_type": "execute_result"
    }
   ],
   "source": [
    "x"
   ]
  },
  {
   "cell_type": "code",
   "execution_count": 156,
   "metadata": {},
   "outputs": [
    {
     "data": {
      "text/plain": [
       "sotodlib.core.axisman.AxisManager"
      ]
     },
     "execution_count": 156,
     "metadata": {},
     "output_type": "execute_result"
    }
   ],
   "source": [
    "# Hongbo: what does a tod look like?\n",
    "type(tod)"
   ]
  },
  {
   "cell_type": "code",
   "execution_count": 158,
   "metadata": {},
   "outputs": [
    {
     "name": "stdout",
     "output_type": "stream",
     "text": [
      "This observation is 16.23 minutes long.\n",
      "                 It has 10 detectors loaded and 214278 samples\n",
      "This TOD AxisManager has 2 Axes: \n",
      "\tdets with 10 entries\n",
      "\tsamps with 214278 entries\n",
      "This TOD  AxisManager has fields : [axes]\n",
      "\tsignal : ['dets', 'samps']\n",
      "\ttimestamps : ['samps']\n",
      "\tboresight : ['samps']\n",
      "\t\t az : ['samps']\n",
      "\t\t el : ['samps']\n",
      "\t\t roll : ['samps']\n",
      "\tqboresight_azel : ['samps', None]\n",
      "\tqboresight_radec : ['samps', None]\n",
      "\tsite : ['samps']\n",
      "\t\t position : ['samps', None]\n",
      "\t\t velocity : ['samps', None]\n",
      "\tflags : ['dets', 'samps']\n",
      "\tfocal_plane : ['dets']\n",
      "\t\t quat : ['dets', None]\n",
      "\t\t xi : ['dets']\n",
      "\t\t eta : ['dets']\n",
      "\t\t gamma : ['dets']\n"
     ]
    }
   ],
   "source": [
    "def print_tod_info(tod):\n",
    "    if 'timestamps' in tod:\n",
    "        print(\"\"\"This observation is {} minutes long.\n",
    "                 It has {} detectors loaded and {} samples\"\"\".format(round((tod.timestamps[-1]-tod.timestamps[0])/60.,2),\n",
    "                                                                              tod.dets.count, tod.samps.count))\n",
    "\n",
    "    print('This TOD AxisManager has {} Axes: '.format(len(tod._axes)))\n",
    "    for k in tod._axes:\n",
    "        print('\\t{} with {} entries'.format(tod[k].name, tod[k].count ) )\n",
    "\n",
    "    print('This TOD  AxisManager has fields : [axes]')\n",
    "    for k in tod._fields:\n",
    "        print('\\t{} : {}'.format(k, tod._assignments[k]) )\n",
    "        if type(tod._fields[k]) is core.AxisManager:\n",
    "            for kk in tod[k]._fields:\n",
    "                print('\\t\\t {} : {}'.format(kk, tod[k]._assignments[kk] ))\n",
    "print_tod_info(tod)"
   ]
  },
  {
   "cell_type": "code",
   "execution_count": 159,
   "metadata": {},
   "outputs": [
    {
     "data": {
      "image/png": "[encoded data removed]",
      "text/plain": [
       "<Figure size 432x360 with 3 Axes>"
      ]
     },
     "metadata": {
      "needs_background": "light"
     },
     "output_type": "display_data"
    }
   ],
   "source": [
    "fig = plt.figure(figsize=(6,5))\n",
    "plt.subplot(3,1,1)\n",
    "plt.plot( tod.timestamps, np.degrees(tod.boresight.el) )\n",
    "plt.ylabel('Elevation (deg)')\n",
    "plt.subplot(3,1,2)\n",
    "\n",
    "plt.plot( tod.timestamps, np.degrees(tod.boresight.az) )\n",
    "plt.ylabel('Azimuth (deg)')\n",
    "plt.subplot(3,1,3)\n",
    "\n",
    "plt.plot( tod.timestamps, np.degrees(tod.boresight.roll) )\n",
    "plt.ylabel('Roll (deg)') \n",
    "plt.xlabel('Time (s)')\n",
    "\n",
    "fig.tight_layout()\n",
    "\n",
    "# Hongbo: tod.timestamps time on x axis"
   ]
  },
  {
   "cell_type": "code",
   "execution_count": 160,
   "metadata": {},
   "outputs": [
    {
     "data": {
      "text/plain": [
       "array([1.02503187, 1.02503133, 1.02502971, ..., 1.02504052, 1.02503674,\n",
       "       1.02503403])"
      ]
     },
     "execution_count": 160,
     "metadata": {},
     "output_type": "execute_result"
    }
   ],
   "source": [
    "tod.boresight.el\n",
    "# ? bore.boresight"
   ]
  },
  {
   "cell_type": "code",
   "execution_count": 161,
   "metadata": {},
   "outputs": [
    {
     "data": {
      "text/plain": [
       "array([1.62661409e+09, 1.62661409e+09, 1.62661409e+09, ...,\n",
       "       1.62661507e+09, 1.62661507e+09, 1.62661507e+09])"
      ]
     },
     "execution_count": 161,
     "metadata": {},
     "output_type": "execute_result"
    }
   ],
   "source": [
    "tod.timestamps"
   ]
  },
  {
   "cell_type": "markdown",
   "metadata": {},
   "source": [
    "Manipulating AxisManagers"
   ]
  },
  {
   "cell_type": "code",
   "execution_count": 162,
   "metadata": {},
   "outputs": [
    {
     "name": "stdout",
     "output_type": "stream",
     "text": [
      "Trimming in time...\n",
      "The TOD now has 209878 samples\n"
     ]
    }
   ],
   "source": [
    "# Hongbo: np.diff for differences on the time axis\n",
    "tsamp = np.median(np.diff(tod.timestamps))\n",
    "# hb: // for floor division\n",
    "n_cut = int(10//tsamp)\n",
    "print('Trimming in time...')\n",
    "\n",
    "tod.restrict('samps', (n_cut, tod.samps.count-n_cut))\n",
    "print('The TOD now has {} samples'.format(tod.samps.count))"
   ]
  },
  {
   "cell_type": "markdown",
   "metadata": {},
   "source": [
    "wrap() and move()"
   ]
  },
  {
   "cell_type": "code",
   "execution_count": 163,
   "metadata": {},
   "outputs": [
    {
     "data": {
      "text/plain": [
       "AxisManager(signal[dets,samps], timestamps[samps], boresight*[samps], qboresight_azel[samps,4], qboresight_radec[samps,4], site*[samps], flags*[dets,samps], focal_plane*[dets], sig_mean[samps], dets:LabelAxis(10), samps:OffsetAxis(209878))"
      ]
     },
     "execution_count": 163,
     "metadata": {},
     "output_type": "execute_result"
    }
   ],
   "source": [
    "sig_mean = np.mean( tod.signal, axis = 0)\n",
    "tod.wrap('sig_mean', sig_mean, [(0,tod.samps)])"
   ]
  },
  {
   "cell_type": "code",
   "execution_count": 164,
   "metadata": {},
   "outputs": [
    {
     "data": {
      "image/png": "[encoded data removed]",
      "text/plain": [
       "<Figure size 432x252 with 1 Axes>"
      ]
     },
     "metadata": {
      "needs_background": "light"
     },
     "output_type": "display_data"
    }
   ],
   "source": [
    "fig = plt.figure(figsize=(6,3.5))\n",
    "# hb: this loop is for the 10 detectors' measurements\n",
    "for i in range(tod.dets.count):\n",
    "    plt.plot(tod.timestamps, tod.signal[i])\n",
    "if hasattr(tod, 'sig_mean'):\n",
    "    plt.plot(tod.timestamps, tod.sig_mean, 'k-')\n",
    "plt.xlabel('Time (s)')\n",
    "plt.ylabel('Signal (K)')\n",
    "fig.tight_layout()"
   ]
  },
  {
   "cell_type": "code",
   "execution_count": 165,
   "metadata": {},
   "outputs": [
    {
     "data": {
      "text/plain": [
       "array([[9.572829 , 9.568788 , 9.571813 , ..., 9.779796 , 9.787439 ,\n",
       "        9.779038 ],\n",
       "       [9.57332  , 9.569824 , 9.577244 , ..., 9.79687  , 9.786265 ,\n",
       "        9.791448 ],\n",
       "       [9.570009 , 9.5763035, 9.560692 , ..., 9.785355 , 9.783514 ,\n",
       "        9.77744  ],\n",
       "       ...,\n",
       "       [9.567498 , 9.564495 , 9.566481 , ..., 9.784607 , 9.782862 ,\n",
       "        9.781806 ],\n",
       "       [9.561976 , 9.567677 , 9.572031 , ..., 9.786881 , 9.784866 ,\n",
       "        9.777049 ],\n",
       "       [9.56716  , 9.569625 , 9.562336 , ..., 9.7845125, 9.779762 ,\n",
       "        9.785077 ]], dtype=float32)"
      ]
     },
     "execution_count": 165,
     "metadata": {},
     "output_type": "execute_result"
    }
   ],
   "source": [
    "# hb: Look at ACTpol DataHow to understand the tod.signla?\n",
    "tod.signal\n"
   ]
  },
  {
   "cell_type": "markdown",
   "metadata": {},
   "source": [
    "Look at ACTpol Data"
   ]
  },
  {
   "cell_type": "code",
   "execution_count": 166,
   "metadata": {},
   "outputs": [
    {
     "name": "stdout",
     "output_type": "stream",
     "text": [
      "There are 45 observations currently in the ACT database\n",
      "This TOD AxisManager has 2 Axes: \n",
      "\tdets with 1255 entries\n",
      "\tsamps with 217784 entries\n",
      "This TOD  AxisManager has fields : [axes]\n",
      "\tglitch_flags : ['dets', 'samps']\n",
      "\tsource_flags : ['dets', 'samps']\n",
      "\trelcal : ['dets']\n",
      "\ttimeconst : ['dets']\n",
      "\tabscal : ['dets']\n",
      "\tfocal_plane : ['dets']\n",
      "\t\t act_x : ['dets']\n",
      "\t\t act_y : ['dets']\n",
      "\t\t act_pol : ['dets']\n",
      "\t\t xi : ['dets']\n",
      "\t\t eta : ['dets']\n",
      "\t\t gamma : ['dets']\n",
      "\tpointofs : ['dets']\n",
      "\t\t dx : ['dets']\n",
      "\t\t dy : ['dets']\n",
      "\t\t gamma : ['dets']\n"
     ]
    }
   ],
   "source": [
    "#context = core.Context('simons1_pipe_act_uranus.yaml')\n",
    "context = core.Context(nersc_actpol)\n",
    "obs_list = context.obsdb.get()\n",
    "print(\"There are {} observations currently in the ACT database\".format(len(obs_list)))\n",
    "\n",
    "## Choose a random observation from the database\n",
    "x = np.random.randint(len(obs_list))\n",
    "my_obs = obs_list[x]\n",
    "\n",
    "## Detector Sets are how the observation files are saved at the moment. \n",
    "det_sets = context.obsfiledb.get_detsets( my_obs['obs_id'] )\n",
    "dets = context.obsfiledb.get_dets(det_sets[0])\n",
    "\n",
    "### Just create a tod with 10 detectors\n",
    "#act_tod = context.get_obs(my_obs)#, dets=dets[:10])\n",
    "\n",
    "### Create a tod with just metadata and not the signal data\n",
    "## This is so we can load all the detectors metadata without loading all the timestreams\n",
    "act_tod = context.get_meta(my_obs['obs_id'])\n",
    "\n",
    "print_tod_info(act_tod)"
   ]
  },
  {
   "cell_type": "code",
   "execution_count": 167,
   "metadata": {},
   "outputs": [
    {
     "name": "stdout",
     "output_type": "stream",
     "text": [
      "1500022313.0\n",
      "<class 'sotoddb.resultset.ResultSet'>\n",
      "<class 'collections.OrderedDict'>\n"
     ]
    }
   ],
   "source": [
    "# hb: obs_list is a ResultSet object, (like a list)\n",
    "print(obs_list[10]['timestamp'])\n",
    "print(type(obs_list))\n",
    "my_obs = obs_list[x]\n",
    "# hb: my_obs, or say each element of obs_list is a OrderedDict object\n",
    "print(type(my_obs))"
   ]
  },
  {
   "cell_type": "code",
   "execution_count": 168,
   "metadata": {},
   "outputs": [
    {
     "data": {
      "text/plain": [
       "AxisManager(act_x[dets], act_y[dets], act_pol[dets], xi[dets], eta[dets], gamma[dets], dets:LabelAxis(1255))"
      ]
     },
     "execution_count": 168,
     "metadata": {},
     "output_type": "execute_result"
    }
   ],
   "source": [
    "act_tod.focal_plane"
   ]
  },
  {
   "cell_type": "code",
   "execution_count": 169,
   "metadata": {},
   "outputs": [
    {
     "data": {
      "image/png": "[encoded data removed]",
      "text/plain": [
       "<Figure size 360x252 with 2 Axes>"
      ]
     },
     "metadata": {
      "needs_background": "light"
     },
     "output_type": "display_data"
    }
   ],
   "source": [
    "fig=plt.figure(figsize=(5,3.5))\n",
    "# hb?: plt.scatter, how to understand this scatter plot?\n",
    "# hb?: how to understand the focal plane?\n",
    "# hb?: what is the timeconst?\n",
    "plt.scatter(act_tod.focal_plane.act_x, act_tod.focal_plane.act_y,c=act_tod.timeconst)\n",
    "cb = plt.colorbar()\n",
    "cb.set_label('Time constant')\n",
    "plt.xlim(-0.01,0.01)\n",
    "plt.ylim(0.005,0.025);\n",
    "fig.tight_layout()"
   ]
  },
  {
   "cell_type": "code",
   "execution_count": 170,
   "metadata": {},
   "outputs": [
    {
     "name": "stdout",
     "output_type": "stream",
     "text": [
      "<class 'numpy.ndarray'>\n",
      "1\n",
      "1255\n"
     ]
    }
   ],
   "source": [
    "#print(act_tod.timeconst)\n",
    "print(type(act_tod.timeconst))\n",
    "print(act_tod.timeconst.ndim)\n",
    "print(act_tod.timeconst.size)"
   ]
  },
  {
   "cell_type": "code",
   "execution_count": 171,
   "metadata": {},
   "outputs": [
    {
     "data": {
      "text/plain": [
       "1255"
      ]
     },
     "execution_count": 171,
     "metadata": {},
     "output_type": "execute_result"
    }
   ],
   "source": [
    "act_tod.focal_plane.act_y.size"
   ]
  },
  {
   "cell_type": "markdown",
   "metadata": {},
   "source": [
    "Flags and Timestream Operations"
   ]
  },
  {
   "cell_type": "code",
   "execution_count": 172,
   "metadata": {},
   "outputs": [],
   "source": [
    "# hb?: what are flags?\n",
    "# hb?: what is FlagManager?\n",
    "# hb?: what is AxisManager? \n",
    "from sotodlib.core import FlagManager\n",
    "\n",
    "import sotodlib.flags as flags\n",
    "import sotodlib.sim_flags as sim_flags\n",
    "\n",
    "import sotodlib.tod_ops.filters as filters\n",
    "\n",
    "from sotodlib.tod_ops import fourier_filter, rfft, detrend_data"
   ]
  },
  {
   "cell_type": "code",
   "execution_count": 173,
   "metadata": {},
   "outputs": [],
   "source": [
    "# hb?: what is Range and RangeMatix?\n",
    "from so3g.proj import Ranges, RangesMatrix"
   ]
  },
  {
   "cell_type": "code",
   "execution_count": 174,
   "metadata": {},
   "outputs": [
    {
     "name": "stdout",
     "output_type": "stream",
     "text": [
      "T1: [[100 200]]\n",
      "~T1: [[     0    100]\n",
      " [   200 209878]]\n",
      "T2: [[150 250]]\n",
      "T1 + T2 = [[100 250]]\n",
      "T1 * T2 = [[150 200]]\n"
     ]
    }
   ],
   "source": [
    "t1_flag = Ranges(tod.samps.count, tod.samps.offset)\n",
    "t1_flag.add_interval( 100,200)\n",
    "print('T1: {}'.format(t1_flag.ranges()))\n",
    "print('~T1: {}'.format((~t1_flag).ranges()))\n",
    "\n",
    "t2_flag = Ranges(tod.samps.count, tod.samps.offset)\n",
    "t2_flag.add_interval( 150,250)\n",
    "print('T2: {}'.format(t2_flag.ranges()))\n",
    "\n",
    "# hb?: the '+'  operataion and '*' operation\n",
    "print('T1 + T2 = {}'.format( (t1_flag+t2_flag).ranges()))\n",
    "print('T1 * T2 = {}'.format( (t1_flag*t2_flag).ranges()))"
   ]
  },
  {
   "cell_type": "code",
   "execution_count": 175,
   "metadata": {},
   "outputs": [
    {
     "name": "stdout",
     "output_type": "stream",
     "text": [
      "209878\n",
      "2200\n"
     ]
    }
   ],
   "source": [
    "# hb: tod = context.get_obs(my_obs, dets=dets[:10])\n",
    "type(tod)\n",
    "# tod is a AxisManager object\n",
    "type(tod.samps)\n",
    "# tod.samps is an OffsetAxis\n",
    "print(tod.samps.count)\n",
    "print(tod.samps.offset)"
   ]
  },
  {
   "cell_type": "code",
   "execution_count": 176,
   "metadata": {},
   "outputs": [
    {
     "data": {
      "text/plain": [
       "so3g.RangesInt32"
      ]
     },
     "execution_count": 176,
     "metadata": {},
     "output_type": "execute_result"
    }
   ],
   "source": [
    "type(t1_flag)"
   ]
  },
  {
   "cell_type": "markdown",
   "metadata": {},
   "source": [
    "Use Turn-around flags to get scan rate"
   ]
  },
  {
   "cell_type": "code",
   "execution_count": 177,
   "metadata": {},
   "outputs": [
    {
     "name": "stdout",
     "output_type": "stream",
     "text": [
      "Ranges(n=209878:rngs=129)\n"
     ]
    }
   ],
   "source": [
    "flags.get_turnaround_flags(tod, merge=True, name='turnarounds');\n",
    "print( tod.flags.turnarounds )"
   ]
  },
  {
   "cell_type": "code",
   "execution_count": 178,
   "metadata": {},
   "outputs": [
    {
     "name": "stdout",
     "output_type": "stream",
     "text": [
      "The scan rate is 1.927 deg / s\n",
      "We turn around every 7.405 s\n"
     ]
    }
   ],
   "source": [
    "tmsk = tod.flags.turnarounds.mask()\n",
    "scan_rate = np.median( np.abs(np.diff(tod.boresight.az[~tmsk]))) / np.median(np.diff(tod.timestamps))\n",
    "print( 'The scan rate is {} deg / s'.format(round(np.degrees(scan_rate),3) ))\n",
    "\n",
    "turn = np.where( np.diff(tod.timestamps[tmsk]) > 0.005 )[0]\n",
    "turn_time = np.median( np.diff(tod.timestamps[tmsk][turn]))\n",
    "print('We turn around every {} s'.format(round(turn_time,3)))"
   ]
  },
  {
   "cell_type": "code",
   "execution_count": 179,
   "metadata": {},
   "outputs": [
    {
     "data": {
      "image/png": "[encoded data removed]",
      "text/plain": [
       "<Figure size 288x252 with 1 Axes>"
      ]
     },
     "metadata": {
      "needs_background": "light"
     },
     "output_type": "display_data"
    }
   ],
   "source": [
    "fig=plt.figure(figsize=(4,3.5))\n",
    "nslice = 10000\n",
    "plt.plot( tod.timestamps[:nslice], tod.boresight.az[:nslice])\n",
    "plt.plot( tod.timestamps[:nslice][tmsk[:nslice]], tod.boresight.az[:nslice][tmsk[:nslice]], 'o')\n",
    "plt.xlabel('Time (s)');\n",
    "plt.ylabel('Azimuth (rad)')\n",
    "plt.title('v4 sims')\n",
    "\n",
    "fig.tight_layout()"
   ]
  },
  {
   "cell_type": "markdown",
   "metadata": {},
   "source": [
    "Glitch / Jump Example"
   ]
  },
  {
   "cell_type": "code",
   "execution_count": 180,
   "metadata": {},
   "outputs": [
    {
     "name": "stdout",
     "output_type": "stream",
     "text": [
      "Adding Offsets to detectors\n",
      "Adding Trends to Detectors\n",
      "Adding 9 glitches to 6 detectors\n",
      "Adding 2 jumps to 2 detectors\n"
     ]
    }
   ],
   "source": [
    "sim_flags.add_random_offsets(tod, verbose=True, signal='badness')\n",
    "sim_flags.add_random_trends(tod, verbose=True, signal='badness', overwrite=False)\n",
    "sim_flags.add_random_glitches(tod, verbose=True, signal='badness', overwrite=False)\n",
    "sim_flags.add_random_jumps(tod, verbose=True, signal='badness', overwrite=False)"
   ]
  },
  {
   "cell_type": "code",
   "execution_count": 181,
   "metadata": {},
   "outputs": [
    {
     "data": {
      "text/plain": [
       "array([[ 3.74476018,  3.74476066,  3.74476115, ...,  3.84614907,\n",
       "         3.84614956,  3.84615004],\n",
       "       [-7.78355914, -7.78355857, -7.78355799, ..., -7.66294227,\n",
       "        -7.66294169, -7.66294112],\n",
       "       [ 1.02100024,  1.02100068,  1.02100112, ...,  1.11322479,\n",
       "         1.11322523,  1.11322566],\n",
       "       ...,\n",
       "       [ 2.20420177,  2.20420217,  2.20420257, ...,  2.39112557,\n",
       "         2.39112597,  2.39112637],\n",
       "       [-8.3282173 , -8.32821682, -8.32821634, ..., -8.12636942,\n",
       "        -8.12636894, -8.12636846],\n",
       "       [-3.01380367, -3.01380322, -3.01380277, ..., -2.91943674,\n",
       "        -2.9194363 , -2.91943585]])"
      ]
     },
     "execution_count": 181,
     "metadata": {},
     "output_type": "execute_result"
    }
   ],
   "source": [
    "tod.badness"
   ]
  },
  {
   "cell_type": "code",
   "execution_count": 182,
   "metadata": {},
   "outputs": [
    {
     "data": {
      "text/plain": [
       "[<matplotlib.lines.Line2D at 0x2aab8025ec88>]"
      ]
     },
     "execution_count": 182,
     "metadata": {},
     "output_type": "execute_result"
    },
    {
     "data": {
      "image/png": "[encoded data removed]",
      "text/plain": [
       "<Figure size 432x288 with 1 Axes>"
      ]
     },
     "metadata": {
      "needs_background": "light"
     },
     "output_type": "display_data"
    }
   ],
   "source": [
    "tod.signal[0]\n",
    "plt.plot(tod.timestamps, tod.signal[1])\n",
    "#plt.plot(tod.timestamps, tod.signal[2])\n",
    "plt.plot(tod.timestamps, tod.badness[1])"
   ]
  },
  {
   "cell_type": "code",
   "execution_count": 183,
   "metadata": {},
   "outputs": [
    {
     "data": {
      "image/png": "[encoded data removed]",
      "text/plain": [
       "<Figure size 324x252 with 1 Axes>"
      ]
     },
     "metadata": {
      "needs_background": "light"
     },
     "output_type": "display_data"
    }
   ],
   "source": [
    "# hb: add tod.signal and tod.badness together\n",
    "plt.figure(figsize=(4.5,3.5))\n",
    "for i in range(tod.dets.count):\n",
    "    plt.plot( tod.timestamps, tod.signal[i]+tod.badness[i] )\n",
    "# hb: before adding badness, the tods are in the similar height, after adding badness, the height\n",
    "# difference is very large. This is due to offsets?"
   ]
  },
  {
   "cell_type": "code",
   "execution_count": 184,
   "metadata": {},
   "outputs": [
    {
     "data": {
      "image/png": "[encoded data removed]",
      "text/plain": [
       "<Figure size 432x288 with 1 Axes>"
      ]
     },
     "metadata": {
      "needs_background": "light"
     },
     "output_type": "display_data"
    }
   ],
   "source": [
    "# hb: plot badness itself\n",
    "for i in range(tod.dets.count):\n",
    "    plt.plot( tod.timestamps, tod.badness[i] )"
   ]
  },
  {
   "cell_type": "code",
   "execution_count": 185,
   "metadata": {},
   "outputs": [],
   "source": [
    "## if bad signal is already there, remove it\n",
    "if 'bad_signal' in tod:\n",
    "    tod.move('bad_signal', None)\n",
    "    \n",
    "## add the bad signal to the tod\n",
    "tod.wrap('bad_signal', tod.signal+tod.badness, \n",
    "         [(0,tod.dets), (1,tod.samps)])\n",
    "\n",
    "## basic edge detection method (borrowed from moby2). \n",
    "flags.get_glitch_flags(tod, signal='bad_signal', overwrite=True);"
   ]
  },
  {
   "cell_type": "code",
   "execution_count": 186,
   "metadata": {},
   "outputs": [
    {
     "name": "stdout",
     "output_type": "stream",
     "text": [
      "The Flag Manager currently contains 4 set(s) of flags\n",
      "\tturnarounds : ['samps']\n",
      "\ttrue_glitches : ['dets', 'samps']\n",
      "\ttrue_jumps : ['dets', 'samps']\n",
      "\tglitches : ['dets', 'samps']\n",
      "The glitch detector flagged:\n",
      "{'samples': [1149, 2789, 2033, 1209, 1165, 431, 416, 1605, 831, 431], 'intervals': [3, 5, 4, 3, 3, 2, 2, 4, 3, 2]}\n"
     ]
    }
   ],
   "source": [
    "print('The Flag Manager currently contains {} set(s) of flags'.format(len(tod.flags._fields)))\n",
    "for k in tod.flags._fields:\n",
    "    print('\\t{} : {}'.format(k, tod.flags._assignments[k]) ) \n",
    "    \n",
    "print('The glitch detector flagged:\\n{}'.format(tod.flags.glitches.get_stats()))"
   ]
  },
  {
   "cell_type": "code",
   "execution_count": 187,
   "metadata": {},
   "outputs": [
    {
     "name": "stdout",
     "output_type": "stream",
     "text": [
      "Adding 10 glitches to 6 detectors\n"
     ]
    }
   ],
   "source": [
    "sim_flags.add_random_glitches(tod, verbose=True, signal='badness', overwrite=False)"
   ]
  },
  {
   "cell_type": "code",
   "execution_count": 188,
   "metadata": {},
   "outputs": [
    {
     "data": {
      "image/png": "[encoded data removed]",
      "text/plain": [
       "<Figure size 324x252 with 1 Axes>"
      ]
     },
     "metadata": {
      "needs_background": "light"
     },
     "output_type": "display_data"
    }
   ],
   "source": [
    "plt.figure(figsize=(4.5,3.5))\n",
    "for i in range(tod.dets.count):\n",
    "    plt.plot( tod.timestamps, tod.signal[i]+tod.badness[i] )"
   ]
  },
  {
   "cell_type": "code",
   "execution_count": 190,
   "metadata": {},
   "outputs": [
    {
     "data": {
      "text/plain": [
       "45"
      ]
     },
     "execution_count": 190,
     "metadata": {},
     "output_type": "execute_result"
    }
   ],
   "source": [
    "len(obs_list)"
   ]
  },
  {
   "cell_type": "markdown",
   "metadata": {},
   "source": [
    "Back to nersc tod sims"
   ]
  },
  {
   "cell_type": "code",
   "execution_count": 208,
   "metadata": {},
   "outputs": [],
   "source": [
    "test_context = core.Context(nersc_todsims)"
   ]
  },
  {
   "cell_type": "code",
   "execution_count": 219,
   "metadata": {},
   "outputs": [],
   "source": [
    "test_obs_list = test_context.obsdb.get()\n",
    "len(test_obs_list)\n",
    "test_tod = io_load.load_file(fname)"
   ]
  },
  {
   "cell_type": "code",
   "execution_count": 220,
   "metadata": {},
   "outputs": [],
   "source": [
    "# hb: input a height for the added glitches and then flags.get_glitch_flags\n",
    "# let's have a new tod\n",
    "\n",
    "# get test_obs from obs_list\n",
    "test_obs = test_obs_list[138]\n",
    "# get test_tod from test_obs\n",
    "dets = context.obsfiledb.get_dets(det_sets[0])\n",
    "test_tod = context.get_obs(test_obs, dets=dets[:10])"
   ]
  },
  {
   "cell_type": "code",
   "execution_count": 221,
   "metadata": {},
   "outputs": [
    {
     "name": "stdout",
     "output_type": "stream",
     "text": [
      "Observation: CES-Atacama-LAT-Tier1DEC-035..-045_RA+040..+050-21-0_MFF\n",
      "\t timestamp : 1626614093.009091\n",
      "\t drift : setting\n",
      "\t az_min : -141.84857751648792\n",
      "\t az_max : -128.821422483511\n",
      "\t az_med : -135.4197826219584\n",
      "\t el_min : 57.23000345371954\n",
      "\t el_max : 60.22999654516515\n",
      "\t el_med : 58.73\n",
      "\t is_const_el : 0\n",
      "\t is_const_az : 0\n",
      "\t is_stare : 0\n"
     ]
    }
   ],
   "source": [
    "print(\"Observation: {}\".format(test_obs['obs_id']))\n",
    "for k in test_obs:\n",
    "    if k == 'obs_id':\n",
    "        continue\n",
    "    print('\\t', k,':', test_obs[k])"
   ]
  },
  {
   "cell_type": "code",
   "execution_count": 222,
   "metadata": {},
   "outputs": [
    {
     "data": {
      "text/plain": [
       "array([], shape=(0, 214278), dtype=float32)"
      ]
     },
     "execution_count": 222,
     "metadata": {},
     "output_type": "execute_result"
    }
   ],
   "source": [
    "test_tod.signal"
   ]
  },
  {
   "cell_type": "code",
   "execution_count": 223,
   "metadata": {},
   "outputs": [
    {
     "ename": "IndexError",
     "evalue": "index 2 is out of bounds for axis 0 with size 0",
     "output_type": "error",
     "traceback": [
      "\u001b[0;31m---------------------------------------------------------------------------\u001b[0m",
      "\u001b[0;31mIndexError\u001b[0m                                Traceback (most recent call last)",
      "\u001b[0;32m<ipython-input-223-b7d7385790a6>\u001b[0m in \u001b[0;36m<module>\u001b[0;34m\u001b[0m\n\u001b[0;32m----> 1\u001b[0;31m \u001b[0mplt\u001b[0m\u001b[0;34m.\u001b[0m\u001b[0mplot\u001b[0m\u001b[0;34m(\u001b[0m\u001b[0mtest_tod\u001b[0m\u001b[0;34m.\u001b[0m\u001b[0mtimestamps\u001b[0m\u001b[0;34m,\u001b[0m \u001b[0mtest_tod\u001b[0m\u001b[0;34m.\u001b[0m\u001b[0msignal\u001b[0m\u001b[0;34m[\u001b[0m\u001b[0;36m2\u001b[0m\u001b[0;34m]\u001b[0m\u001b[0;34m)\u001b[0m\u001b[0;34m\u001b[0m\u001b[0;34m\u001b[0m\u001b[0m\n\u001b[0m",
      "\u001b[0;31mIndexError\u001b[0m: index 2 is out of bounds for axis 0 with size 0"
     ]
    }
   ],
   "source": [
    "plt.plot(test_tod.timestamps, test_tod.signal[2])"
   ]
  },
  {
   "cell_type": "code",
   "execution_count": 196,
   "metadata": {},
   "outputs": [
    {
     "data": {
      "image/png": "[encoded data removed]",
      "text/plain": [
       "<Figure size 432x252 with 1 Axes>"
      ]
     },
     "metadata": {
      "needs_background": "light"
     },
     "output_type": "display_data"
    }
   ],
   "source": [
    "fig = plt.figure(figsize=(6,3.5))\n",
    "for i in range(test_tod.dets.count):\n",
    "    plt.plot(test_tod.timestamps, test_tod.signal[i])\n",
    "plt.xlabel('Time (s)')\n",
    "plt.ylabel('Signal (K)')\n",
    "fig.tight_layout()"
   ]
  },
  {
   "cell_type": "code",
   "execution_count": null,
   "metadata": {},
   "outputs": [],
   "source": []
  }
 ],
 "metadata": {
  "kernelspec": {
   "display_name": "Simons Observatory 20200623",
   "language": "python",
   "name": "so-env-20200623"
  },
  "language_info": {
   "codemirror_mode": {
    "name": "ipython",
    "version": 3
   },
   "file_extension": ".py",
   "mimetype": "text/x-python",
   "name": "python",
   "nbconvert_exporter": "python",
   "pygments_lexer": "ipython3",
   "version": "3.7.3"
  }
 },
 "nbformat": 4,
 "nbformat_minor": 4
}
